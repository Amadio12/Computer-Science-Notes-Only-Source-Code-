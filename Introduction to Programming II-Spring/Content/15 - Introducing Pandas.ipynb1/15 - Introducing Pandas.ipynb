{
 "cells": [
  {
   "cell_type": "markdown",
   "metadata": {},
   "source": [
    "# Data Manipulation & Analysis With Pandas"
   ]
  },
  {
   "cell_type": "markdown",
   "metadata": {},
   "source": [
    "## Introduction"
   ]
  },
  {
   "cell_type": "markdown",
   "metadata": {},
   "source": [
    "**pandas** is a Python library that provides high-performance, easy-to-use data structures and data analysis tools. In many ways pandas provides a Python equivilent of the data analysis and manipulation tools avialble in the R programming language. Full details of pandas are available at [pandas.pydata.org](http://pandas.pydata.org/)\n",
    "\n",
    "pandas fits very nicely as part of the iPython Notebook environment along with librarires such as numpy, scikit learn, and matplotlib."
   ]
  },
  {
   "cell_type": "markdown",
   "metadata": {},
   "source": [
    "The pandas website describes the highlights of the pandas library as:\n",
    "\n",
    "* A fast and efficient DataFrame object for data manipulation with integrated indexing;\n",
    "* Tools for reading and writing data between in-memory data structures and different formats: CSV and text files, Microsoft Excel, SQL databases, and the fast HDF5 format;\n",
    "* Intelligent data alignment and integrated handling of missing data: gain automatic label-based alignment in computations and easily manipulate messy data into an orderly form;\n",
    "* Flexible reshaping and pivoting of data sets;\n",
    "* Intelligent label-based slicing, fancy indexing, and subsetting of large data sets;\n",
    "* Columns can be inserted and deleted from data structures for size mutability;\n",
    "* Aggregating or transforming data with a powerful group by engine allowing split-apply-combine operations on data sets;\n",
    "* High performance merging and joining of data sets;\n",
    "* Hierarchical axis indexing provides an intuitive way of working with high-dimensional data in a lower-dimensional data structure;\n",
    "* Time series-functionality: date range generation and frequency conversion, moving window statistics, moving window linear regressions, date shifting and lagging. Even create domain-specific time offsets and join time series without losing data;\n",
    "* Highly optimized for performance, with critical code paths written in Cython or C.\n",
    "* Python with pandas is in use in a wide variety of academic and commercial domains, including Finance, Neuroscience, Economics, Statistics, Advertising, Web Analytics, and more.\n",
    "\n",
    "\n"
   ]
  },
  {
   "cell_type": "markdown",
   "metadata": {},
   "source": [
    "## Pandas Data Structures"
   ]
  },
  {
   "cell_type": "markdown",
   "metadata": {},
   "source": [
    "To get started we import the **pandas** library (and the **numpy** library as much of pandas is based on this)."
   ]
  },
  {
   "cell_type": "code",
   "execution_count": null,
   "metadata": {},
   "outputs": [],
   "source": [
    "from IPython.display import display, HTML\n",
    "import pandas as pd\n",
    "import numpy as np"
   ]
  },
  {
   "cell_type": "markdown",
   "metadata": {},
   "source": [
    "Pandas offers two key data structures that are optimised for data analysis and manipulation: **Series** and **DataFrame**. the key distinction of these data structures over basic Python data structures is that they make it easy to associate labels with data - for example row and column names. "
   ]
  },
  {
   "cell_type": "markdown",
   "metadata": {},
   "source": [
    "### Series"
   ]
  },
  {
   "cell_type": "markdown",
   "metadata": {},
   "source": [
    "In pandas a Series is a one-dimensional array capable of holding any data type (integers, strings, floating point numbers, Python objects, etc.).  the difference between this and a basic Python list or tuple is that the elements in the array can have a custom label, or **index** - that is they are not limited to a simple nueric index like the basic Python data structures."
   ]
  },
  {
   "cell_type": "markdown",
   "metadata": {},
   "source": [
    "#### Creation"
   ]
  },
  {
   "cell_type": "markdown",
   "metadata": {},
   "source": [
    "To create a pandas Series we use the **Series** method. The simplest way to create a pandas Series is to pass it a list of values and use a simple numeric index (a not very exictiing way to use a pandas Series!)."
   ]
  },
  {
   "cell_type": "code",
   "execution_count": null,
   "metadata": {},
   "outputs": [],
   "source": [
    "my_series = pd.Series([45, 232, 45, 67, 1, 88, 99, 65])\n",
    "print(my_series)"
   ]
  },
  {
   "cell_type": "markdown",
   "metadata": {},
   "source": [
    "We can also explictily pass a list of index values to the Series method so as to use a more intersting index. For example:"
   ]
  },
  {
   "cell_type": "code",
   "execution_count": null,
   "metadata": {},
   "outputs": [],
   "source": [
    "populations = pd.Series([1357000000, 1252000000, 321068000, 249900000, 200400000, 191854000], \n",
    "                        [\"China\", \"India\", \"United States\", \"Indonesia\", \"Brazil\", \"Pakistan\"])\n",
    "print(populations)"
   ]
  },
  {
   "cell_type": "markdown",
   "metadata": {},
   "source": [
    "This is very similar to a Python dictionary. In fact we can create a pandas series directly from a Python dictionary:"
   ]
  },
  {
   "cell_type": "code",
   "execution_count": null,
   "metadata": {},
   "outputs": [],
   "source": [
    "populations = pd.Series({\"China\":1357000000, \"India\":1252000000, \"United States\":321068000, \"Indonesia\":249900000, \"Brazil\":200400000, \"Pakistan\":191854000})\n",
    "print(populations)"
   ]
  },
  {
   "cell_type": "markdown",
   "metadata": {},
   "source": [
    "#### Operations"
   ]
  },
  {
   "cell_type": "markdown",
   "metadata": {},
   "source": [
    "The pandas Series object, however, supports interesting data analysis functionality. For example, we can perform a range of simple analysis tasks on this Series object:"
   ]
  },
  {
   "cell_type": "code",
   "execution_count": null,
   "metadata": {},
   "outputs": [],
   "source": [
    "populations.min()"
   ]
  },
  {
   "cell_type": "code",
   "execution_count": null,
   "metadata": {},
   "outputs": [],
   "source": [
    "populations.max()"
   ]
  },
  {
   "cell_type": "code",
   "execution_count": null,
   "metadata": {},
   "outputs": [],
   "source": [
    "populations.median()"
   ]
  },
  {
   "cell_type": "code",
   "execution_count": null,
   "metadata": {},
   "outputs": [],
   "source": [
    "populations.mean()"
   ]
  },
  {
   "cell_type": "code",
   "execution_count": null,
   "metadata": {
    "scrolled": true
   },
   "outputs": [],
   "source": [
    "populations.std()"
   ]
  },
  {
   "cell_type": "markdown",
   "metadata": {},
   "source": [
    "The **describe** method generates a nice summary set of descriptive statistics:"
   ]
  },
  {
   "cell_type": "code",
   "execution_count": null,
   "metadata": {},
   "outputs": [],
   "source": [
    "populations.describe()"
   ]
  },
  {
   "cell_type": "markdown",
   "metadata": {},
   "source": [
    "#### Access & Manipulation"
   ]
  },
  {
   "cell_type": "markdown",
   "metadata": {},
   "source": [
    "A pandas Series offers a number of choices for accessing elements. We can use simple index numbers:"
   ]
  },
  {
   "cell_type": "code",
   "execution_count": null,
   "metadata": {},
   "outputs": [],
   "source": [
    "populations[0]"
   ]
  },
  {
   "cell_type": "code",
   "execution_count": null,
   "metadata": {},
   "outputs": [],
   "source": [
    "populations[5]"
   ]
  },
  {
   "cell_type": "markdown",
   "metadata": {},
   "source": [
    "We can use slicing through the **:** operator (remenber that **start:end** includes the elements from index start up to but not including index end): "
   ]
  },
  {
   "cell_type": "code",
   "execution_count": null,
   "metadata": {},
   "outputs": [],
   "source": [
    "populations[2:5]"
   ]
  },
  {
   "cell_type": "code",
   "execution_count": null,
   "metadata": {},
   "outputs": [],
   "source": [
    "populations[:5]"
   ]
  },
  {
   "cell_type": "code",
   "execution_count": null,
   "metadata": {},
   "outputs": [],
   "source": [
    "populations[2:]"
   ]
  },
  {
   "cell_type": "markdown",
   "metadata": {},
   "source": [
    "We can also provide Boolean expressions for conditional data acess. For example, to generate a list of countries with populations greater than 1 billion we use:"
   ]
  },
  {
   "cell_type": "code",
   "execution_count": null,
   "metadata": {},
   "outputs": [],
   "source": [
    "populations[populations > 1000000000]"
   ]
  },
  {
   "cell_type": "markdown",
   "metadata": {},
   "source": [
    "We can also access elements using the index defined at creation (like we would with a dictionary):"
   ]
  },
  {
   "cell_type": "code",
   "execution_count": null,
   "metadata": {},
   "outputs": [],
   "source": [
    "populations"
   ]
  },
  {
   "cell_type": "code",
   "execution_count": null,
   "metadata": {},
   "outputs": [],
   "source": [
    "populations[\"Brazil\"]"
   ]
  },
  {
   "cell_type": "markdown",
   "metadata": {},
   "source": [
    "Using the index is also the easiest way to change elements in a pandas Series:"
   ]
  },
  {
   "cell_type": "code",
   "execution_count": null,
   "metadata": {
    "scrolled": true
   },
   "outputs": [],
   "source": [
    "populations[\"China\"] = 1374730000\n",
    "print(populations)"
   ]
  },
  {
   "cell_type": "markdown",
   "metadata": {},
   "source": [
    "Although changes can always also be made using numeric indices:"
   ]
  },
  {
   "cell_type": "code",
   "execution_count": null,
   "metadata": {},
   "outputs": [],
   "source": [
    "populations[2] = 1236344631\n",
    "print(populations)"
   ]
  },
  {
   "cell_type": "markdown",
   "metadata": {},
   "source": [
    "### DataFrame"
   ]
  },
  {
   "cell_type": "markdown",
   "metadata": {},
   "source": [
    "A pandas **DataFrame** is a 2-dimensional labeled data structure with columns of data that can be of different types. The DataFrame is essentially equivilent to a spreadsheet, and SQL table, and R data frame, or a SAS dataset. The DataFrame is the most commonly used pandas object and usually why we use pandas. Rows and columns in a DataFrame can be labelled, which allows for easy data access.\n"
   ]
  },
  {
   "cell_type": "code",
   "execution_count": null,
   "metadata": {},
   "outputs": [],
   "source": [
    "from IPython.display import display, HTML\n",
    "import pandas as pd\n",
    "import numpy as np"
   ]
  },
  {
   "cell_type": "markdown",
   "metadata": {},
   "source": [
    "#### Creation"
   ]
  },
  {
   "cell_type": "markdown",
   "metadata": {},
   "source": [
    "The easiest way to create a pandas DataFrame is to pass the **DataFrame** method a dictionary of lists (each list will be a **column** in the DataFrame):"
   ]
  },
  {
   "cell_type": "code",
   "execution_count": null,
   "metadata": {},
   "outputs": [],
   "source": [
    "countries = pd.DataFrame({\"Country\":[\"China\", \"India\", \"United States\", \"Indonesia\", \"Brazil\", \"Pakistan\"],\n",
    "                          \"Population\":[1357000000, 1252000000, 321068000, 249900000, 200400000, 191854000],\n",
    "                          \"GDP\":[11384760, 2182580, 17968200, 888648, 1799610, 246849],\n",
    "                          \"Life Expectancy\":[75.41, 68.13, 79.68, 72.45, 73.53, 67.39]})\n",
    "display(countries)"
   ]
  },
  {
   "cell_type": "markdown",
   "metadata": {},
   "source": [
    "Data frames can also be created easily using a list of dictionary objects each of which defines data using the same data format:"
   ]
  },
  {
   "cell_type": "code",
   "execution_count": null,
   "metadata": {},
   "outputs": [],
   "source": [
    "countries = pd.DataFrame([{\"Country\":\"China\", \"Population\":1357000000, \"GDP\":11384760, \"Life Expectancy\":75.41},\n",
    "                         {\"Country\":\"India\", \"Population\":1252000000, \"GDP\":2182580, \"Life Expectancy\":68.13},\n",
    "                         {\"Country\":\"United States\", \"Population\":321068000, \"GDP\":17968200, \"Life Expectancy\":79.68},\n",
    "                         {\"Country\":\"Indonesia\", \"Population\":249900000, \"GDP\":888648, \"Life Expectancy\":72.45},\n",
    "                         {\"Country\":\"Brazil\", \"Population\":200400000, \"Life Expectancy\":73.53},\n",
    "                         {\"Country\":\"Pakistan\", \"Population\":191854000, \"GDP\":246849, \"Life Expectancy\":67.39}])\n",
    "display(countries)"
   ]
  },
  {
   "cell_type": "markdown",
   "metadata": {},
   "source": [
    "Note that the DataFrame is able to gracefully handle the missing GDP value for Brazil. This is one of the advantages of a pandas DataFrame."
   ]
  },
  {
   "cell_type": "markdown",
   "metadata": {},
   "source": [
    "Another nice thing about pandas is that we can load a DataFrame directly from a .csv file using the **read_csv** method. In this example we read data about a longer list of countries:"
   ]
  },
  {
   "cell_type": "code",
   "execution_count": null,
   "metadata": {},
   "outputs": [],
   "source": [
    "extended_countries = pd.read_csv('FMLPDA_Table_5_ex_3.csv')\n",
    "display(extended_countries)"
   ]
  },
  {
   "cell_type": "markdown",
   "metadata": {},
   "source": [
    "The **head** and **tail** methods can be used to show the first or last few lines of a DataFrame:"
   ]
  },
  {
   "cell_type": "code",
   "execution_count": null,
   "metadata": {},
   "outputs": [],
   "source": [
    "extended_countries.head()"
   ]
  },
  {
   "cell_type": "code",
   "execution_count": null,
   "metadata": {},
   "outputs": [],
   "source": [
    "extended_countries.tail(8)"
   ]
  },
  {
   "cell_type": "markdown",
   "metadata": {},
   "source": [
    "#### Operations"
   ]
  },
  {
   "cell_type": "markdown",
   "metadata": {},
   "source": [
    "pandas offers a range of easy to use analysis operations for DataFrames. For example the basic statistics operators return a value for each column in the DataFrame:"
   ]
  },
  {
   "cell_type": "code",
   "execution_count": null,
   "metadata": {},
   "outputs": [],
   "source": [
    "extended_countries.mean()"
   ]
  },
  {
   "cell_type": "code",
   "execution_count": null,
   "metadata": {},
   "outputs": [],
   "source": [
    "extended_countries.median()"
   ]
  },
  {
   "cell_type": "code",
   "execution_count": null,
   "metadata": {
    "scrolled": true
   },
   "outputs": [],
   "source": [
    "extended_countries.max()"
   ]
  },
  {
   "cell_type": "code",
   "execution_count": null,
   "metadata": {},
   "outputs": [],
   "source": [
    "extended_countries.describe()"
   ]
  },
  {
   "cell_type": "markdown",
   "metadata": {},
   "source": [
    "#### Filtering Columns"
   ]
  },
  {
   "cell_type": "markdown",
   "metadata": {},
   "source": [
    "Accessing *columns* in a DataFrame is simply a matter of using the name of the column (similar to dictionary selection) to give a single column Series:"
   ]
  },
  {
   "cell_type": "code",
   "execution_count": null,
   "metadata": {
    "scrolled": true
   },
   "outputs": [],
   "source": [
    "extended_countries[\"School Years\"]"
   ]
  },
  {
   "cell_type": "code",
   "execution_count": null,
   "metadata": {},
   "outputs": [],
   "source": [
    "extended_countries.columns"
   ]
  },
  {
   "cell_type": "markdown",
   "metadata": {},
   "source": [
    "We can easily select multiple columns by passing a list of column names:"
   ]
  },
  {
   "cell_type": "code",
   "execution_count": null,
   "metadata": {
    "scrolled": true
   },
   "outputs": [],
   "source": [
    "school_details \\\n",
    "= extended_countries[[\"Country ID\",\"School Years\"]]\n",
    "display(school_details)"
   ]
  },
  {
   "cell_type": "code",
   "execution_count": null,
   "metadata": {},
   "outputs": [],
   "source": [
    "display(extended_countries)"
   ]
  },
  {
   "cell_type": "markdown",
   "metadata": {},
   "source": [
    "We can access rows either using row labels or row indices using the **loc** or **iloc** methods which both return a series (although in our example these will give the same result):"
   ]
  },
  {
   "cell_type": "code",
   "execution_count": null,
   "metadata": {},
   "outputs": [],
   "source": [
    "extended_countries.loc[1]"
   ]
  },
  {
   "cell_type": "code",
   "execution_count": null,
   "metadata": {},
   "outputs": [],
   "source": [
    "extended_countries.iloc[1]"
   ]
  },
  {
   "cell_type": "markdown",
   "metadata": {},
   "source": [
    "Columns in a DataFrame are easily removed using the **del** operator:"
   ]
  },
  {
   "cell_type": "code",
   "execution_count": null,
   "metadata": {},
   "outputs": [],
   "source": [
    "display(extended_countries.head())\n",
    "del extended_countries[\"CPI\"]\n",
    "display(extended_countries.head())"
   ]
  },
  {
   "cell_type": "markdown",
   "metadata": {},
   "source": [
    "#### Filtering Rows"
   ]
  },
  {
   "cell_type": "markdown",
   "metadata": {},
   "source": [
    "We can also easily slice by rows to get an extract from a DataFrame:"
   ]
  },
  {
   "cell_type": "code",
   "execution_count": null,
   "metadata": {
    "scrolled": true
   },
   "outputs": [],
   "source": [
    "extended_countries[4:9]"
   ]
  },
  {
   "cell_type": "markdown",
   "metadata": {},
   "source": [
    "One very useful way to slice a DataFrame is using a condition. We can pass a list of Bollean values to a DataFrame indicating which rows should be retained (True) and which should be filtered (False). A suitable list is easily generated using a simple Boolean expression on a column from the DataFrame:"
   ]
  },
  {
   "cell_type": "code",
   "execution_count": null,
   "metadata": {},
   "outputs": [],
   "source": [
    "extended_countries[extended_countries[\"CPI\"] > 6]"
   ]
  },
  {
   "cell_type": "code",
   "execution_count": null,
   "metadata": {
    "scrolled": true
   },
   "outputs": [],
   "source": [
    "mean_CPI = extended_countries[\"Life Exp.\"].mean()\n",
    "extended_countries[extended_countries[\"Life Exp.\"] < mean_CPI]"
   ]
  },
  {
   "cell_type": "markdown",
   "metadata": {},
   "source": [
    "This list can be passed directly to the DataFrame to perform a filtering:"
   ]
  },
  {
   "cell_type": "code",
   "execution_count": null,
   "metadata": {
    "scrolled": false
   },
   "outputs": [],
   "source": [
    "military_countries = extended_countries[extended_countries[\"Mil. Spend\"] > 2]\n",
    "display(military_countries)"
   ]
  },
  {
   "cell_type": "code",
   "execution_count": null,
   "metadata": {},
   "outputs": [],
   "source": [
    "#condition = \\\n",
    "# (extended_countries[\"School Years\"] > 10) & \\\n",
    "#                  (extended_countries[\"Mil. Spend\"] > 2)\n",
    "\n",
    "s_and_s = extended_countries[(extended_countries[\"School Years\"] < 10) | \\\n",
    "                  (extended_countries[\"Mil. Spend\"] > 2)]\n",
    "display(s_and_s)\n",
    "s_and_s.describe()"
   ]
  },
  {
   "cell_type": "markdown",
   "metadata": {},
   "source": [
    "We can also delete rows using the **drop** function."
   ]
  },
  {
   "cell_type": "code",
   "execution_count": null,
   "metadata": {},
   "outputs": [],
   "source": [
    "display(extended_countries)"
   ]
  },
  {
   "cell_type": "code",
   "execution_count": null,
   "metadata": {},
   "outputs": [],
   "source": [
    "extended_countries = extended_countries.drop(extended_countries.index[[6, 12]])\n",
    "display(extended_countries)"
   ]
  },
  {
   "cell_type": "markdown",
   "metadata": {},
   "source": [
    "#### Filtering Columns & Rows"
   ]
  },
  {
   "cell_type": "markdown",
   "metadata": {},
   "source": [
    "We can combine row selection and column selection using the **loc** method. We pass it the row slice first, followed by a list of column headings. For example:"
   ]
  },
  {
   "cell_type": "code",
   "execution_count": null,
   "metadata": {},
   "outputs": [],
   "source": [
    "extended_countries.loc[(extended_countries[\"School Years\"] > 10), [\"Country ID\", \"Top-10 Income\"]]"
   ]
  },
  {
   "cell_type": "markdown",
   "metadata": {},
   "source": [
    "We can do the same thing using numeric indices for columns and rows rather than labels using the **iloc** method:"
   ]
  },
  {
   "cell_type": "code",
   "execution_count": null,
   "metadata": {},
   "outputs": [],
   "source": [
    "extended_countries.iloc[1:5, 2:4]"
   ]
  },
  {
   "cell_type": "markdown",
   "metadata": {},
   "source": [
    "#### Deriving New Fields"
   ]
  },
  {
   "cell_type": "markdown",
   "metadata": {},
   "source": [
    "This simple data frame contains people's age, height and weight"
   ]
  },
  {
   "cell_type": "code",
   "execution_count": null,
   "metadata": {},
   "outputs": [],
   "source": [
    "num_people = 100\n",
    "weights = np.random.normal(75, 10, num_people)\n",
    "heights = np.random.normal(170, 10, num_people)\n",
    "ages =  np.random.gamma(5.5, 10, num_people)\n",
    "\n",
    "people = pd.DataFrame({'weight':weights,'age':ages, 'height':heights})\n",
    "display(people)"
   ]
  },
  {
   "cell_type": "code",
   "execution_count": null,
   "metadata": {},
   "outputs": [],
   "source": [
    "age_thresh = 65\n",
    "people['old'] = people['age'] > age_thresh\n",
    "display(people)"
   ]
  },
  {
   "cell_type": "code",
   "execution_count": null,
   "metadata": {},
   "outputs": [],
   "source": [
    "people['BMI'] \\\n",
    "= people['weight']/((people['height']/100)*(people['height']/100))\n",
    "display(people)"
   ]
  },
  {
   "cell_type": "code",
   "execution_count": null,
   "metadata": {},
   "outputs": [],
   "source": [
    "old_people = people[people['old'] == True]\n",
    "\n",
    "young_people = people[people['old'] == False]\n",
    "\n",
    "display(old_people.head())\n",
    "display(young_people.head())\n"
   ]
  },
  {
   "cell_type": "code",
   "execution_count": null,
   "metadata": {},
   "outputs": [],
   "source": [
    "old_people.mean()"
   ]
  },
  {
   "cell_type": "code",
   "execution_count": null,
   "metadata": {},
   "outputs": [],
   "source": [
    "young_people.mean()"
   ]
  },
  {
   "cell_type": "code",
   "execution_count": null,
   "metadata": {},
   "outputs": [],
   "source": [
    "%matplotlib inline\n",
    "young_people['BMI'].hist()"
   ]
  },
  {
   "cell_type": "code",
   "execution_count": null,
   "metadata": {},
   "outputs": [],
   "source": [
    "old_people['BMI'].hist()"
   ]
  },
  {
   "cell_type": "code",
   "execution_count": null,
   "metadata": {},
   "outputs": [],
   "source": [
    "print(\"Mean old BMI: \", old_people['BMI'].mean())\n",
    "print(\"Mean young BMI: \", young_people['BMI'].mean())"
   ]
  },
  {
   "cell_type": "markdown",
   "metadata": {},
   "source": [
    "From this we can easily calculate BMI"
   ]
  },
  {
   "cell_type": "markdown",
   "metadata": {},
   "source": [
    "We can easily add new columns to a DataFrame by simply referring to the new column name in an expression. For example:"
   ]
  },
  {
   "cell_type": "code",
   "execution_count": null,
   "metadata": {},
   "outputs": [],
   "source": [
    "display(extended_countries)"
   ]
  },
  {
   "cell_type": "code",
   "execution_count": null,
   "metadata": {},
   "outputs": [],
   "source": [
    "extended_countries[\"High Education\"] = True\n",
    "extended_countries.head()"
   ]
  },
  {
   "cell_type": "markdown",
   "metadata": {},
   "source": [
    "Or more interestingly using other columns in the DataFrame:"
   ]
  },
  {
   "cell_type": "code",
   "execution_count": null,
   "metadata": {
    "scrolled": true
   },
   "outputs": [],
   "source": [
    "extended_countries[\"High Education\"] \\\n",
    "    = extended_countries[\"School Years\"] > 10\n",
    "extended_countries.head()"
   ]
  },
  {
   "cell_type": "code",
   "execution_count": null,
   "metadata": {},
   "outputs": [],
   "source": [
    "extended_countries[\"Mil School Ratio\"] = \\\n",
    "    extended_countries[\"Mil. Spend\"] / extended_countries[\"School Years\"]\n",
    "extended_countries.head()"
   ]
  },
  {
   "cell_type": "markdown",
   "metadata": {},
   "source": [
    "Adding new rows to a DataFrame is easy using the **append** method. For example to append the first 5 rows of the DataFrame again at the end:"
   ]
  },
  {
   "cell_type": "code",
   "execution_count": null,
   "metadata": {
    "scrolled": true
   },
   "outputs": [],
   "source": [
    "extra_rows = extended_countries[0:6]\n",
    "extended_countries.append(extra_rows, ignore_index=True) # ignore_index tells pandas not to repat row indices"
   ]
  },
  {
   "cell_type": "markdown",
   "metadata": {},
   "source": [
    "The **describe** method gives a nice set of summary descriptive statistics for each column:"
   ]
  },
  {
   "cell_type": "code",
   "execution_count": null,
   "metadata": {},
   "outputs": [],
   "source": [
    "extended_countries.describe()"
   ]
  },
  {
   "cell_type": "markdown",
   "metadata": {},
   "source": [
    "#### Merging DataFrames"
   ]
  },
  {
   "cell_type": "markdown",
   "metadata": {},
   "source": [
    "We can also *merge* together DataFrames in SQL style join operations using the **merge** method. For example"
   ]
  },
  {
   "cell_type": "code",
   "execution_count": 90,
   "metadata": {
    "scrolled": true
   },
   "outputs": [],
   "source": [
    "country_populations = pd.read_csv('FMLPDA_Table_5_ex_3a.csv')"
   ]
  },
  {
   "cell_type": "code",
   "execution_count": 91,
   "metadata": {},
   "outputs": [
    {
     "data": {
      "text/html": [
       "<div>\n",
       "<style scoped>\n",
       "    .dataframe tbody tr th:only-of-type {\n",
       "        vertical-align: middle;\n",
       "    }\n",
       "\n",
       "    .dataframe tbody tr th {\n",
       "        vertical-align: top;\n",
       "    }\n",
       "\n",
       "    .dataframe thead th {\n",
       "        text-align: right;\n",
       "    }\n",
       "</style>\n",
       "<table border=\"1\" class=\"dataframe\">\n",
       "  <thead>\n",
       "    <tr style=\"text-align: right;\">\n",
       "      <th></th>\n",
       "      <th>Country ID</th>\n",
       "      <th>Population</th>\n",
       "    </tr>\n",
       "  </thead>\n",
       "  <tbody>\n",
       "    <tr>\n",
       "      <th>0</th>\n",
       "      <td>Afghanistan</td>\n",
       "      <td>27101365</td>\n",
       "    </tr>\n",
       "    <tr>\n",
       "      <th>1</th>\n",
       "      <td>Nigeria</td>\n",
       "      <td>186988000</td>\n",
       "    </tr>\n",
       "    <tr>\n",
       "      <th>2</th>\n",
       "      <td>Nicaragua</td>\n",
       "      <td>6198154</td>\n",
       "    </tr>\n",
       "    <tr>\n",
       "      <th>3</th>\n",
       "      <td>Egypt</td>\n",
       "      <td>90369500</td>\n",
       "    </tr>\n",
       "    <tr>\n",
       "      <th>4</th>\n",
       "      <td>Argentina</td>\n",
       "      <td>43590400</td>\n",
       "    </tr>\n",
       "    <tr>\n",
       "      <th>5</th>\n",
       "      <td>China</td>\n",
       "      <td>1357000000</td>\n",
       "    </tr>\n",
       "    <tr>\n",
       "      <th>6</th>\n",
       "      <td>Brazil</td>\n",
       "      <td>200400000</td>\n",
       "    </tr>\n",
       "    <tr>\n",
       "      <th>7</th>\n",
       "      <td>U.S.A</td>\n",
       "      <td>321068000</td>\n",
       "    </tr>\n",
       "    <tr>\n",
       "      <th>8</th>\n",
       "      <td>Ireland</td>\n",
       "      <td>4635400</td>\n",
       "    </tr>\n",
       "    <tr>\n",
       "      <th>9</th>\n",
       "      <td>U.K.</td>\n",
       "      <td>65097000</td>\n",
       "    </tr>\n",
       "    <tr>\n",
       "      <th>10</th>\n",
       "      <td>Germany</td>\n",
       "      <td>81459000</td>\n",
       "    </tr>\n",
       "    <tr>\n",
       "      <th>11</th>\n",
       "      <td>Samoa</td>\n",
       "      <td>187820</td>\n",
       "    </tr>\n",
       "    <tr>\n",
       "      <th>12</th>\n",
       "      <td>Canada</td>\n",
       "      <td>35985751</td>\n",
       "    </tr>\n",
       "    <tr>\n",
       "      <th>13</th>\n",
       "      <td>Australia</td>\n",
       "      <td>23992700</td>\n",
       "    </tr>\n",
       "    <tr>\n",
       "      <th>14</th>\n",
       "      <td>Sweden</td>\n",
       "      <td>9845155</td>\n",
       "    </tr>\n",
       "    <tr>\n",
       "      <th>15</th>\n",
       "      <td>New Zealand</td>\n",
       "      <td>4659070</td>\n",
       "    </tr>\n",
       "  </tbody>\n",
       "</table>\n",
       "</div>"
      ],
      "text/plain": [
       "     Country ID  Population\n",
       "0   Afghanistan    27101365\n",
       "1       Nigeria   186988000\n",
       "2     Nicaragua     6198154\n",
       "3         Egypt    90369500\n",
       "4     Argentina    43590400\n",
       "5         China  1357000000\n",
       "6        Brazil   200400000\n",
       "7         U.S.A   321068000\n",
       "8       Ireland     4635400\n",
       "9          U.K.    65097000\n",
       "10      Germany    81459000\n",
       "11        Samoa      187820\n",
       "12       Canada    35985751\n",
       "13    Australia    23992700\n",
       "14       Sweden     9845155\n",
       "15  New Zealand     4659070"
      ]
     },
     "metadata": {},
     "output_type": "display_data"
    }
   ],
   "source": [
    "display(country_populations)"
   ]
  },
  {
   "cell_type": "code",
   "execution_count": 92,
   "metadata": {},
   "outputs": [
    {
     "data": {
      "text/html": [
       "<div>\n",
       "<style scoped>\n",
       "    .dataframe tbody tr th:only-of-type {\n",
       "        vertical-align: middle;\n",
       "    }\n",
       "\n",
       "    .dataframe tbody tr th {\n",
       "        vertical-align: top;\n",
       "    }\n",
       "\n",
       "    .dataframe thead th {\n",
       "        text-align: right;\n",
       "    }\n",
       "</style>\n",
       "<table border=\"1\" class=\"dataframe\">\n",
       "  <thead>\n",
       "    <tr style=\"text-align: right;\">\n",
       "      <th></th>\n",
       "      <th>Country ID</th>\n",
       "      <th>Life Exp.</th>\n",
       "      <th>Top-10 Income</th>\n",
       "      <th>Infant Mort.</th>\n",
       "      <th>Mil. Spend</th>\n",
       "      <th>School Years</th>\n",
       "      <th>High Education</th>\n",
       "      <th>Mil School Ratio</th>\n",
       "    </tr>\n",
       "  </thead>\n",
       "  <tbody>\n",
       "    <tr>\n",
       "      <th>0</th>\n",
       "      <td>Afghanistan</td>\n",
       "      <td>59.61</td>\n",
       "      <td>23.21</td>\n",
       "      <td>74.3</td>\n",
       "      <td>4.44</td>\n",
       "      <td>0.4</td>\n",
       "      <td>False</td>\n",
       "      <td>11.100000</td>\n",
       "    </tr>\n",
       "    <tr>\n",
       "      <th>1</th>\n",
       "      <td>Haiti</td>\n",
       "      <td>45.00</td>\n",
       "      <td>47.67</td>\n",
       "      <td>73.1</td>\n",
       "      <td>0.09</td>\n",
       "      <td>3.4</td>\n",
       "      <td>False</td>\n",
       "      <td>0.026471</td>\n",
       "    </tr>\n",
       "    <tr>\n",
       "      <th>2</th>\n",
       "      <td>Nigeria</td>\n",
       "      <td>51.30</td>\n",
       "      <td>38.23</td>\n",
       "      <td>82.6</td>\n",
       "      <td>1.07</td>\n",
       "      <td>4.1</td>\n",
       "      <td>False</td>\n",
       "      <td>0.260976</td>\n",
       "    </tr>\n",
       "    <tr>\n",
       "      <th>3</th>\n",
       "      <td>Egypt</td>\n",
       "      <td>70.48</td>\n",
       "      <td>26.58</td>\n",
       "      <td>19.6</td>\n",
       "      <td>1.86</td>\n",
       "      <td>5.3</td>\n",
       "      <td>False</td>\n",
       "      <td>0.350943</td>\n",
       "    </tr>\n",
       "    <tr>\n",
       "      <th>4</th>\n",
       "      <td>Argentina</td>\n",
       "      <td>75.77</td>\n",
       "      <td>32.30</td>\n",
       "      <td>13.3</td>\n",
       "      <td>0.76</td>\n",
       "      <td>10.1</td>\n",
       "      <td>True</td>\n",
       "      <td>0.075248</td>\n",
       "    </tr>\n",
       "    <tr>\n",
       "      <th>5</th>\n",
       "      <td>China</td>\n",
       "      <td>74.87</td>\n",
       "      <td>29.98</td>\n",
       "      <td>13.7</td>\n",
       "      <td>1.95</td>\n",
       "      <td>6.4</td>\n",
       "      <td>False</td>\n",
       "      <td>0.304688</td>\n",
       "    </tr>\n",
       "    <tr>\n",
       "      <th>7</th>\n",
       "      <td>Israel</td>\n",
       "      <td>81.30</td>\n",
       "      <td>28.80</td>\n",
       "      <td>3.6</td>\n",
       "      <td>6.77</td>\n",
       "      <td>12.5</td>\n",
       "      <td>True</td>\n",
       "      <td>0.541600</td>\n",
       "    </tr>\n",
       "    <tr>\n",
       "      <th>8</th>\n",
       "      <td>U.S.A</td>\n",
       "      <td>78.51</td>\n",
       "      <td>29.85</td>\n",
       "      <td>6.3</td>\n",
       "      <td>4.72</td>\n",
       "      <td>13.7</td>\n",
       "      <td>True</td>\n",
       "      <td>0.344526</td>\n",
       "    </tr>\n",
       "    <tr>\n",
       "      <th>9</th>\n",
       "      <td>Ireland</td>\n",
       "      <td>80.15</td>\n",
       "      <td>27.23</td>\n",
       "      <td>3.5</td>\n",
       "      <td>0.60</td>\n",
       "      <td>11.5</td>\n",
       "      <td>True</td>\n",
       "      <td>0.052174</td>\n",
       "    </tr>\n",
       "    <tr>\n",
       "      <th>10</th>\n",
       "      <td>U.K.</td>\n",
       "      <td>80.09</td>\n",
       "      <td>28.49</td>\n",
       "      <td>4.4</td>\n",
       "      <td>2.59</td>\n",
       "      <td>13.0</td>\n",
       "      <td>True</td>\n",
       "      <td>0.199231</td>\n",
       "    </tr>\n",
       "    <tr>\n",
       "      <th>11</th>\n",
       "      <td>Germany</td>\n",
       "      <td>80.24</td>\n",
       "      <td>22.07</td>\n",
       "      <td>3.5</td>\n",
       "      <td>1.31</td>\n",
       "      <td>12.0</td>\n",
       "      <td>True</td>\n",
       "      <td>0.109167</td>\n",
       "    </tr>\n",
       "    <tr>\n",
       "      <th>13</th>\n",
       "      <td>Australia</td>\n",
       "      <td>82.09</td>\n",
       "      <td>25.40</td>\n",
       "      <td>4.2</td>\n",
       "      <td>1.86</td>\n",
       "      <td>11.5</td>\n",
       "      <td>True</td>\n",
       "      <td>0.161739</td>\n",
       "    </tr>\n",
       "    <tr>\n",
       "      <th>14</th>\n",
       "      <td>Sweden</td>\n",
       "      <td>81.43</td>\n",
       "      <td>22.18</td>\n",
       "      <td>2.4</td>\n",
       "      <td>1.27</td>\n",
       "      <td>12.8</td>\n",
       "      <td>True</td>\n",
       "      <td>0.099219</td>\n",
       "    </tr>\n",
       "    <tr>\n",
       "      <th>15</th>\n",
       "      <td>New Zealand</td>\n",
       "      <td>80.67</td>\n",
       "      <td>27.81</td>\n",
       "      <td>4.9</td>\n",
       "      <td>1.13</td>\n",
       "      <td>12.3</td>\n",
       "      <td>True</td>\n",
       "      <td>0.091870</td>\n",
       "    </tr>\n",
       "  </tbody>\n",
       "</table>\n",
       "</div>"
      ],
      "text/plain": [
       "     Country ID  Life Exp.  Top-10 Income  Infant Mort.  Mil. Spend  \\\n",
       "0   Afghanistan      59.61          23.21          74.3        4.44   \n",
       "1         Haiti      45.00          47.67          73.1        0.09   \n",
       "2       Nigeria      51.30          38.23          82.6        1.07   \n",
       "3         Egypt      70.48          26.58          19.6        1.86   \n",
       "4     Argentina      75.77          32.30          13.3        0.76   \n",
       "5         China      74.87          29.98          13.7        1.95   \n",
       "7        Israel      81.30          28.80           3.6        6.77   \n",
       "8         U.S.A      78.51          29.85           6.3        4.72   \n",
       "9       Ireland      80.15          27.23           3.5        0.60   \n",
       "10         U.K.      80.09          28.49           4.4        2.59   \n",
       "11      Germany      80.24          22.07           3.5        1.31   \n",
       "13    Australia      82.09          25.40           4.2        1.86   \n",
       "14       Sweden      81.43          22.18           2.4        1.27   \n",
       "15  New Zealand      80.67          27.81           4.9        1.13   \n",
       "\n",
       "    School Years  High Education  Mil School Ratio  \n",
       "0            0.4           False         11.100000  \n",
       "1            3.4           False          0.026471  \n",
       "2            4.1           False          0.260976  \n",
       "3            5.3           False          0.350943  \n",
       "4           10.1            True          0.075248  \n",
       "5            6.4           False          0.304688  \n",
       "7           12.5            True          0.541600  \n",
       "8           13.7            True          0.344526  \n",
       "9           11.5            True          0.052174  \n",
       "10          13.0            True          0.199231  \n",
       "11          12.0            True          0.109167  \n",
       "13          11.5            True          0.161739  \n",
       "14          12.8            True          0.099219  \n",
       "15          12.3            True          0.091870  "
      ]
     },
     "metadata": {},
     "output_type": "display_data"
    }
   ],
   "source": [
    "display(extended_countries)"
   ]
  },
  {
   "cell_type": "code",
   "execution_count": 93,
   "metadata": {},
   "outputs": [
    {
     "data": {
      "text/html": [
       "<div>\n",
       "<style scoped>\n",
       "    .dataframe tbody tr th:only-of-type {\n",
       "        vertical-align: middle;\n",
       "    }\n",
       "\n",
       "    .dataframe tbody tr th {\n",
       "        vertical-align: top;\n",
       "    }\n",
       "\n",
       "    .dataframe thead th {\n",
       "        text-align: right;\n",
       "    }\n",
       "</style>\n",
       "<table border=\"1\" class=\"dataframe\">\n",
       "  <thead>\n",
       "    <tr style=\"text-align: right;\">\n",
       "      <th></th>\n",
       "      <th>Country ID</th>\n",
       "      <th>Life Exp.</th>\n",
       "      <th>Top-10 Income</th>\n",
       "      <th>Infant Mort.</th>\n",
       "      <th>Mil. Spend</th>\n",
       "      <th>School Years</th>\n",
       "      <th>High Education</th>\n",
       "      <th>Mil School Ratio</th>\n",
       "      <th>Population</th>\n",
       "    </tr>\n",
       "  </thead>\n",
       "  <tbody>\n",
       "    <tr>\n",
       "      <th>0</th>\n",
       "      <td>Afghanistan</td>\n",
       "      <td>59.61</td>\n",
       "      <td>23.21</td>\n",
       "      <td>74.3</td>\n",
       "      <td>4.44</td>\n",
       "      <td>0.4</td>\n",
       "      <td>False</td>\n",
       "      <td>11.100000</td>\n",
       "      <td>27101365</td>\n",
       "    </tr>\n",
       "    <tr>\n",
       "      <th>1</th>\n",
       "      <td>Nigeria</td>\n",
       "      <td>51.30</td>\n",
       "      <td>38.23</td>\n",
       "      <td>82.6</td>\n",
       "      <td>1.07</td>\n",
       "      <td>4.1</td>\n",
       "      <td>False</td>\n",
       "      <td>0.260976</td>\n",
       "      <td>186988000</td>\n",
       "    </tr>\n",
       "    <tr>\n",
       "      <th>2</th>\n",
       "      <td>Egypt</td>\n",
       "      <td>70.48</td>\n",
       "      <td>26.58</td>\n",
       "      <td>19.6</td>\n",
       "      <td>1.86</td>\n",
       "      <td>5.3</td>\n",
       "      <td>False</td>\n",
       "      <td>0.350943</td>\n",
       "      <td>90369500</td>\n",
       "    </tr>\n",
       "    <tr>\n",
       "      <th>3</th>\n",
       "      <td>Argentina</td>\n",
       "      <td>75.77</td>\n",
       "      <td>32.30</td>\n",
       "      <td>13.3</td>\n",
       "      <td>0.76</td>\n",
       "      <td>10.1</td>\n",
       "      <td>True</td>\n",
       "      <td>0.075248</td>\n",
       "      <td>43590400</td>\n",
       "    </tr>\n",
       "    <tr>\n",
       "      <th>4</th>\n",
       "      <td>China</td>\n",
       "      <td>74.87</td>\n",
       "      <td>29.98</td>\n",
       "      <td>13.7</td>\n",
       "      <td>1.95</td>\n",
       "      <td>6.4</td>\n",
       "      <td>False</td>\n",
       "      <td>0.304688</td>\n",
       "      <td>1357000000</td>\n",
       "    </tr>\n",
       "    <tr>\n",
       "      <th>5</th>\n",
       "      <td>U.S.A</td>\n",
       "      <td>78.51</td>\n",
       "      <td>29.85</td>\n",
       "      <td>6.3</td>\n",
       "      <td>4.72</td>\n",
       "      <td>13.7</td>\n",
       "      <td>True</td>\n",
       "      <td>0.344526</td>\n",
       "      <td>321068000</td>\n",
       "    </tr>\n",
       "    <tr>\n",
       "      <th>6</th>\n",
       "      <td>Ireland</td>\n",
       "      <td>80.15</td>\n",
       "      <td>27.23</td>\n",
       "      <td>3.5</td>\n",
       "      <td>0.60</td>\n",
       "      <td>11.5</td>\n",
       "      <td>True</td>\n",
       "      <td>0.052174</td>\n",
       "      <td>4635400</td>\n",
       "    </tr>\n",
       "    <tr>\n",
       "      <th>7</th>\n",
       "      <td>U.K.</td>\n",
       "      <td>80.09</td>\n",
       "      <td>28.49</td>\n",
       "      <td>4.4</td>\n",
       "      <td>2.59</td>\n",
       "      <td>13.0</td>\n",
       "      <td>True</td>\n",
       "      <td>0.199231</td>\n",
       "      <td>65097000</td>\n",
       "    </tr>\n",
       "    <tr>\n",
       "      <th>8</th>\n",
       "      <td>Germany</td>\n",
       "      <td>80.24</td>\n",
       "      <td>22.07</td>\n",
       "      <td>3.5</td>\n",
       "      <td>1.31</td>\n",
       "      <td>12.0</td>\n",
       "      <td>True</td>\n",
       "      <td>0.109167</td>\n",
       "      <td>81459000</td>\n",
       "    </tr>\n",
       "    <tr>\n",
       "      <th>9</th>\n",
       "      <td>Australia</td>\n",
       "      <td>82.09</td>\n",
       "      <td>25.40</td>\n",
       "      <td>4.2</td>\n",
       "      <td>1.86</td>\n",
       "      <td>11.5</td>\n",
       "      <td>True</td>\n",
       "      <td>0.161739</td>\n",
       "      <td>23992700</td>\n",
       "    </tr>\n",
       "    <tr>\n",
       "      <th>10</th>\n",
       "      <td>Sweden</td>\n",
       "      <td>81.43</td>\n",
       "      <td>22.18</td>\n",
       "      <td>2.4</td>\n",
       "      <td>1.27</td>\n",
       "      <td>12.8</td>\n",
       "      <td>True</td>\n",
       "      <td>0.099219</td>\n",
       "      <td>9845155</td>\n",
       "    </tr>\n",
       "    <tr>\n",
       "      <th>11</th>\n",
       "      <td>New Zealand</td>\n",
       "      <td>80.67</td>\n",
       "      <td>27.81</td>\n",
       "      <td>4.9</td>\n",
       "      <td>1.13</td>\n",
       "      <td>12.3</td>\n",
       "      <td>True</td>\n",
       "      <td>0.091870</td>\n",
       "      <td>4659070</td>\n",
       "    </tr>\n",
       "  </tbody>\n",
       "</table>\n",
       "</div>"
      ],
      "text/plain": [
       "     Country ID  Life Exp.  Top-10 Income  Infant Mort.  Mil. Spend  \\\n",
       "0   Afghanistan      59.61          23.21          74.3        4.44   \n",
       "1       Nigeria      51.30          38.23          82.6        1.07   \n",
       "2         Egypt      70.48          26.58          19.6        1.86   \n",
       "3     Argentina      75.77          32.30          13.3        0.76   \n",
       "4         China      74.87          29.98          13.7        1.95   \n",
       "5         U.S.A      78.51          29.85           6.3        4.72   \n",
       "6       Ireland      80.15          27.23           3.5        0.60   \n",
       "7          U.K.      80.09          28.49           4.4        2.59   \n",
       "8       Germany      80.24          22.07           3.5        1.31   \n",
       "9     Australia      82.09          25.40           4.2        1.86   \n",
       "10       Sweden      81.43          22.18           2.4        1.27   \n",
       "11  New Zealand      80.67          27.81           4.9        1.13   \n",
       "\n",
       "    School Years  High Education  Mil School Ratio  Population  \n",
       "0            0.4           False         11.100000    27101365  \n",
       "1            4.1           False          0.260976   186988000  \n",
       "2            5.3           False          0.350943    90369500  \n",
       "3           10.1            True          0.075248    43590400  \n",
       "4            6.4           False          0.304688  1357000000  \n",
       "5           13.7            True          0.344526   321068000  \n",
       "6           11.5            True          0.052174     4635400  \n",
       "7           13.0            True          0.199231    65097000  \n",
       "8           12.0            True          0.109167    81459000  \n",
       "9           11.5            True          0.161739    23992700  \n",
       "10          12.8            True          0.099219     9845155  \n",
       "11          12.3            True          0.091870     4659070  "
      ]
     },
     "metadata": {},
     "output_type": "display_data"
    }
   ],
   "source": [
    "extended_countries_with_pop = \\\n",
    "    pd.merge(extended_countries, \\\n",
    "             country_populations, \n",
    "             on=\"Country ID\")\n",
    "display(extended_countries_with_pop)"
   ]
  },
  {
   "cell_type": "code",
   "execution_count": 94,
   "metadata": {},
   "outputs": [
    {
     "data": {
      "text/plain": [
       "(14, 8)"
      ]
     },
     "execution_count": 94,
     "metadata": {},
     "output_type": "execute_result"
    }
   ],
   "source": [
    "extended_countries.shape"
   ]
  },
  {
   "cell_type": "code",
   "execution_count": 95,
   "metadata": {},
   "outputs": [
    {
     "data": {
      "text/plain": [
       "(16, 2)"
      ]
     },
     "execution_count": 95,
     "metadata": {},
     "output_type": "execute_result"
    }
   ],
   "source": [
    "country_populations.shape"
   ]
  },
  {
   "cell_type": "code",
   "execution_count": 96,
   "metadata": {},
   "outputs": [
    {
     "data": {
      "text/plain": [
       "(12, 9)"
      ]
     },
     "execution_count": 96,
     "metadata": {},
     "output_type": "execute_result"
    }
   ],
   "source": [
    "extended_countries_with_pop.shape"
   ]
  },
  {
   "cell_type": "markdown",
   "metadata": {},
   "source": [
    "The **how** parameter to the merge method determines the type of join that is performed - the options are 'left', 'right', 'outer', 'inner' (the default is 'inner')"
   ]
  },
  {
   "cell_type": "code",
   "execution_count": 97,
   "metadata": {
    "scrolled": true
   },
   "outputs": [
    {
     "data": {
      "text/html": [
       "<div>\n",
       "<style scoped>\n",
       "    .dataframe tbody tr th:only-of-type {\n",
       "        vertical-align: middle;\n",
       "    }\n",
       "\n",
       "    .dataframe tbody tr th {\n",
       "        vertical-align: top;\n",
       "    }\n",
       "\n",
       "    .dataframe thead th {\n",
       "        text-align: right;\n",
       "    }\n",
       "</style>\n",
       "<table border=\"1\" class=\"dataframe\">\n",
       "  <thead>\n",
       "    <tr style=\"text-align: right;\">\n",
       "      <th></th>\n",
       "      <th>Country ID</th>\n",
       "      <th>Life Exp.</th>\n",
       "      <th>Top-10 Income</th>\n",
       "      <th>Infant Mort.</th>\n",
       "      <th>Mil. Spend</th>\n",
       "      <th>School Years</th>\n",
       "      <th>High Education</th>\n",
       "      <th>Mil School Ratio</th>\n",
       "      <th>Population</th>\n",
       "    </tr>\n",
       "  </thead>\n",
       "  <tbody>\n",
       "    <tr>\n",
       "      <th>0</th>\n",
       "      <td>Afghanistan</td>\n",
       "      <td>59.61</td>\n",
       "      <td>23.21</td>\n",
       "      <td>74.3</td>\n",
       "      <td>4.44</td>\n",
       "      <td>0.4</td>\n",
       "      <td>False</td>\n",
       "      <td>11.100000</td>\n",
       "      <td>2.710136e+07</td>\n",
       "    </tr>\n",
       "    <tr>\n",
       "      <th>1</th>\n",
       "      <td>Haiti</td>\n",
       "      <td>45.00</td>\n",
       "      <td>47.67</td>\n",
       "      <td>73.1</td>\n",
       "      <td>0.09</td>\n",
       "      <td>3.4</td>\n",
       "      <td>False</td>\n",
       "      <td>0.026471</td>\n",
       "      <td>NaN</td>\n",
       "    </tr>\n",
       "    <tr>\n",
       "      <th>2</th>\n",
       "      <td>Nigeria</td>\n",
       "      <td>51.30</td>\n",
       "      <td>38.23</td>\n",
       "      <td>82.6</td>\n",
       "      <td>1.07</td>\n",
       "      <td>4.1</td>\n",
       "      <td>False</td>\n",
       "      <td>0.260976</td>\n",
       "      <td>1.869880e+08</td>\n",
       "    </tr>\n",
       "    <tr>\n",
       "      <th>3</th>\n",
       "      <td>Egypt</td>\n",
       "      <td>70.48</td>\n",
       "      <td>26.58</td>\n",
       "      <td>19.6</td>\n",
       "      <td>1.86</td>\n",
       "      <td>5.3</td>\n",
       "      <td>False</td>\n",
       "      <td>0.350943</td>\n",
       "      <td>9.036950e+07</td>\n",
       "    </tr>\n",
       "    <tr>\n",
       "      <th>4</th>\n",
       "      <td>Argentina</td>\n",
       "      <td>75.77</td>\n",
       "      <td>32.30</td>\n",
       "      <td>13.3</td>\n",
       "      <td>0.76</td>\n",
       "      <td>10.1</td>\n",
       "      <td>True</td>\n",
       "      <td>0.075248</td>\n",
       "      <td>4.359040e+07</td>\n",
       "    </tr>\n",
       "    <tr>\n",
       "      <th>5</th>\n",
       "      <td>China</td>\n",
       "      <td>74.87</td>\n",
       "      <td>29.98</td>\n",
       "      <td>13.7</td>\n",
       "      <td>1.95</td>\n",
       "      <td>6.4</td>\n",
       "      <td>False</td>\n",
       "      <td>0.304688</td>\n",
       "      <td>1.357000e+09</td>\n",
       "    </tr>\n",
       "    <tr>\n",
       "      <th>6</th>\n",
       "      <td>Israel</td>\n",
       "      <td>81.30</td>\n",
       "      <td>28.80</td>\n",
       "      <td>3.6</td>\n",
       "      <td>6.77</td>\n",
       "      <td>12.5</td>\n",
       "      <td>True</td>\n",
       "      <td>0.541600</td>\n",
       "      <td>NaN</td>\n",
       "    </tr>\n",
       "    <tr>\n",
       "      <th>7</th>\n",
       "      <td>U.S.A</td>\n",
       "      <td>78.51</td>\n",
       "      <td>29.85</td>\n",
       "      <td>6.3</td>\n",
       "      <td>4.72</td>\n",
       "      <td>13.7</td>\n",
       "      <td>True</td>\n",
       "      <td>0.344526</td>\n",
       "      <td>3.210680e+08</td>\n",
       "    </tr>\n",
       "    <tr>\n",
       "      <th>8</th>\n",
       "      <td>Ireland</td>\n",
       "      <td>80.15</td>\n",
       "      <td>27.23</td>\n",
       "      <td>3.5</td>\n",
       "      <td>0.60</td>\n",
       "      <td>11.5</td>\n",
       "      <td>True</td>\n",
       "      <td>0.052174</td>\n",
       "      <td>4.635400e+06</td>\n",
       "    </tr>\n",
       "    <tr>\n",
       "      <th>9</th>\n",
       "      <td>U.K.</td>\n",
       "      <td>80.09</td>\n",
       "      <td>28.49</td>\n",
       "      <td>4.4</td>\n",
       "      <td>2.59</td>\n",
       "      <td>13.0</td>\n",
       "      <td>True</td>\n",
       "      <td>0.199231</td>\n",
       "      <td>6.509700e+07</td>\n",
       "    </tr>\n",
       "    <tr>\n",
       "      <th>10</th>\n",
       "      <td>Germany</td>\n",
       "      <td>80.24</td>\n",
       "      <td>22.07</td>\n",
       "      <td>3.5</td>\n",
       "      <td>1.31</td>\n",
       "      <td>12.0</td>\n",
       "      <td>True</td>\n",
       "      <td>0.109167</td>\n",
       "      <td>8.145900e+07</td>\n",
       "    </tr>\n",
       "    <tr>\n",
       "      <th>11</th>\n",
       "      <td>Australia</td>\n",
       "      <td>82.09</td>\n",
       "      <td>25.40</td>\n",
       "      <td>4.2</td>\n",
       "      <td>1.86</td>\n",
       "      <td>11.5</td>\n",
       "      <td>True</td>\n",
       "      <td>0.161739</td>\n",
       "      <td>2.399270e+07</td>\n",
       "    </tr>\n",
       "    <tr>\n",
       "      <th>12</th>\n",
       "      <td>Sweden</td>\n",
       "      <td>81.43</td>\n",
       "      <td>22.18</td>\n",
       "      <td>2.4</td>\n",
       "      <td>1.27</td>\n",
       "      <td>12.8</td>\n",
       "      <td>True</td>\n",
       "      <td>0.099219</td>\n",
       "      <td>9.845155e+06</td>\n",
       "    </tr>\n",
       "    <tr>\n",
       "      <th>13</th>\n",
       "      <td>New Zealand</td>\n",
       "      <td>80.67</td>\n",
       "      <td>27.81</td>\n",
       "      <td>4.9</td>\n",
       "      <td>1.13</td>\n",
       "      <td>12.3</td>\n",
       "      <td>True</td>\n",
       "      <td>0.091870</td>\n",
       "      <td>4.659070e+06</td>\n",
       "    </tr>\n",
       "  </tbody>\n",
       "</table>\n",
       "</div>"
      ],
      "text/plain": [
       "     Country ID  Life Exp.  Top-10 Income  Infant Mort.  Mil. Spend  \\\n",
       "0   Afghanistan      59.61          23.21          74.3        4.44   \n",
       "1         Haiti      45.00          47.67          73.1        0.09   \n",
       "2       Nigeria      51.30          38.23          82.6        1.07   \n",
       "3         Egypt      70.48          26.58          19.6        1.86   \n",
       "4     Argentina      75.77          32.30          13.3        0.76   \n",
       "5         China      74.87          29.98          13.7        1.95   \n",
       "6        Israel      81.30          28.80           3.6        6.77   \n",
       "7         U.S.A      78.51          29.85           6.3        4.72   \n",
       "8       Ireland      80.15          27.23           3.5        0.60   \n",
       "9          U.K.      80.09          28.49           4.4        2.59   \n",
       "10      Germany      80.24          22.07           3.5        1.31   \n",
       "11    Australia      82.09          25.40           4.2        1.86   \n",
       "12       Sweden      81.43          22.18           2.4        1.27   \n",
       "13  New Zealand      80.67          27.81           4.9        1.13   \n",
       "\n",
       "    School Years  High Education  Mil School Ratio    Population  \n",
       "0            0.4           False         11.100000  2.710136e+07  \n",
       "1            3.4           False          0.026471           NaN  \n",
       "2            4.1           False          0.260976  1.869880e+08  \n",
       "3            5.3           False          0.350943  9.036950e+07  \n",
       "4           10.1            True          0.075248  4.359040e+07  \n",
       "5            6.4           False          0.304688  1.357000e+09  \n",
       "6           12.5            True          0.541600           NaN  \n",
       "7           13.7            True          0.344526  3.210680e+08  \n",
       "8           11.5            True          0.052174  4.635400e+06  \n",
       "9           13.0            True          0.199231  6.509700e+07  \n",
       "10          12.0            True          0.109167  8.145900e+07  \n",
       "11          11.5            True          0.161739  2.399270e+07  \n",
       "12          12.8            True          0.099219  9.845155e+06  \n",
       "13          12.3            True          0.091870  4.659070e+06  "
      ]
     },
     "metadata": {},
     "output_type": "display_data"
    }
   ],
   "source": [
    "extended_countries_with_pop = \\\n",
    "pd.merge(extended_countries, \\\n",
    "         country_populations, \n",
    "         on=\"Country ID\", \\\n",
    "         how = 'left')\n",
    "display(extended_countries_with_pop)"
   ]
  },
  {
   "cell_type": "code",
   "execution_count": 98,
   "metadata": {},
   "outputs": [
    {
     "name": "stdout",
     "output_type": "stream",
     "text": [
      "(14, 8)\n",
      "(16, 2)\n",
      "(14, 9)\n"
     ]
    }
   ],
   "source": [
    "print(extended_countries.shape)\n",
    "print(country_populations.shape)\n",
    "print(extended_countries_with_pop.shape)\n"
   ]
  },
  {
   "cell_type": "code",
   "execution_count": null,
   "metadata": {},
   "outputs": [],
   "source": [
    "extended_countries_with_pop = pd.merge(extended_countries, country_populations, on=\"Country ID\", how = 'left')\n",
    "display(extended_countries_with_pop)"
   ]
  },
  {
   "cell_type": "code",
   "execution_count": 99,
   "metadata": {},
   "outputs": [
    {
     "data": {
      "text/html": [
       "<div>\n",
       "<style scoped>\n",
       "    .dataframe tbody tr th:only-of-type {\n",
       "        vertical-align: middle;\n",
       "    }\n",
       "\n",
       "    .dataframe tbody tr th {\n",
       "        vertical-align: top;\n",
       "    }\n",
       "\n",
       "    .dataframe thead th {\n",
       "        text-align: right;\n",
       "    }\n",
       "</style>\n",
       "<table border=\"1\" class=\"dataframe\">\n",
       "  <thead>\n",
       "    <tr style=\"text-align: right;\">\n",
       "      <th></th>\n",
       "      <th>Country ID</th>\n",
       "      <th>Life Exp.</th>\n",
       "      <th>Top-10 Income</th>\n",
       "      <th>Infant Mort.</th>\n",
       "      <th>Mil. Spend</th>\n",
       "      <th>School Years</th>\n",
       "      <th>High Education</th>\n",
       "      <th>Mil School Ratio</th>\n",
       "      <th>Population</th>\n",
       "    </tr>\n",
       "  </thead>\n",
       "  <tbody>\n",
       "    <tr>\n",
       "      <th>0</th>\n",
       "      <td>Afghanistan</td>\n",
       "      <td>59.61</td>\n",
       "      <td>23.21</td>\n",
       "      <td>74.3</td>\n",
       "      <td>4.44</td>\n",
       "      <td>0.4</td>\n",
       "      <td>False</td>\n",
       "      <td>11.100000</td>\n",
       "      <td>27101365</td>\n",
       "    </tr>\n",
       "    <tr>\n",
       "      <th>1</th>\n",
       "      <td>Nigeria</td>\n",
       "      <td>51.30</td>\n",
       "      <td>38.23</td>\n",
       "      <td>82.6</td>\n",
       "      <td>1.07</td>\n",
       "      <td>4.1</td>\n",
       "      <td>False</td>\n",
       "      <td>0.260976</td>\n",
       "      <td>186988000</td>\n",
       "    </tr>\n",
       "    <tr>\n",
       "      <th>2</th>\n",
       "      <td>Egypt</td>\n",
       "      <td>70.48</td>\n",
       "      <td>26.58</td>\n",
       "      <td>19.6</td>\n",
       "      <td>1.86</td>\n",
       "      <td>5.3</td>\n",
       "      <td>False</td>\n",
       "      <td>0.350943</td>\n",
       "      <td>90369500</td>\n",
       "    </tr>\n",
       "    <tr>\n",
       "      <th>3</th>\n",
       "      <td>Argentina</td>\n",
       "      <td>75.77</td>\n",
       "      <td>32.30</td>\n",
       "      <td>13.3</td>\n",
       "      <td>0.76</td>\n",
       "      <td>10.1</td>\n",
       "      <td>True</td>\n",
       "      <td>0.075248</td>\n",
       "      <td>43590400</td>\n",
       "    </tr>\n",
       "    <tr>\n",
       "      <th>4</th>\n",
       "      <td>China</td>\n",
       "      <td>74.87</td>\n",
       "      <td>29.98</td>\n",
       "      <td>13.7</td>\n",
       "      <td>1.95</td>\n",
       "      <td>6.4</td>\n",
       "      <td>False</td>\n",
       "      <td>0.304688</td>\n",
       "      <td>1357000000</td>\n",
       "    </tr>\n",
       "    <tr>\n",
       "      <th>5</th>\n",
       "      <td>U.S.A</td>\n",
       "      <td>78.51</td>\n",
       "      <td>29.85</td>\n",
       "      <td>6.3</td>\n",
       "      <td>4.72</td>\n",
       "      <td>13.7</td>\n",
       "      <td>True</td>\n",
       "      <td>0.344526</td>\n",
       "      <td>321068000</td>\n",
       "    </tr>\n",
       "    <tr>\n",
       "      <th>6</th>\n",
       "      <td>Ireland</td>\n",
       "      <td>80.15</td>\n",
       "      <td>27.23</td>\n",
       "      <td>3.5</td>\n",
       "      <td>0.60</td>\n",
       "      <td>11.5</td>\n",
       "      <td>True</td>\n",
       "      <td>0.052174</td>\n",
       "      <td>4635400</td>\n",
       "    </tr>\n",
       "    <tr>\n",
       "      <th>7</th>\n",
       "      <td>U.K.</td>\n",
       "      <td>80.09</td>\n",
       "      <td>28.49</td>\n",
       "      <td>4.4</td>\n",
       "      <td>2.59</td>\n",
       "      <td>13.0</td>\n",
       "      <td>True</td>\n",
       "      <td>0.199231</td>\n",
       "      <td>65097000</td>\n",
       "    </tr>\n",
       "    <tr>\n",
       "      <th>8</th>\n",
       "      <td>Germany</td>\n",
       "      <td>80.24</td>\n",
       "      <td>22.07</td>\n",
       "      <td>3.5</td>\n",
       "      <td>1.31</td>\n",
       "      <td>12.0</td>\n",
       "      <td>True</td>\n",
       "      <td>0.109167</td>\n",
       "      <td>81459000</td>\n",
       "    </tr>\n",
       "    <tr>\n",
       "      <th>9</th>\n",
       "      <td>Australia</td>\n",
       "      <td>82.09</td>\n",
       "      <td>25.40</td>\n",
       "      <td>4.2</td>\n",
       "      <td>1.86</td>\n",
       "      <td>11.5</td>\n",
       "      <td>True</td>\n",
       "      <td>0.161739</td>\n",
       "      <td>23992700</td>\n",
       "    </tr>\n",
       "    <tr>\n",
       "      <th>10</th>\n",
       "      <td>Sweden</td>\n",
       "      <td>81.43</td>\n",
       "      <td>22.18</td>\n",
       "      <td>2.4</td>\n",
       "      <td>1.27</td>\n",
       "      <td>12.8</td>\n",
       "      <td>True</td>\n",
       "      <td>0.099219</td>\n",
       "      <td>9845155</td>\n",
       "    </tr>\n",
       "    <tr>\n",
       "      <th>11</th>\n",
       "      <td>New Zealand</td>\n",
       "      <td>80.67</td>\n",
       "      <td>27.81</td>\n",
       "      <td>4.9</td>\n",
       "      <td>1.13</td>\n",
       "      <td>12.3</td>\n",
       "      <td>True</td>\n",
       "      <td>0.091870</td>\n",
       "      <td>4659070</td>\n",
       "    </tr>\n",
       "    <tr>\n",
       "      <th>12</th>\n",
       "      <td>Nicaragua</td>\n",
       "      <td>NaN</td>\n",
       "      <td>NaN</td>\n",
       "      <td>NaN</td>\n",
       "      <td>NaN</td>\n",
       "      <td>NaN</td>\n",
       "      <td>NaN</td>\n",
       "      <td>NaN</td>\n",
       "      <td>6198154</td>\n",
       "    </tr>\n",
       "    <tr>\n",
       "      <th>13</th>\n",
       "      <td>Brazil</td>\n",
       "      <td>NaN</td>\n",
       "      <td>NaN</td>\n",
       "      <td>NaN</td>\n",
       "      <td>NaN</td>\n",
       "      <td>NaN</td>\n",
       "      <td>NaN</td>\n",
       "      <td>NaN</td>\n",
       "      <td>200400000</td>\n",
       "    </tr>\n",
       "    <tr>\n",
       "      <th>14</th>\n",
       "      <td>Samoa</td>\n",
       "      <td>NaN</td>\n",
       "      <td>NaN</td>\n",
       "      <td>NaN</td>\n",
       "      <td>NaN</td>\n",
       "      <td>NaN</td>\n",
       "      <td>NaN</td>\n",
       "      <td>NaN</td>\n",
       "      <td>187820</td>\n",
       "    </tr>\n",
       "    <tr>\n",
       "      <th>15</th>\n",
       "      <td>Canada</td>\n",
       "      <td>NaN</td>\n",
       "      <td>NaN</td>\n",
       "      <td>NaN</td>\n",
       "      <td>NaN</td>\n",
       "      <td>NaN</td>\n",
       "      <td>NaN</td>\n",
       "      <td>NaN</td>\n",
       "      <td>35985751</td>\n",
       "    </tr>\n",
       "  </tbody>\n",
       "</table>\n",
       "</div>"
      ],
      "text/plain": [
       "     Country ID  Life Exp.  Top-10 Income  Infant Mort.  Mil. Spend  \\\n",
       "0   Afghanistan      59.61          23.21          74.3        4.44   \n",
       "1       Nigeria      51.30          38.23          82.6        1.07   \n",
       "2         Egypt      70.48          26.58          19.6        1.86   \n",
       "3     Argentina      75.77          32.30          13.3        0.76   \n",
       "4         China      74.87          29.98          13.7        1.95   \n",
       "5         U.S.A      78.51          29.85           6.3        4.72   \n",
       "6       Ireland      80.15          27.23           3.5        0.60   \n",
       "7          U.K.      80.09          28.49           4.4        2.59   \n",
       "8       Germany      80.24          22.07           3.5        1.31   \n",
       "9     Australia      82.09          25.40           4.2        1.86   \n",
       "10       Sweden      81.43          22.18           2.4        1.27   \n",
       "11  New Zealand      80.67          27.81           4.9        1.13   \n",
       "12    Nicaragua        NaN            NaN           NaN         NaN   \n",
       "13       Brazil        NaN            NaN           NaN         NaN   \n",
       "14        Samoa        NaN            NaN           NaN         NaN   \n",
       "15       Canada        NaN            NaN           NaN         NaN   \n",
       "\n",
       "    School Years High Education  Mil School Ratio  Population  \n",
       "0            0.4          False         11.100000    27101365  \n",
       "1            4.1          False          0.260976   186988000  \n",
       "2            5.3          False          0.350943    90369500  \n",
       "3           10.1           True          0.075248    43590400  \n",
       "4            6.4          False          0.304688  1357000000  \n",
       "5           13.7           True          0.344526   321068000  \n",
       "6           11.5           True          0.052174     4635400  \n",
       "7           13.0           True          0.199231    65097000  \n",
       "8           12.0           True          0.109167    81459000  \n",
       "9           11.5           True          0.161739    23992700  \n",
       "10          12.8           True          0.099219     9845155  \n",
       "11          12.3           True          0.091870     4659070  \n",
       "12           NaN            NaN               NaN     6198154  \n",
       "13           NaN            NaN               NaN   200400000  \n",
       "14           NaN            NaN               NaN      187820  \n",
       "15           NaN            NaN               NaN    35985751  "
      ]
     },
     "metadata": {},
     "output_type": "display_data"
    }
   ],
   "source": [
    "extended_countries_with_pop = pd.merge(extended_countries, country_populations, on=\"Country ID\", how = 'right')\n",
    "display(extended_countries_with_pop)"
   ]
  },
  {
   "cell_type": "code",
   "execution_count": 100,
   "metadata": {},
   "outputs": [
    {
     "data": {
      "text/plain": [
       "(16, 9)"
      ]
     },
     "execution_count": 100,
     "metadata": {},
     "output_type": "execute_result"
    }
   ],
   "source": [
    "extended_countries_with_pop.shape"
   ]
  },
  {
   "cell_type": "code",
   "execution_count": 101,
   "metadata": {
    "scrolled": true
   },
   "outputs": [
    {
     "data": {
      "text/html": [
       "<div>\n",
       "<style scoped>\n",
       "    .dataframe tbody tr th:only-of-type {\n",
       "        vertical-align: middle;\n",
       "    }\n",
       "\n",
       "    .dataframe tbody tr th {\n",
       "        vertical-align: top;\n",
       "    }\n",
       "\n",
       "    .dataframe thead th {\n",
       "        text-align: right;\n",
       "    }\n",
       "</style>\n",
       "<table border=\"1\" class=\"dataframe\">\n",
       "  <thead>\n",
       "    <tr style=\"text-align: right;\">\n",
       "      <th></th>\n",
       "      <th>Country ID</th>\n",
       "      <th>Life Exp.</th>\n",
       "      <th>Top-10 Income</th>\n",
       "      <th>Infant Mort.</th>\n",
       "      <th>Mil. Spend</th>\n",
       "      <th>School Years</th>\n",
       "      <th>High Education</th>\n",
       "      <th>Mil School Ratio</th>\n",
       "      <th>Population</th>\n",
       "    </tr>\n",
       "  </thead>\n",
       "  <tbody>\n",
       "    <tr>\n",
       "      <th>0</th>\n",
       "      <td>Afghanistan</td>\n",
       "      <td>59.61</td>\n",
       "      <td>23.21</td>\n",
       "      <td>74.3</td>\n",
       "      <td>4.44</td>\n",
       "      <td>0.4</td>\n",
       "      <td>False</td>\n",
       "      <td>11.100000</td>\n",
       "      <td>2.710136e+07</td>\n",
       "    </tr>\n",
       "    <tr>\n",
       "      <th>1</th>\n",
       "      <td>Haiti</td>\n",
       "      <td>45.00</td>\n",
       "      <td>47.67</td>\n",
       "      <td>73.1</td>\n",
       "      <td>0.09</td>\n",
       "      <td>3.4</td>\n",
       "      <td>False</td>\n",
       "      <td>0.026471</td>\n",
       "      <td>NaN</td>\n",
       "    </tr>\n",
       "    <tr>\n",
       "      <th>2</th>\n",
       "      <td>Nigeria</td>\n",
       "      <td>51.30</td>\n",
       "      <td>38.23</td>\n",
       "      <td>82.6</td>\n",
       "      <td>1.07</td>\n",
       "      <td>4.1</td>\n",
       "      <td>False</td>\n",
       "      <td>0.260976</td>\n",
       "      <td>1.869880e+08</td>\n",
       "    </tr>\n",
       "    <tr>\n",
       "      <th>3</th>\n",
       "      <td>Egypt</td>\n",
       "      <td>70.48</td>\n",
       "      <td>26.58</td>\n",
       "      <td>19.6</td>\n",
       "      <td>1.86</td>\n",
       "      <td>5.3</td>\n",
       "      <td>False</td>\n",
       "      <td>0.350943</td>\n",
       "      <td>9.036950e+07</td>\n",
       "    </tr>\n",
       "    <tr>\n",
       "      <th>4</th>\n",
       "      <td>Argentina</td>\n",
       "      <td>75.77</td>\n",
       "      <td>32.30</td>\n",
       "      <td>13.3</td>\n",
       "      <td>0.76</td>\n",
       "      <td>10.1</td>\n",
       "      <td>True</td>\n",
       "      <td>0.075248</td>\n",
       "      <td>4.359040e+07</td>\n",
       "    </tr>\n",
       "    <tr>\n",
       "      <th>5</th>\n",
       "      <td>China</td>\n",
       "      <td>74.87</td>\n",
       "      <td>29.98</td>\n",
       "      <td>13.7</td>\n",
       "      <td>1.95</td>\n",
       "      <td>6.4</td>\n",
       "      <td>False</td>\n",
       "      <td>0.304688</td>\n",
       "      <td>1.357000e+09</td>\n",
       "    </tr>\n",
       "    <tr>\n",
       "      <th>6</th>\n",
       "      <td>Israel</td>\n",
       "      <td>81.30</td>\n",
       "      <td>28.80</td>\n",
       "      <td>3.6</td>\n",
       "      <td>6.77</td>\n",
       "      <td>12.5</td>\n",
       "      <td>True</td>\n",
       "      <td>0.541600</td>\n",
       "      <td>NaN</td>\n",
       "    </tr>\n",
       "    <tr>\n",
       "      <th>7</th>\n",
       "      <td>U.S.A</td>\n",
       "      <td>78.51</td>\n",
       "      <td>29.85</td>\n",
       "      <td>6.3</td>\n",
       "      <td>4.72</td>\n",
       "      <td>13.7</td>\n",
       "      <td>True</td>\n",
       "      <td>0.344526</td>\n",
       "      <td>3.210680e+08</td>\n",
       "    </tr>\n",
       "    <tr>\n",
       "      <th>8</th>\n",
       "      <td>Ireland</td>\n",
       "      <td>80.15</td>\n",
       "      <td>27.23</td>\n",
       "      <td>3.5</td>\n",
       "      <td>0.60</td>\n",
       "      <td>11.5</td>\n",
       "      <td>True</td>\n",
       "      <td>0.052174</td>\n",
       "      <td>4.635400e+06</td>\n",
       "    </tr>\n",
       "    <tr>\n",
       "      <th>9</th>\n",
       "      <td>U.K.</td>\n",
       "      <td>80.09</td>\n",
       "      <td>28.49</td>\n",
       "      <td>4.4</td>\n",
       "      <td>2.59</td>\n",
       "      <td>13.0</td>\n",
       "      <td>True</td>\n",
       "      <td>0.199231</td>\n",
       "      <td>6.509700e+07</td>\n",
       "    </tr>\n",
       "    <tr>\n",
       "      <th>10</th>\n",
       "      <td>Germany</td>\n",
       "      <td>80.24</td>\n",
       "      <td>22.07</td>\n",
       "      <td>3.5</td>\n",
       "      <td>1.31</td>\n",
       "      <td>12.0</td>\n",
       "      <td>True</td>\n",
       "      <td>0.109167</td>\n",
       "      <td>8.145900e+07</td>\n",
       "    </tr>\n",
       "    <tr>\n",
       "      <th>11</th>\n",
       "      <td>Australia</td>\n",
       "      <td>82.09</td>\n",
       "      <td>25.40</td>\n",
       "      <td>4.2</td>\n",
       "      <td>1.86</td>\n",
       "      <td>11.5</td>\n",
       "      <td>True</td>\n",
       "      <td>0.161739</td>\n",
       "      <td>2.399270e+07</td>\n",
       "    </tr>\n",
       "    <tr>\n",
       "      <th>12</th>\n",
       "      <td>Sweden</td>\n",
       "      <td>81.43</td>\n",
       "      <td>22.18</td>\n",
       "      <td>2.4</td>\n",
       "      <td>1.27</td>\n",
       "      <td>12.8</td>\n",
       "      <td>True</td>\n",
       "      <td>0.099219</td>\n",
       "      <td>9.845155e+06</td>\n",
       "    </tr>\n",
       "    <tr>\n",
       "      <th>13</th>\n",
       "      <td>New Zealand</td>\n",
       "      <td>80.67</td>\n",
       "      <td>27.81</td>\n",
       "      <td>4.9</td>\n",
       "      <td>1.13</td>\n",
       "      <td>12.3</td>\n",
       "      <td>True</td>\n",
       "      <td>0.091870</td>\n",
       "      <td>4.659070e+06</td>\n",
       "    </tr>\n",
       "    <tr>\n",
       "      <th>14</th>\n",
       "      <td>Nicaragua</td>\n",
       "      <td>NaN</td>\n",
       "      <td>NaN</td>\n",
       "      <td>NaN</td>\n",
       "      <td>NaN</td>\n",
       "      <td>NaN</td>\n",
       "      <td>NaN</td>\n",
       "      <td>NaN</td>\n",
       "      <td>6.198154e+06</td>\n",
       "    </tr>\n",
       "    <tr>\n",
       "      <th>15</th>\n",
       "      <td>Brazil</td>\n",
       "      <td>NaN</td>\n",
       "      <td>NaN</td>\n",
       "      <td>NaN</td>\n",
       "      <td>NaN</td>\n",
       "      <td>NaN</td>\n",
       "      <td>NaN</td>\n",
       "      <td>NaN</td>\n",
       "      <td>2.004000e+08</td>\n",
       "    </tr>\n",
       "    <tr>\n",
       "      <th>16</th>\n",
       "      <td>Samoa</td>\n",
       "      <td>NaN</td>\n",
       "      <td>NaN</td>\n",
       "      <td>NaN</td>\n",
       "      <td>NaN</td>\n",
       "      <td>NaN</td>\n",
       "      <td>NaN</td>\n",
       "      <td>NaN</td>\n",
       "      <td>1.878200e+05</td>\n",
       "    </tr>\n",
       "    <tr>\n",
       "      <th>17</th>\n",
       "      <td>Canada</td>\n",
       "      <td>NaN</td>\n",
       "      <td>NaN</td>\n",
       "      <td>NaN</td>\n",
       "      <td>NaN</td>\n",
       "      <td>NaN</td>\n",
       "      <td>NaN</td>\n",
       "      <td>NaN</td>\n",
       "      <td>3.598575e+07</td>\n",
       "    </tr>\n",
       "  </tbody>\n",
       "</table>\n",
       "</div>"
      ],
      "text/plain": [
       "     Country ID  Life Exp.  Top-10 Income  Infant Mort.  Mil. Spend  \\\n",
       "0   Afghanistan      59.61          23.21          74.3        4.44   \n",
       "1         Haiti      45.00          47.67          73.1        0.09   \n",
       "2       Nigeria      51.30          38.23          82.6        1.07   \n",
       "3         Egypt      70.48          26.58          19.6        1.86   \n",
       "4     Argentina      75.77          32.30          13.3        0.76   \n",
       "5         China      74.87          29.98          13.7        1.95   \n",
       "6        Israel      81.30          28.80           3.6        6.77   \n",
       "7         U.S.A      78.51          29.85           6.3        4.72   \n",
       "8       Ireland      80.15          27.23           3.5        0.60   \n",
       "9          U.K.      80.09          28.49           4.4        2.59   \n",
       "10      Germany      80.24          22.07           3.5        1.31   \n",
       "11    Australia      82.09          25.40           4.2        1.86   \n",
       "12       Sweden      81.43          22.18           2.4        1.27   \n",
       "13  New Zealand      80.67          27.81           4.9        1.13   \n",
       "14    Nicaragua        NaN            NaN           NaN         NaN   \n",
       "15       Brazil        NaN            NaN           NaN         NaN   \n",
       "16        Samoa        NaN            NaN           NaN         NaN   \n",
       "17       Canada        NaN            NaN           NaN         NaN   \n",
       "\n",
       "    School Years High Education  Mil School Ratio    Population  \n",
       "0            0.4          False         11.100000  2.710136e+07  \n",
       "1            3.4          False          0.026471           NaN  \n",
       "2            4.1          False          0.260976  1.869880e+08  \n",
       "3            5.3          False          0.350943  9.036950e+07  \n",
       "4           10.1           True          0.075248  4.359040e+07  \n",
       "5            6.4          False          0.304688  1.357000e+09  \n",
       "6           12.5           True          0.541600           NaN  \n",
       "7           13.7           True          0.344526  3.210680e+08  \n",
       "8           11.5           True          0.052174  4.635400e+06  \n",
       "9           13.0           True          0.199231  6.509700e+07  \n",
       "10          12.0           True          0.109167  8.145900e+07  \n",
       "11          11.5           True          0.161739  2.399270e+07  \n",
       "12          12.8           True          0.099219  9.845155e+06  \n",
       "13          12.3           True          0.091870  4.659070e+06  \n",
       "14           NaN            NaN               NaN  6.198154e+06  \n",
       "15           NaN            NaN               NaN  2.004000e+08  \n",
       "16           NaN            NaN               NaN  1.878200e+05  \n",
       "17           NaN            NaN               NaN  3.598575e+07  "
      ]
     },
     "metadata": {},
     "output_type": "display_data"
    }
   ],
   "source": [
    "extended_countries_with_pop = pd.merge(extended_countries, country_populations, on=\"Country ID\", how = 'outer')\n",
    "display(extended_countries_with_pop)"
   ]
  },
  {
   "cell_type": "code",
   "execution_count": 102,
   "metadata": {},
   "outputs": [
    {
     "data": {
      "text/plain": [
       "(18, 9)"
      ]
     },
     "execution_count": 102,
     "metadata": {},
     "output_type": "execute_result"
    }
   ],
   "source": [
    "extended_countries_with_pop.shape"
   ]
  },
  {
   "cell_type": "markdown",
   "metadata": {},
   "source": [
    "#### Aggregating DataFrames"
   ]
  },
  {
   "cell_type": "markdown",
   "metadata": {},
   "source": [
    "If there are a categoricial variables in a dataset we can use them to define groups. Once groups are defined it is possible to perform analysis based on these groups."
   ]
  },
  {
   "cell_type": "markdown",
   "metadata": {},
   "source": [
    "Read in a dataset that contains the continet to which each country belongs and add that to the country details dataset."
   ]
  },
  {
   "cell_type": "code",
   "execution_count": 103,
   "metadata": {
    "scrolled": false
   },
   "outputs": [
    {
     "data": {
      "text/html": [
       "<div>\n",
       "<style scoped>\n",
       "    .dataframe tbody tr th:only-of-type {\n",
       "        vertical-align: middle;\n",
       "    }\n",
       "\n",
       "    .dataframe tbody tr th {\n",
       "        vertical-align: top;\n",
       "    }\n",
       "\n",
       "    .dataframe thead th {\n",
       "        text-align: right;\n",
       "    }\n",
       "</style>\n",
       "<table border=\"1\" class=\"dataframe\">\n",
       "  <thead>\n",
       "    <tr style=\"text-align: right;\">\n",
       "      <th></th>\n",
       "      <th>Country ID</th>\n",
       "      <th>Continent</th>\n",
       "    </tr>\n",
       "  </thead>\n",
       "  <tbody>\n",
       "    <tr>\n",
       "      <th>0</th>\n",
       "      <td>Afghanistan</td>\n",
       "      <td>Asia</td>\n",
       "    </tr>\n",
       "    <tr>\n",
       "      <th>1</th>\n",
       "      <td>Haiti</td>\n",
       "      <td>North America</td>\n",
       "    </tr>\n",
       "    <tr>\n",
       "      <th>2</th>\n",
       "      <td>Nigeria</td>\n",
       "      <td>Africa</td>\n",
       "    </tr>\n",
       "    <tr>\n",
       "      <th>3</th>\n",
       "      <td>Egypt</td>\n",
       "      <td>Africa</td>\n",
       "    </tr>\n",
       "    <tr>\n",
       "      <th>4</th>\n",
       "      <td>Argentina</td>\n",
       "      <td>South America</td>\n",
       "    </tr>\n",
       "  </tbody>\n",
       "</table>\n",
       "</div>"
      ],
      "text/plain": [
       "    Country ID      Continent\n",
       "0  Afghanistan           Asia\n",
       "1        Haiti  North America\n",
       "2      Nigeria         Africa\n",
       "3        Egypt         Africa\n",
       "4    Argentina  South America"
      ]
     },
     "metadata": {},
     "output_type": "display_data"
    }
   ],
   "source": [
    "country_continents = pd.read_csv('FMLPDA_Table_5_ex_3b.csv')\n",
    "display(country_continents.head())"
   ]
  },
  {
   "cell_type": "code",
   "execution_count": 104,
   "metadata": {
    "scrolled": true
   },
   "outputs": [
    {
     "data": {
      "text/html": [
       "<div>\n",
       "<style scoped>\n",
       "    .dataframe tbody tr th:only-of-type {\n",
       "        vertical-align: middle;\n",
       "    }\n",
       "\n",
       "    .dataframe tbody tr th {\n",
       "        vertical-align: top;\n",
       "    }\n",
       "\n",
       "    .dataframe thead th {\n",
       "        text-align: right;\n",
       "    }\n",
       "</style>\n",
       "<table border=\"1\" class=\"dataframe\">\n",
       "  <thead>\n",
       "    <tr style=\"text-align: right;\">\n",
       "      <th></th>\n",
       "      <th>Country ID</th>\n",
       "      <th>Life Exp.</th>\n",
       "      <th>Top-10 Income</th>\n",
       "      <th>Infant Mort.</th>\n",
       "      <th>Mil. Spend</th>\n",
       "      <th>School Years</th>\n",
       "      <th>High Education</th>\n",
       "      <th>Mil School Ratio</th>\n",
       "    </tr>\n",
       "  </thead>\n",
       "  <tbody>\n",
       "    <tr>\n",
       "      <th>0</th>\n",
       "      <td>Afghanistan</td>\n",
       "      <td>59.61</td>\n",
       "      <td>23.21</td>\n",
       "      <td>74.3</td>\n",
       "      <td>4.44</td>\n",
       "      <td>0.4</td>\n",
       "      <td>False</td>\n",
       "      <td>11.100000</td>\n",
       "    </tr>\n",
       "    <tr>\n",
       "      <th>1</th>\n",
       "      <td>Haiti</td>\n",
       "      <td>45.00</td>\n",
       "      <td>47.67</td>\n",
       "      <td>73.1</td>\n",
       "      <td>0.09</td>\n",
       "      <td>3.4</td>\n",
       "      <td>False</td>\n",
       "      <td>0.026471</td>\n",
       "    </tr>\n",
       "    <tr>\n",
       "      <th>2</th>\n",
       "      <td>Nigeria</td>\n",
       "      <td>51.30</td>\n",
       "      <td>38.23</td>\n",
       "      <td>82.6</td>\n",
       "      <td>1.07</td>\n",
       "      <td>4.1</td>\n",
       "      <td>False</td>\n",
       "      <td>0.260976</td>\n",
       "    </tr>\n",
       "    <tr>\n",
       "      <th>3</th>\n",
       "      <td>Egypt</td>\n",
       "      <td>70.48</td>\n",
       "      <td>26.58</td>\n",
       "      <td>19.6</td>\n",
       "      <td>1.86</td>\n",
       "      <td>5.3</td>\n",
       "      <td>False</td>\n",
       "      <td>0.350943</td>\n",
       "    </tr>\n",
       "    <tr>\n",
       "      <th>4</th>\n",
       "      <td>Argentina</td>\n",
       "      <td>75.77</td>\n",
       "      <td>32.30</td>\n",
       "      <td>13.3</td>\n",
       "      <td>0.76</td>\n",
       "      <td>10.1</td>\n",
       "      <td>True</td>\n",
       "      <td>0.075248</td>\n",
       "    </tr>\n",
       "  </tbody>\n",
       "</table>\n",
       "</div>"
      ],
      "text/plain": [
       "    Country ID  Life Exp.  Top-10 Income  Infant Mort.  Mil. Spend  \\\n",
       "0  Afghanistan      59.61          23.21          74.3        4.44   \n",
       "1        Haiti      45.00          47.67          73.1        0.09   \n",
       "2      Nigeria      51.30          38.23          82.6        1.07   \n",
       "3        Egypt      70.48          26.58          19.6        1.86   \n",
       "4    Argentina      75.77          32.30          13.3        0.76   \n",
       "\n",
       "   School Years  High Education  Mil School Ratio  \n",
       "0           0.4           False         11.100000  \n",
       "1           3.4           False          0.026471  \n",
       "2           4.1           False          0.260976  \n",
       "3           5.3           False          0.350943  \n",
       "4          10.1            True          0.075248  "
      ]
     },
     "metadata": {},
     "output_type": "display_data"
    }
   ],
   "source": [
    "display(extended_countries.head())"
   ]
  },
  {
   "cell_type": "code",
   "execution_count": 105,
   "metadata": {},
   "outputs": [
    {
     "data": {
      "text/html": [
       "<div>\n",
       "<style scoped>\n",
       "    .dataframe tbody tr th:only-of-type {\n",
       "        vertical-align: middle;\n",
       "    }\n",
       "\n",
       "    .dataframe tbody tr th {\n",
       "        vertical-align: top;\n",
       "    }\n",
       "\n",
       "    .dataframe thead th {\n",
       "        text-align: right;\n",
       "    }\n",
       "</style>\n",
       "<table border=\"1\" class=\"dataframe\">\n",
       "  <thead>\n",
       "    <tr style=\"text-align: right;\">\n",
       "      <th></th>\n",
       "      <th>Country ID</th>\n",
       "      <th>Life Exp.</th>\n",
       "      <th>Top-10 Income</th>\n",
       "      <th>Infant Mort.</th>\n",
       "      <th>Mil. Spend</th>\n",
       "      <th>School Years</th>\n",
       "      <th>High Education</th>\n",
       "      <th>Mil School Ratio</th>\n",
       "      <th>Continent</th>\n",
       "    </tr>\n",
       "  </thead>\n",
       "  <tbody>\n",
       "    <tr>\n",
       "      <th>0</th>\n",
       "      <td>Afghanistan</td>\n",
       "      <td>59.61</td>\n",
       "      <td>23.21</td>\n",
       "      <td>74.3</td>\n",
       "      <td>4.44</td>\n",
       "      <td>0.4</td>\n",
       "      <td>False</td>\n",
       "      <td>11.100000</td>\n",
       "      <td>Asia</td>\n",
       "    </tr>\n",
       "    <tr>\n",
       "      <th>1</th>\n",
       "      <td>Haiti</td>\n",
       "      <td>45.00</td>\n",
       "      <td>47.67</td>\n",
       "      <td>73.1</td>\n",
       "      <td>0.09</td>\n",
       "      <td>3.4</td>\n",
       "      <td>False</td>\n",
       "      <td>0.026471</td>\n",
       "      <td>North America</td>\n",
       "    </tr>\n",
       "    <tr>\n",
       "      <th>2</th>\n",
       "      <td>Nigeria</td>\n",
       "      <td>51.30</td>\n",
       "      <td>38.23</td>\n",
       "      <td>82.6</td>\n",
       "      <td>1.07</td>\n",
       "      <td>4.1</td>\n",
       "      <td>False</td>\n",
       "      <td>0.260976</td>\n",
       "      <td>Africa</td>\n",
       "    </tr>\n",
       "    <tr>\n",
       "      <th>3</th>\n",
       "      <td>Egypt</td>\n",
       "      <td>70.48</td>\n",
       "      <td>26.58</td>\n",
       "      <td>19.6</td>\n",
       "      <td>1.86</td>\n",
       "      <td>5.3</td>\n",
       "      <td>False</td>\n",
       "      <td>0.350943</td>\n",
       "      <td>Africa</td>\n",
       "    </tr>\n",
       "    <tr>\n",
       "      <th>4</th>\n",
       "      <td>Argentina</td>\n",
       "      <td>75.77</td>\n",
       "      <td>32.30</td>\n",
       "      <td>13.3</td>\n",
       "      <td>0.76</td>\n",
       "      <td>10.1</td>\n",
       "      <td>True</td>\n",
       "      <td>0.075248</td>\n",
       "      <td>South America</td>\n",
       "    </tr>\n",
       "    <tr>\n",
       "      <th>5</th>\n",
       "      <td>China</td>\n",
       "      <td>74.87</td>\n",
       "      <td>29.98</td>\n",
       "      <td>13.7</td>\n",
       "      <td>1.95</td>\n",
       "      <td>6.4</td>\n",
       "      <td>False</td>\n",
       "      <td>0.304688</td>\n",
       "      <td>Asia</td>\n",
       "    </tr>\n",
       "    <tr>\n",
       "      <th>6</th>\n",
       "      <td>Israel</td>\n",
       "      <td>81.30</td>\n",
       "      <td>28.80</td>\n",
       "      <td>3.6</td>\n",
       "      <td>6.77</td>\n",
       "      <td>12.5</td>\n",
       "      <td>True</td>\n",
       "      <td>0.541600</td>\n",
       "      <td>Asia</td>\n",
       "    </tr>\n",
       "    <tr>\n",
       "      <th>7</th>\n",
       "      <td>U.S.A</td>\n",
       "      <td>78.51</td>\n",
       "      <td>29.85</td>\n",
       "      <td>6.3</td>\n",
       "      <td>4.72</td>\n",
       "      <td>13.7</td>\n",
       "      <td>True</td>\n",
       "      <td>0.344526</td>\n",
       "      <td>North America</td>\n",
       "    </tr>\n",
       "    <tr>\n",
       "      <th>8</th>\n",
       "      <td>Ireland</td>\n",
       "      <td>80.15</td>\n",
       "      <td>27.23</td>\n",
       "      <td>3.5</td>\n",
       "      <td>0.60</td>\n",
       "      <td>11.5</td>\n",
       "      <td>True</td>\n",
       "      <td>0.052174</td>\n",
       "      <td>Europe</td>\n",
       "    </tr>\n",
       "    <tr>\n",
       "      <th>9</th>\n",
       "      <td>U.K.</td>\n",
       "      <td>80.09</td>\n",
       "      <td>28.49</td>\n",
       "      <td>4.4</td>\n",
       "      <td>2.59</td>\n",
       "      <td>13.0</td>\n",
       "      <td>True</td>\n",
       "      <td>0.199231</td>\n",
       "      <td>Europe</td>\n",
       "    </tr>\n",
       "    <tr>\n",
       "      <th>10</th>\n",
       "      <td>Germany</td>\n",
       "      <td>80.24</td>\n",
       "      <td>22.07</td>\n",
       "      <td>3.5</td>\n",
       "      <td>1.31</td>\n",
       "      <td>12.0</td>\n",
       "      <td>True</td>\n",
       "      <td>0.109167</td>\n",
       "      <td>Europe</td>\n",
       "    </tr>\n",
       "    <tr>\n",
       "      <th>11</th>\n",
       "      <td>Australia</td>\n",
       "      <td>82.09</td>\n",
       "      <td>25.40</td>\n",
       "      <td>4.2</td>\n",
       "      <td>1.86</td>\n",
       "      <td>11.5</td>\n",
       "      <td>True</td>\n",
       "      <td>0.161739</td>\n",
       "      <td>Oceania</td>\n",
       "    </tr>\n",
       "    <tr>\n",
       "      <th>12</th>\n",
       "      <td>Sweden</td>\n",
       "      <td>81.43</td>\n",
       "      <td>22.18</td>\n",
       "      <td>2.4</td>\n",
       "      <td>1.27</td>\n",
       "      <td>12.8</td>\n",
       "      <td>True</td>\n",
       "      <td>0.099219</td>\n",
       "      <td>Europe</td>\n",
       "    </tr>\n",
       "    <tr>\n",
       "      <th>13</th>\n",
       "      <td>New Zealand</td>\n",
       "      <td>80.67</td>\n",
       "      <td>27.81</td>\n",
       "      <td>4.9</td>\n",
       "      <td>1.13</td>\n",
       "      <td>12.3</td>\n",
       "      <td>True</td>\n",
       "      <td>0.091870</td>\n",
       "      <td>Oceania</td>\n",
       "    </tr>\n",
       "  </tbody>\n",
       "</table>\n",
       "</div>"
      ],
      "text/plain": [
       "     Country ID  Life Exp.  Top-10 Income  Infant Mort.  Mil. Spend  \\\n",
       "0   Afghanistan      59.61          23.21          74.3        4.44   \n",
       "1         Haiti      45.00          47.67          73.1        0.09   \n",
       "2       Nigeria      51.30          38.23          82.6        1.07   \n",
       "3         Egypt      70.48          26.58          19.6        1.86   \n",
       "4     Argentina      75.77          32.30          13.3        0.76   \n",
       "5         China      74.87          29.98          13.7        1.95   \n",
       "6        Israel      81.30          28.80           3.6        6.77   \n",
       "7         U.S.A      78.51          29.85           6.3        4.72   \n",
       "8       Ireland      80.15          27.23           3.5        0.60   \n",
       "9          U.K.      80.09          28.49           4.4        2.59   \n",
       "10      Germany      80.24          22.07           3.5        1.31   \n",
       "11    Australia      82.09          25.40           4.2        1.86   \n",
       "12       Sweden      81.43          22.18           2.4        1.27   \n",
       "13  New Zealand      80.67          27.81           4.9        1.13   \n",
       "\n",
       "    School Years  High Education  Mil School Ratio      Continent  \n",
       "0            0.4           False         11.100000           Asia  \n",
       "1            3.4           False          0.026471  North America  \n",
       "2            4.1           False          0.260976         Africa  \n",
       "3            5.3           False          0.350943         Africa  \n",
       "4           10.1            True          0.075248  South America  \n",
       "5            6.4           False          0.304688           Asia  \n",
       "6           12.5            True          0.541600           Asia  \n",
       "7           13.7            True          0.344526  North America  \n",
       "8           11.5            True          0.052174         Europe  \n",
       "9           13.0            True          0.199231         Europe  \n",
       "10          12.0            True          0.109167         Europe  \n",
       "11          11.5            True          0.161739        Oceania  \n",
       "12          12.8            True          0.099219         Europe  \n",
       "13          12.3            True          0.091870        Oceania  "
      ]
     },
     "metadata": {},
     "output_type": "display_data"
    }
   ],
   "source": [
    "extended_countries_with_contnts \\\n",
    "= pd.merge(extended_countries, \\\n",
    "           country_continents, \\\n",
    "           on=\"Country ID\", how = 'inner')\n",
    "display(extended_countries_with_contnts)"
   ]
  },
  {
   "cell_type": "markdown",
   "metadata": {},
   "source": [
    "To define groups within a dataframe we use the **groupby** function, passing it the name of the column we would like to group by. Using the grouped data then we can then perform grouped analysis."
   ]
  },
  {
   "cell_type": "code",
   "execution_count": 107,
   "metadata": {
    "scrolled": true
   },
   "outputs": [],
   "source": [
    "grouped_data = \\\n",
    "extended_countries_with_contnts.groupby('Continent')"
   ]
  },
  {
   "cell_type": "markdown",
   "metadata": {},
   "source": [
    "We can save the grouping object if we want to perform multiple analyses."
   ]
  },
  {
   "cell_type": "code",
   "execution_count": 109,
   "metadata": {},
   "outputs": [
    {
     "data": {
      "text/plain": [
       "Life Exp.           72.965000\n",
       "Top-10 Income       29.271429\n",
       "Infant Mort.        22.100000\n",
       "Mil. Spend           2.172857\n",
       "School Years         9.214286\n",
       "High Education       0.642857\n",
       "Mil School Ratio     0.979846\n",
       "dtype: float64"
      ]
     },
     "execution_count": 109,
     "metadata": {},
     "output_type": "execute_result"
    }
   ],
   "source": [
    "extended_countries_with_contnts.mean()"
   ]
  },
  {
   "cell_type": "code",
   "execution_count": 108,
   "metadata": {
    "scrolled": false
   },
   "outputs": [
    {
     "data": {
      "text/html": [
       "<div>\n",
       "<style scoped>\n",
       "    .dataframe tbody tr th:only-of-type {\n",
       "        vertical-align: middle;\n",
       "    }\n",
       "\n",
       "    .dataframe tbody tr th {\n",
       "        vertical-align: top;\n",
       "    }\n",
       "\n",
       "    .dataframe thead th {\n",
       "        text-align: right;\n",
       "    }\n",
       "</style>\n",
       "<table border=\"1\" class=\"dataframe\">\n",
       "  <thead>\n",
       "    <tr style=\"text-align: right;\">\n",
       "      <th></th>\n",
       "      <th>Life Exp.</th>\n",
       "      <th>Top-10 Income</th>\n",
       "      <th>Infant Mort.</th>\n",
       "      <th>Mil. Spend</th>\n",
       "      <th>School Years</th>\n",
       "      <th>High Education</th>\n",
       "      <th>Mil School Ratio</th>\n",
       "    </tr>\n",
       "    <tr>\n",
       "      <th>Continent</th>\n",
       "      <th></th>\n",
       "      <th></th>\n",
       "      <th></th>\n",
       "      <th></th>\n",
       "      <th></th>\n",
       "      <th></th>\n",
       "      <th></th>\n",
       "    </tr>\n",
       "  </thead>\n",
       "  <tbody>\n",
       "    <tr>\n",
       "      <th>Africa</th>\n",
       "      <td>60.890000</td>\n",
       "      <td>32.4050</td>\n",
       "      <td>51.100000</td>\n",
       "      <td>1.465000</td>\n",
       "      <td>4.700000</td>\n",
       "      <td>0.000000</td>\n",
       "      <td>0.305960</td>\n",
       "    </tr>\n",
       "    <tr>\n",
       "      <th>Asia</th>\n",
       "      <td>71.926667</td>\n",
       "      <td>27.3300</td>\n",
       "      <td>30.533333</td>\n",
       "      <td>4.386667</td>\n",
       "      <td>6.433333</td>\n",
       "      <td>0.333333</td>\n",
       "      <td>3.982096</td>\n",
       "    </tr>\n",
       "    <tr>\n",
       "      <th>Europe</th>\n",
       "      <td>80.477500</td>\n",
       "      <td>24.9925</td>\n",
       "      <td>3.450000</td>\n",
       "      <td>1.442500</td>\n",
       "      <td>12.325000</td>\n",
       "      <td>1.000000</td>\n",
       "      <td>0.114948</td>\n",
       "    </tr>\n",
       "    <tr>\n",
       "      <th>North America</th>\n",
       "      <td>61.755000</td>\n",
       "      <td>38.7600</td>\n",
       "      <td>39.700000</td>\n",
       "      <td>2.405000</td>\n",
       "      <td>8.550000</td>\n",
       "      <td>0.500000</td>\n",
       "      <td>0.185498</td>\n",
       "    </tr>\n",
       "    <tr>\n",
       "      <th>Oceania</th>\n",
       "      <td>81.380000</td>\n",
       "      <td>26.6050</td>\n",
       "      <td>4.550000</td>\n",
       "      <td>1.495000</td>\n",
       "      <td>11.900000</td>\n",
       "      <td>1.000000</td>\n",
       "      <td>0.126805</td>\n",
       "    </tr>\n",
       "    <tr>\n",
       "      <th>South America</th>\n",
       "      <td>75.770000</td>\n",
       "      <td>32.3000</td>\n",
       "      <td>13.300000</td>\n",
       "      <td>0.760000</td>\n",
       "      <td>10.100000</td>\n",
       "      <td>1.000000</td>\n",
       "      <td>0.075248</td>\n",
       "    </tr>\n",
       "  </tbody>\n",
       "</table>\n",
       "</div>"
      ],
      "text/plain": [
       "               Life Exp.  Top-10 Income  Infant Mort.  Mil. Spend  \\\n",
       "Continent                                                           \n",
       "Africa         60.890000        32.4050     51.100000    1.465000   \n",
       "Asia           71.926667        27.3300     30.533333    4.386667   \n",
       "Europe         80.477500        24.9925      3.450000    1.442500   \n",
       "North America  61.755000        38.7600     39.700000    2.405000   \n",
       "Oceania        81.380000        26.6050      4.550000    1.495000   \n",
       "South America  75.770000        32.3000     13.300000    0.760000   \n",
       "\n",
       "               School Years  High Education  Mil School Ratio  \n",
       "Continent                                                      \n",
       "Africa             4.700000        0.000000          0.305960  \n",
       "Asia               6.433333        0.333333          3.982096  \n",
       "Europe            12.325000        1.000000          0.114948  \n",
       "North America      8.550000        0.500000          0.185498  \n",
       "Oceania           11.900000        1.000000          0.126805  \n",
       "South America     10.100000        1.000000          0.075248  "
      ]
     },
     "execution_count": 108,
     "metadata": {},
     "output_type": "execute_result"
    }
   ],
   "source": [
    "grouped_data.mean()"
   ]
  },
  {
   "cell_type": "code",
   "execution_count": null,
   "metadata": {},
   "outputs": [],
   "source": [
    "extended_countries_with_contnts.mean()"
   ]
  },
  {
   "cell_type": "code",
   "execution_count": 110,
   "metadata": {},
   "outputs": [
    {
     "data": {
      "text/html": [
       "<div>\n",
       "<style scoped>\n",
       "    .dataframe tbody tr th:only-of-type {\n",
       "        vertical-align: middle;\n",
       "    }\n",
       "\n",
       "    .dataframe tbody tr th {\n",
       "        vertical-align: top;\n",
       "    }\n",
       "\n",
       "    .dataframe thead th {\n",
       "        text-align: right;\n",
       "    }\n",
       "</style>\n",
       "<table border=\"1\" class=\"dataframe\">\n",
       "  <thead>\n",
       "    <tr style=\"text-align: right;\">\n",
       "      <th></th>\n",
       "      <th>Country ID</th>\n",
       "      <th>Life Exp.</th>\n",
       "      <th>Top-10 Income</th>\n",
       "      <th>Infant Mort.</th>\n",
       "      <th>Mil. Spend</th>\n",
       "      <th>School Years</th>\n",
       "      <th>High Education</th>\n",
       "      <th>Mil School Ratio</th>\n",
       "    </tr>\n",
       "    <tr>\n",
       "      <th>Continent</th>\n",
       "      <th></th>\n",
       "      <th></th>\n",
       "      <th></th>\n",
       "      <th></th>\n",
       "      <th></th>\n",
       "      <th></th>\n",
       "      <th></th>\n",
       "      <th></th>\n",
       "    </tr>\n",
       "  </thead>\n",
       "  <tbody>\n",
       "    <tr>\n",
       "      <th>Africa</th>\n",
       "      <td>Nigeria</td>\n",
       "      <td>70.48</td>\n",
       "      <td>38.23</td>\n",
       "      <td>82.6</td>\n",
       "      <td>1.86</td>\n",
       "      <td>5.3</td>\n",
       "      <td>False</td>\n",
       "      <td>0.350943</td>\n",
       "    </tr>\n",
       "    <tr>\n",
       "      <th>Asia</th>\n",
       "      <td>Israel</td>\n",
       "      <td>81.30</td>\n",
       "      <td>29.98</td>\n",
       "      <td>74.3</td>\n",
       "      <td>6.77</td>\n",
       "      <td>12.5</td>\n",
       "      <td>True</td>\n",
       "      <td>11.100000</td>\n",
       "    </tr>\n",
       "    <tr>\n",
       "      <th>Europe</th>\n",
       "      <td>U.K.</td>\n",
       "      <td>81.43</td>\n",
       "      <td>28.49</td>\n",
       "      <td>4.4</td>\n",
       "      <td>2.59</td>\n",
       "      <td>13.0</td>\n",
       "      <td>True</td>\n",
       "      <td>0.199231</td>\n",
       "    </tr>\n",
       "    <tr>\n",
       "      <th>North America</th>\n",
       "      <td>U.S.A</td>\n",
       "      <td>78.51</td>\n",
       "      <td>47.67</td>\n",
       "      <td>73.1</td>\n",
       "      <td>4.72</td>\n",
       "      <td>13.7</td>\n",
       "      <td>True</td>\n",
       "      <td>0.344526</td>\n",
       "    </tr>\n",
       "    <tr>\n",
       "      <th>Oceania</th>\n",
       "      <td>New Zealand</td>\n",
       "      <td>82.09</td>\n",
       "      <td>27.81</td>\n",
       "      <td>4.9</td>\n",
       "      <td>1.86</td>\n",
       "      <td>12.3</td>\n",
       "      <td>True</td>\n",
       "      <td>0.161739</td>\n",
       "    </tr>\n",
       "    <tr>\n",
       "      <th>South America</th>\n",
       "      <td>Argentina</td>\n",
       "      <td>75.77</td>\n",
       "      <td>32.30</td>\n",
       "      <td>13.3</td>\n",
       "      <td>0.76</td>\n",
       "      <td>10.1</td>\n",
       "      <td>True</td>\n",
       "      <td>0.075248</td>\n",
       "    </tr>\n",
       "  </tbody>\n",
       "</table>\n",
       "</div>"
      ],
      "text/plain": [
       "                Country ID  Life Exp.  Top-10 Income  Infant Mort.  \\\n",
       "Continent                                                            \n",
       "Africa             Nigeria      70.48          38.23          82.6   \n",
       "Asia                Israel      81.30          29.98          74.3   \n",
       "Europe                U.K.      81.43          28.49           4.4   \n",
       "North America        U.S.A      78.51          47.67          73.1   \n",
       "Oceania        New Zealand      82.09          27.81           4.9   \n",
       "South America    Argentina      75.77          32.30          13.3   \n",
       "\n",
       "               Mil. Spend  School Years  High Education  Mil School Ratio  \n",
       "Continent                                                                  \n",
       "Africa               1.86           5.3           False          0.350943  \n",
       "Asia                 6.77          12.5            True         11.100000  \n",
       "Europe               2.59          13.0            True          0.199231  \n",
       "North America        4.72          13.7            True          0.344526  \n",
       "Oceania              1.86          12.3            True          0.161739  \n",
       "South America        0.76          10.1            True          0.075248  "
      ]
     },
     "metadata": {},
     "output_type": "display_data"
    },
    {
     "data": {
      "text/html": [
       "<div>\n",
       "<style scoped>\n",
       "    .dataframe tbody tr th:only-of-type {\n",
       "        vertical-align: middle;\n",
       "    }\n",
       "\n",
       "    .dataframe tbody tr th {\n",
       "        vertical-align: top;\n",
       "    }\n",
       "\n",
       "    .dataframe thead th {\n",
       "        text-align: right;\n",
       "    }\n",
       "</style>\n",
       "<table border=\"1\" class=\"dataframe\">\n",
       "  <thead>\n",
       "    <tr style=\"text-align: right;\">\n",
       "      <th></th>\n",
       "      <th>Country ID</th>\n",
       "      <th>Life Exp.</th>\n",
       "      <th>Top-10 Income</th>\n",
       "      <th>Infant Mort.</th>\n",
       "      <th>Mil. Spend</th>\n",
       "      <th>School Years</th>\n",
       "      <th>High Education</th>\n",
       "      <th>Mil School Ratio</th>\n",
       "    </tr>\n",
       "    <tr>\n",
       "      <th>Continent</th>\n",
       "      <th></th>\n",
       "      <th></th>\n",
       "      <th></th>\n",
       "      <th></th>\n",
       "      <th></th>\n",
       "      <th></th>\n",
       "      <th></th>\n",
       "      <th></th>\n",
       "    </tr>\n",
       "  </thead>\n",
       "  <tbody>\n",
       "    <tr>\n",
       "      <th>Africa</th>\n",
       "      <td>Egypt</td>\n",
       "      <td>51.30</td>\n",
       "      <td>26.58</td>\n",
       "      <td>19.6</td>\n",
       "      <td>1.07</td>\n",
       "      <td>4.1</td>\n",
       "      <td>False</td>\n",
       "      <td>0.260976</td>\n",
       "    </tr>\n",
       "    <tr>\n",
       "      <th>Asia</th>\n",
       "      <td>Afghanistan</td>\n",
       "      <td>59.61</td>\n",
       "      <td>23.21</td>\n",
       "      <td>3.6</td>\n",
       "      <td>1.95</td>\n",
       "      <td>0.4</td>\n",
       "      <td>False</td>\n",
       "      <td>0.304688</td>\n",
       "    </tr>\n",
       "    <tr>\n",
       "      <th>Europe</th>\n",
       "      <td>Germany</td>\n",
       "      <td>80.09</td>\n",
       "      <td>22.07</td>\n",
       "      <td>2.4</td>\n",
       "      <td>0.60</td>\n",
       "      <td>11.5</td>\n",
       "      <td>True</td>\n",
       "      <td>0.052174</td>\n",
       "    </tr>\n",
       "    <tr>\n",
       "      <th>North America</th>\n",
       "      <td>Haiti</td>\n",
       "      <td>45.00</td>\n",
       "      <td>29.85</td>\n",
       "      <td>6.3</td>\n",
       "      <td>0.09</td>\n",
       "      <td>3.4</td>\n",
       "      <td>False</td>\n",
       "      <td>0.026471</td>\n",
       "    </tr>\n",
       "    <tr>\n",
       "      <th>Oceania</th>\n",
       "      <td>Australia</td>\n",
       "      <td>80.67</td>\n",
       "      <td>25.40</td>\n",
       "      <td>4.2</td>\n",
       "      <td>1.13</td>\n",
       "      <td>11.5</td>\n",
       "      <td>True</td>\n",
       "      <td>0.091870</td>\n",
       "    </tr>\n",
       "    <tr>\n",
       "      <th>South America</th>\n",
       "      <td>Argentina</td>\n",
       "      <td>75.77</td>\n",
       "      <td>32.30</td>\n",
       "      <td>13.3</td>\n",
       "      <td>0.76</td>\n",
       "      <td>10.1</td>\n",
       "      <td>True</td>\n",
       "      <td>0.075248</td>\n",
       "    </tr>\n",
       "  </tbody>\n",
       "</table>\n",
       "</div>"
      ],
      "text/plain": [
       "                Country ID  Life Exp.  Top-10 Income  Infant Mort.  \\\n",
       "Continent                                                            \n",
       "Africa               Egypt      51.30          26.58          19.6   \n",
       "Asia           Afghanistan      59.61          23.21           3.6   \n",
       "Europe             Germany      80.09          22.07           2.4   \n",
       "North America        Haiti      45.00          29.85           6.3   \n",
       "Oceania          Australia      80.67          25.40           4.2   \n",
       "South America    Argentina      75.77          32.30          13.3   \n",
       "\n",
       "               Mil. Spend  School Years  High Education  Mil School Ratio  \n",
       "Continent                                                                  \n",
       "Africa               1.07           4.1           False          0.260976  \n",
       "Asia                 1.95           0.4           False          0.304688  \n",
       "Europe               0.60          11.5            True          0.052174  \n",
       "North America        0.09           3.4           False          0.026471  \n",
       "Oceania              1.13          11.5            True          0.091870  \n",
       "South America        0.76          10.1            True          0.075248  "
      ]
     },
     "metadata": {},
     "output_type": "display_data"
    }
   ],
   "source": [
    "display(grouped_data.max())\n",
    "display(grouped_data.min())"
   ]
  },
  {
   "cell_type": "markdown",
   "metadata": {},
   "source": [
    "We can use column selection on the grouped data object to only see details of certain columns. "
   ]
  },
  {
   "cell_type": "code",
   "execution_count": 112,
   "metadata": {
    "scrolled": true
   },
   "outputs": [
    {
     "data": {
      "text/html": [
       "<div>\n",
       "<style scoped>\n",
       "    .dataframe tbody tr th:only-of-type {\n",
       "        vertical-align: middle;\n",
       "    }\n",
       "\n",
       "    .dataframe tbody tr th {\n",
       "        vertical-align: top;\n",
       "    }\n",
       "\n",
       "    .dataframe thead th {\n",
       "        text-align: right;\n",
       "    }\n",
       "</style>\n",
       "<table border=\"1\" class=\"dataframe\">\n",
       "  <thead>\n",
       "    <tr style=\"text-align: right;\">\n",
       "      <th></th>\n",
       "      <th>count</th>\n",
       "      <th>mean</th>\n",
       "      <th>std</th>\n",
       "      <th>min</th>\n",
       "      <th>25%</th>\n",
       "      <th>50%</th>\n",
       "      <th>75%</th>\n",
       "      <th>max</th>\n",
       "    </tr>\n",
       "    <tr>\n",
       "      <th>Continent</th>\n",
       "      <th></th>\n",
       "      <th></th>\n",
       "      <th></th>\n",
       "      <th></th>\n",
       "      <th></th>\n",
       "      <th></th>\n",
       "      <th></th>\n",
       "      <th></th>\n",
       "    </tr>\n",
       "  </thead>\n",
       "  <tbody>\n",
       "    <tr>\n",
       "      <th>Africa</th>\n",
       "      <td>2.0</td>\n",
       "      <td>1.465000</td>\n",
       "      <td>0.558614</td>\n",
       "      <td>1.07</td>\n",
       "      <td>1.2675</td>\n",
       "      <td>1.465</td>\n",
       "      <td>1.6625</td>\n",
       "      <td>1.86</td>\n",
       "    </tr>\n",
       "    <tr>\n",
       "      <th>Asia</th>\n",
       "      <td>3.0</td>\n",
       "      <td>4.386667</td>\n",
       "      <td>2.410443</td>\n",
       "      <td>1.95</td>\n",
       "      <td>3.1950</td>\n",
       "      <td>4.440</td>\n",
       "      <td>5.6050</td>\n",
       "      <td>6.77</td>\n",
       "    </tr>\n",
       "    <tr>\n",
       "      <th>Europe</th>\n",
       "      <td>4.0</td>\n",
       "      <td>1.442500</td>\n",
       "      <td>0.831440</td>\n",
       "      <td>0.60</td>\n",
       "      <td>1.1025</td>\n",
       "      <td>1.290</td>\n",
       "      <td>1.6300</td>\n",
       "      <td>2.59</td>\n",
       "    </tr>\n",
       "    <tr>\n",
       "      <th>North America</th>\n",
       "      <td>2.0</td>\n",
       "      <td>2.405000</td>\n",
       "      <td>3.273904</td>\n",
       "      <td>0.09</td>\n",
       "      <td>1.2475</td>\n",
       "      <td>2.405</td>\n",
       "      <td>3.5625</td>\n",
       "      <td>4.72</td>\n",
       "    </tr>\n",
       "    <tr>\n",
       "      <th>Oceania</th>\n",
       "      <td>2.0</td>\n",
       "      <td>1.495000</td>\n",
       "      <td>0.516188</td>\n",
       "      <td>1.13</td>\n",
       "      <td>1.3125</td>\n",
       "      <td>1.495</td>\n",
       "      <td>1.6775</td>\n",
       "      <td>1.86</td>\n",
       "    </tr>\n",
       "    <tr>\n",
       "      <th>South America</th>\n",
       "      <td>1.0</td>\n",
       "      <td>0.760000</td>\n",
       "      <td>NaN</td>\n",
       "      <td>0.76</td>\n",
       "      <td>0.7600</td>\n",
       "      <td>0.760</td>\n",
       "      <td>0.7600</td>\n",
       "      <td>0.76</td>\n",
       "    </tr>\n",
       "  </tbody>\n",
       "</table>\n",
       "</div>"
      ],
      "text/plain": [
       "               count      mean       std   min     25%    50%     75%   max\n",
       "Continent                                                                  \n",
       "Africa           2.0  1.465000  0.558614  1.07  1.2675  1.465  1.6625  1.86\n",
       "Asia             3.0  4.386667  2.410443  1.95  3.1950  4.440  5.6050  6.77\n",
       "Europe           4.0  1.442500  0.831440  0.60  1.1025  1.290  1.6300  2.59\n",
       "North America    2.0  2.405000  3.273904  0.09  1.2475  2.405  3.5625  4.72\n",
       "Oceania          2.0  1.495000  0.516188  1.13  1.3125  1.495  1.6775  1.86\n",
       "South America    1.0  0.760000       NaN  0.76  0.7600  0.760  0.7600  0.76"
      ]
     },
     "metadata": {},
     "output_type": "display_data"
    }
   ],
   "source": [
    "display(grouped_data['Mil. Spend'].describe())"
   ]
  },
  {
   "cell_type": "markdown",
   "metadata": {},
   "source": [
    "Or to look at multiple columns:"
   ]
  },
  {
   "cell_type": "code",
   "execution_count": 113,
   "metadata": {},
   "outputs": [
    {
     "data": {
      "text/html": [
       "<div>\n",
       "<style scoped>\n",
       "    .dataframe tbody tr th:only-of-type {\n",
       "        vertical-align: middle;\n",
       "    }\n",
       "\n",
       "    .dataframe tbody tr th {\n",
       "        vertical-align: top;\n",
       "    }\n",
       "\n",
       "    .dataframe thead tr th {\n",
       "        text-align: left;\n",
       "    }\n",
       "\n",
       "    .dataframe thead tr:last-of-type th {\n",
       "        text-align: right;\n",
       "    }\n",
       "</style>\n",
       "<table border=\"1\" class=\"dataframe\">\n",
       "  <thead>\n",
       "    <tr>\n",
       "      <th></th>\n",
       "      <th colspan=\"8\" halign=\"left\">Life Exp.</th>\n",
       "      <th colspan=\"8\" halign=\"left\">Infant Mort.</th>\n",
       "    </tr>\n",
       "    <tr>\n",
       "      <th></th>\n",
       "      <th>count</th>\n",
       "      <th>mean</th>\n",
       "      <th>std</th>\n",
       "      <th>min</th>\n",
       "      <th>25%</th>\n",
       "      <th>50%</th>\n",
       "      <th>75%</th>\n",
       "      <th>max</th>\n",
       "      <th>count</th>\n",
       "      <th>mean</th>\n",
       "      <th>std</th>\n",
       "      <th>min</th>\n",
       "      <th>25%</th>\n",
       "      <th>50%</th>\n",
       "      <th>75%</th>\n",
       "      <th>max</th>\n",
       "    </tr>\n",
       "    <tr>\n",
       "      <th>Continent</th>\n",
       "      <th></th>\n",
       "      <th></th>\n",
       "      <th></th>\n",
       "      <th></th>\n",
       "      <th></th>\n",
       "      <th></th>\n",
       "      <th></th>\n",
       "      <th></th>\n",
       "      <th></th>\n",
       "      <th></th>\n",
       "      <th></th>\n",
       "      <th></th>\n",
       "      <th></th>\n",
       "      <th></th>\n",
       "      <th></th>\n",
       "      <th></th>\n",
       "    </tr>\n",
       "  </thead>\n",
       "  <tbody>\n",
       "    <tr>\n",
       "      <th>Africa</th>\n",
       "      <td>2.0</td>\n",
       "      <td>60.890000</td>\n",
       "      <td>13.562308</td>\n",
       "      <td>51.30</td>\n",
       "      <td>56.0950</td>\n",
       "      <td>60.890</td>\n",
       "      <td>65.6850</td>\n",
       "      <td>70.48</td>\n",
       "      <td>2.0</td>\n",
       "      <td>51.100000</td>\n",
       "      <td>44.547727</td>\n",
       "      <td>19.6</td>\n",
       "      <td>35.350</td>\n",
       "      <td>51.10</td>\n",
       "      <td>66.850</td>\n",
       "      <td>82.6</td>\n",
       "    </tr>\n",
       "    <tr>\n",
       "      <th>Asia</th>\n",
       "      <td>3.0</td>\n",
       "      <td>71.926667</td>\n",
       "      <td>11.140531</td>\n",
       "      <td>59.61</td>\n",
       "      <td>67.2400</td>\n",
       "      <td>74.870</td>\n",
       "      <td>78.0850</td>\n",
       "      <td>81.30</td>\n",
       "      <td>3.0</td>\n",
       "      <td>30.533333</td>\n",
       "      <td>38.237983</td>\n",
       "      <td>3.6</td>\n",
       "      <td>8.650</td>\n",
       "      <td>13.70</td>\n",
       "      <td>44.000</td>\n",
       "      <td>74.3</td>\n",
       "    </tr>\n",
       "    <tr>\n",
       "      <th>Europe</th>\n",
       "      <td>4.0</td>\n",
       "      <td>80.477500</td>\n",
       "      <td>0.637985</td>\n",
       "      <td>80.09</td>\n",
       "      <td>80.1350</td>\n",
       "      <td>80.195</td>\n",
       "      <td>80.5375</td>\n",
       "      <td>81.43</td>\n",
       "      <td>4.0</td>\n",
       "      <td>3.450000</td>\n",
       "      <td>0.818535</td>\n",
       "      <td>2.4</td>\n",
       "      <td>3.225</td>\n",
       "      <td>3.50</td>\n",
       "      <td>3.725</td>\n",
       "      <td>4.4</td>\n",
       "    </tr>\n",
       "    <tr>\n",
       "      <th>North America</th>\n",
       "      <td>2.0</td>\n",
       "      <td>61.755000</td>\n",
       "      <td>23.695148</td>\n",
       "      <td>45.00</td>\n",
       "      <td>53.3775</td>\n",
       "      <td>61.755</td>\n",
       "      <td>70.1325</td>\n",
       "      <td>78.51</td>\n",
       "      <td>2.0</td>\n",
       "      <td>39.700000</td>\n",
       "      <td>47.234733</td>\n",
       "      <td>6.3</td>\n",
       "      <td>23.000</td>\n",
       "      <td>39.70</td>\n",
       "      <td>56.400</td>\n",
       "      <td>73.1</td>\n",
       "    </tr>\n",
       "    <tr>\n",
       "      <th>Oceania</th>\n",
       "      <td>2.0</td>\n",
       "      <td>81.380000</td>\n",
       "      <td>1.004092</td>\n",
       "      <td>80.67</td>\n",
       "      <td>81.0250</td>\n",
       "      <td>81.380</td>\n",
       "      <td>81.7350</td>\n",
       "      <td>82.09</td>\n",
       "      <td>2.0</td>\n",
       "      <td>4.550000</td>\n",
       "      <td>0.494975</td>\n",
       "      <td>4.2</td>\n",
       "      <td>4.375</td>\n",
       "      <td>4.55</td>\n",
       "      <td>4.725</td>\n",
       "      <td>4.9</td>\n",
       "    </tr>\n",
       "    <tr>\n",
       "      <th>South America</th>\n",
       "      <td>1.0</td>\n",
       "      <td>75.770000</td>\n",
       "      <td>NaN</td>\n",
       "      <td>75.77</td>\n",
       "      <td>75.7700</td>\n",
       "      <td>75.770</td>\n",
       "      <td>75.7700</td>\n",
       "      <td>75.77</td>\n",
       "      <td>1.0</td>\n",
       "      <td>13.300000</td>\n",
       "      <td>NaN</td>\n",
       "      <td>13.3</td>\n",
       "      <td>13.300</td>\n",
       "      <td>13.30</td>\n",
       "      <td>13.300</td>\n",
       "      <td>13.3</td>\n",
       "    </tr>\n",
       "  </tbody>\n",
       "</table>\n",
       "</div>"
      ],
      "text/plain": [
       "              Life Exp.                                                \\\n",
       "                  count       mean        std    min      25%     50%   \n",
       "Continent                                                               \n",
       "Africa              2.0  60.890000  13.562308  51.30  56.0950  60.890   \n",
       "Asia                3.0  71.926667  11.140531  59.61  67.2400  74.870   \n",
       "Europe              4.0  80.477500   0.637985  80.09  80.1350  80.195   \n",
       "North America       2.0  61.755000  23.695148  45.00  53.3775  61.755   \n",
       "Oceania             2.0  81.380000   1.004092  80.67  81.0250  81.380   \n",
       "South America       1.0  75.770000        NaN  75.77  75.7700  75.770   \n",
       "\n",
       "                              Infant Mort.                              \\\n",
       "                   75%    max        count       mean        std   min   \n",
       "Continent                                                                \n",
       "Africa         65.6850  70.48          2.0  51.100000  44.547727  19.6   \n",
       "Asia           78.0850  81.30          3.0  30.533333  38.237983   3.6   \n",
       "Europe         80.5375  81.43          4.0   3.450000   0.818535   2.4   \n",
       "North America  70.1325  78.51          2.0  39.700000  47.234733   6.3   \n",
       "Oceania        81.7350  82.09          2.0   4.550000   0.494975   4.2   \n",
       "South America  75.7700  75.77          1.0  13.300000        NaN  13.3   \n",
       "\n",
       "                                            \n",
       "                  25%    50%     75%   max  \n",
       "Continent                                   \n",
       "Africa         35.350  51.10  66.850  82.6  \n",
       "Asia            8.650  13.70  44.000  74.3  \n",
       "Europe          3.225   3.50   3.725   4.4  \n",
       "North America  23.000  39.70  56.400  73.1  \n",
       "Oceania         4.375   4.55   4.725   4.9  \n",
       "South America  13.300  13.30  13.300  13.3  "
      ]
     },
     "metadata": {},
     "output_type": "display_data"
    }
   ],
   "source": [
    "display(grouped_data[['Life Exp.', 'Infant Mort.']].describe())"
   ]
  },
  {
   "cell_type": "markdown",
   "metadata": {},
   "source": [
    "Using groups we can also perform **data aggregation** jobs - rolling up muptiple rows of data into a single row that aggregates them. To do this we use the **agg** function in conection with grouped data. For example to create a dataset containing the mean life expectancy of each continent we could use:"
   ]
  },
  {
   "cell_type": "code",
   "execution_count": null,
   "metadata": {},
   "outputs": [],
   "source": [
    "grouped_data['Life Exp.'].agg([np.mean])"
   ]
  },
  {
   "cell_type": "markdown",
   "metadata": {},
   "source": [
    "We can add multiple measurs to this aggregation - for example including max and min as well as mean:"
   ]
  },
  {
   "cell_type": "code",
   "execution_count": null,
   "metadata": {},
   "outputs": [],
   "source": [
    "grouped_data['Life Exp.'].agg([np.mean, np.min, np.max])"
   ]
  },
  {
   "cell_type": "markdown",
   "metadata": {},
   "source": [
    "We can do this for multiple columns from the original dataset to be even more expressive."
   ]
  },
  {
   "cell_type": "code",
   "execution_count": null,
   "metadata": {},
   "outputs": [],
   "source": [
    "grouped_data[['Life Exp.', 'Infant Mort.']].agg([np.mean, np.min, np.max])"
   ]
  },
  {
   "cell_type": "code",
   "execution_count": null,
   "metadata": {},
   "outputs": [],
   "source": [
    "grouped_data.agg([np.mean])"
   ]
  },
  {
   "cell_type": "markdown",
   "metadata": {
    "collapsed": true
   },
   "source": [
    "### Simple Analysis"
   ]
  },
  {
   "cell_type": "markdown",
   "metadata": {},
   "source": [
    "Remember we can use simple analysis functions to start analysing data. The most interesting are **describe**, and **value_counts**."
   ]
  },
  {
   "cell_type": "code",
   "execution_count": null,
   "metadata": {},
   "outputs": [],
   "source": [
    "extended_countries_with_pop[\"School Years\"].describe()"
   ]
  },
  {
   "cell_type": "code",
   "execution_count": null,
   "metadata": {},
   "outputs": [],
   "source": [
    "extended_countries_with_contnts[\"Continent\"].describe()"
   ]
  },
  {
   "cell_type": "code",
   "execution_count": null,
   "metadata": {},
   "outputs": [],
   "source": [
    "extended_countries_with_contnts[\"Continent\"].value_counts()"
   ]
  },
  {
   "cell_type": "code",
   "execution_count": null,
   "metadata": {},
   "outputs": [],
   "source": []
  }
 ],
 "metadata": {
  "anaconda-cloud": {},
  "kernelspec": {
   "display_name": "Python 3",
   "language": "python",
   "name": "python3"
  },
  "language_info": {
   "codemirror_mode": {
    "name": "ipython",
    "version": 3
   },
   "file_extension": ".py",
   "mimetype": "text/x-python",
   "name": "python",
   "nbconvert_exporter": "python",
   "pygments_lexer": "ipython3",
   "version": "3.6.7"
  }
 },
 "nbformat": 4,
 "nbformat_minor": 1
}
