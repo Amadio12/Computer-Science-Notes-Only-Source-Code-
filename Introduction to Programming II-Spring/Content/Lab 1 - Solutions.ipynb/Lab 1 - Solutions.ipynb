{
 "cells": [
  {
   "cell_type": "markdown",
   "metadata": {},
   "source": [
    "# COMP 10020 Introduction to Programming 2 \n",
    "## Lab 1 - Rugby Sabremetrics"
   ]
  },
  {
   "cell_type": "markdown",
   "metadata": {},
   "source": [
    "In this lab you will be tasked with exercising your key Python programming skills. The **Pick & Go Test Match Results Database** (http://www.lassen.co.nz/pickandgo.php) contains the results of every international rugby match played since 1875. The following code block reads data from a data file (*'RugbyResultsData.csv'*) scraped from Pick & Go and stores  this in a list of dictionary objects, each of which contains the detaisl of a match. The details stored about each match are stored in a dictionary object with the following keys:\n",
    "\n",
    "* **Date**: The date on which the match was played \n",
    "* **Day**: The day of the week on which the match was played \n",
    "* **Year**: The year in which the match was played\n",
    "* **Team_1**: The home team (three letter country code, e.g. IRL = Ireland, NZL = New Zealand)\n",
    "* **Team_2**: The away team (three letter country code, e.g. IRL = Ireland, NZL = New Zealand)\n",
    "* **Team_1_Score**: The score achieved by the home team.\t\n",
    "* **Team_2_Score**: The score achieved by the away team.\t\n",
    "* **Team_1_Tries**: The number of tries scored by the home team.\n",
    "* **Team_2_Tries**: The number of tries scored by the away team.\n",
    "* **Neutral**: Was the match played at a neutral venue?"
   ]
  },
  {
   "cell_type": "code",
   "execution_count": 3,
   "metadata": {
    "collapsed": false
   },
   "outputs": [
    {
     "name": "stdout",
     "output_type": "stream",
     "text": [
      "3234 matches loaded\n"
     ]
    }
   ],
   "source": [
    "matches = list()\n",
    "count = 0\n",
    "with open('RugbyResultsData.csv') as f:\n",
    "    for line in f:\n",
    "        words = line.split(',')\n",
    "        match = {\"Date\":words[0],\"Day\":words[1],\"Year\":int(words[2]),\"Team_1\":words[3],\"Team_2\":words[4],\"Team_1_Score\":int(words[5]),\"Team_2_Score\":int(words[6]),\"Team_1_Tries\":int(words[7]),\"Team_2_Tries\":int(words[8]),\"Neutral\":words[9][0]}\n",
    "        matches.append(match)\n",
    "        count = count + 1\n",
    "    \n",
    "print(str(count) + \" matches loaded\")"
   ]
  },
  {
   "cell_type": "markdown",
   "metadata": {},
   "source": [
    "The details of a specific match are accessed by first selecting an element from the **matches** list and then accessing specific pieces of data about that match from the dictionary. For example, the year and teams involved in the third match in the list could be accessed as follows:"
   ]
  },
  {
   "cell_type": "code",
   "execution_count": 46,
   "metadata": {
    "collapsed": false
   },
   "outputs": [
    {
     "data": {
      "text/plain": [
       "1875"
      ]
     },
     "execution_count": 46,
     "metadata": {},
     "output_type": "execute_result"
    }
   ],
   "source": [
    "matches[2][\"Year\"]"
   ]
  },
  {
   "cell_type": "code",
   "execution_count": 47,
   "metadata": {
    "collapsed": false
   },
   "outputs": [
    {
     "data": {
      "text/plain": [
       "'IRE'"
      ]
     },
     "execution_count": 47,
     "metadata": {},
     "output_type": "execute_result"
    }
   ],
   "source": [
    "matches[2][\"Team_1\"]"
   ]
  },
  {
   "cell_type": "code",
   "execution_count": 48,
   "metadata": {
    "collapsed": false,
    "scrolled": true
   },
   "outputs": [
    {
     "data": {
      "text/plain": [
       "'ENG'"
      ]
     },
     "execution_count": 48,
     "metadata": {},
     "output_type": "execute_result"
    }
   ],
   "source": [
    "matches[2][\"Team_2\"]"
   ]
  },
  {
   "cell_type": "markdown",
   "metadata": {},
   "source": [
    "The task in this lab is to answer the question below using simple Python code. **DO NOT** use advanced packages (e.g. pandas or numpy) for these tasks, write all code yourself."
   ]
  },
  {
   "cell_type": "markdown",
   "metadata": {},
   "source": [
    "### Question 1"
   ]
  },
  {
   "cell_type": "markdown",
   "metadata": {},
   "source": [
    "What is the highest score that any team has achieved in a single match?"
   ]
  },
  {
   "cell_type": "code",
   "execution_count": 9,
   "metadata": {
    "collapsed": false
   },
   "outputs": [
    {
     "name": "stdout",
     "output_type": "stream",
     "text": [
      "high score:145\n",
      "{'Neutral': 'Y', 'Team_2_Score': 17, 'Team_1_Score': 145, 'Team_1': 'NZL', 'Team_2': 'JAP', 'Year': 1995, 'Date': '04 Jun 1995', 'Team_2_Tries': 2, 'Day': 'Sun', 'Team_1_Tries': 21}\n"
     ]
    }
   ],
   "source": [
    "# Write code to determine and print the answer here.\n",
    "\n",
    "high_score = 0\n",
    "high_score_match = None\n",
    "\n",
    "for match in matches:\n",
    "    if(match[\"Team_1_Score\"] > high_score):\n",
    "        high_score = match[\"Team_1_Score\"]\n",
    "        high_score_match = match\n",
    "    \n",
    "    if(match[\"Team_2_Score\"] > high_score):\n",
    "        high_score = match[\"Team_2_Score\"]\n",
    "        high_score_match = match\n",
    "\n",
    "print(\"high score:\" + str(high_score))\n",
    "print(high_score_match)"
   ]
  },
  {
   "cell_type": "markdown",
   "metadata": {},
   "source": [
    "### Question 2"
   ]
  },
  {
   "cell_type": "markdown",
   "metadata": {},
   "source": [
    "What is the highest number of tries that any team has achieved in a single match?"
   ]
  },
  {
   "cell_type": "code",
   "execution_count": 10,
   "metadata": {
    "collapsed": false
   },
   "outputs": [
    {
     "name": "stdout",
     "output_type": "stream",
     "text": [
      "high tries:22\n",
      "{'Neutral': 'N', 'Team_2_Score': 0, 'Team_1_Score': 142, 'Team_1': 'AUS', 'Team_2': 'NAM', 'Year': 2003, 'Date': '25 Oct 2003', 'Team_2_Tries': 0, 'Day': 'Sat', 'Team_1_Tries': 22}\n"
     ]
    }
   ],
   "source": [
    "# Write code to determine and print the answer here.\n",
    "high_tries = 0\n",
    "high_tries_match = None\n",
    "\n",
    "for match in matches:\n",
    "    if(match[\"Team_1_Tries\"] > high_tries):\n",
    "        high_tries = match[\"Team_1_Tries\"]\n",
    "        high_tries_match = match\n",
    "    \n",
    "    if(match[\"Team_2_Tries\"] > high_tries):\n",
    "        high_tries = match[\"Team_2_Tries\"]\n",
    "        high_tries_match = match\n",
    "\n",
    "print(\"high tries:\" + str(high_tries))\n",
    "print(high_tries_match)"
   ]
  },
  {
   "cell_type": "markdown",
   "metadata": {},
   "source": [
    "### Question 3"
   ]
  },
  {
   "cell_type": "markdown",
   "metadata": {},
   "source": [
    "What is the biggest points difference ever seen in a match? Who was playing?"
   ]
  },
  {
   "cell_type": "code",
   "execution_count": 12,
   "metadata": {
    "collapsed": false
   },
   "outputs": [
    {
     "name": "stdout",
     "output_type": "stream",
     "text": [
      "high points diff:142\n",
      "{'Neutral': 'N', 'Team_2_Score': 0, 'Team_1_Score': 142, 'Team_1': 'AUS', 'Team_2': 'NAM', 'Year': 2003, 'Date': '25 Oct 2003', 'Team_2_Tries': 0, 'Day': 'Sat', 'Team_1_Tries': 22}\n"
     ]
    }
   ],
   "source": [
    "# Write code to determine and print the answer here.\n",
    "high_points_diff = 0\n",
    "high_points_diff_match = None\n",
    "\n",
    "for match in matches:\n",
    "    points_diff = abs(match[\"Team_1_Score\"] - match[\"Team_2_Score\"])\n",
    "    \n",
    "    if(points_diff > high_points_diff):\n",
    "        high_points_diff = points_diff\n",
    "        high_points_diff_match = match\n",
    "\n",
    "print(\"high points diff:\" + str(high_points_diff))\n",
    "print(high_points_diff_match)"
   ]
  },
  {
   "cell_type": "markdown",
   "metadata": {},
   "source": [
    "### Question 4"
   ]
  },
  {
   "cell_type": "markdown",
   "metadata": {},
   "source": [
    "How many matches have Ireland played since records began?"
   ]
  },
  {
   "cell_type": "code",
   "execution_count": 18,
   "metadata": {
    "collapsed": false
   },
   "outputs": [
    {
     "name": "stdout",
     "output_type": "stream",
     "text": [
      "Ireland games:669\n"
     ]
    }
   ],
   "source": [
    "# Write code to determine and print the answer here.\n",
    "ire_games = 0\n",
    "\n",
    "for match in matches:\n",
    "    \n",
    "    if(match[\"Team_1\"] == \"IRE\" or match[\"Team_2\"] == \"IRE\"):\n",
    "        ire_games = ire_games + 1\n",
    "\n",
    "print(\"Ireland games:\" + str(ire_games))"
   ]
  },
  {
   "cell_type": "markdown",
   "metadata": {},
   "source": [
    "### Question 5"
   ]
  },
  {
   "cell_type": "markdown",
   "metadata": {},
   "source": [
    "How many times have Ireland played England since records began?"
   ]
  },
  {
   "cell_type": "code",
   "execution_count": 19,
   "metadata": {
    "collapsed": false
   },
   "outputs": [
    {
     "name": "stdout",
     "output_type": "stream",
     "text": [
      "Ireland-England games:131\n"
     ]
    }
   ],
   "source": [
    "# Write code to determine and print the answer here.\n",
    "ire_eng_games = 0\n",
    "\n",
    "for match in matches:\n",
    "    \n",
    "    if((match[\"Team_1\"] == \"IRE\" and match[\"Team_2\"] == \"ENG\") or (match[\"Team_2\"] == \"IRE\" and match[\"Team_1\"] == \"ENG\")):\n",
    "        ire_eng_games = ire_eng_games + 1\n",
    "\n",
    "print(\"Ireland-England games:\" + str(ire_eng_games))"
   ]
  },
  {
   "cell_type": "markdown",
   "metadata": {},
   "source": [
    "### Question 6"
   ]
  },
  {
   "cell_type": "markdown",
   "metadata": {},
   "source": [
    "Which team have played the most matches since records began?"
   ]
  },
  {
   "cell_type": "code",
   "execution_count": 22,
   "metadata": {
    "collapsed": false
   },
   "outputs": [
    {
     "name": "stdout",
     "output_type": "stream",
     "text": [
      "{'PAR': 1, 'USA': 75, 'LIO': 108, 'CAV': 4, 'NAM': 27, 'PAC': 9, 'TON': 59, 'CAN': 83, 'NET': 3, 'KOR': 1, 'GER': 15, 'SCO': 658, 'ROM': 132, 'SAM': 89, 'POR': 10, 'SAF': 465, 'SPA': 8, 'GEO': 27, 'NSW': 32, 'FRA': 723, 'WAL': 686, 'ENG': 697, 'CHL': 4, 'JAP': 59, 'WOR': 6, 'URU': 25, 'AUS': 558, 'FIJ': 89, 'JAG': 8, 'ZIM': 9, 'IRE': 669, 'NZL': 574, 'CZR': 6, 'IVO': 3, 'ITA': 266, 'ARG': 270, 'RUS': 10}\n",
      "FRA\n",
      "723\n"
     ]
    }
   ],
   "source": [
    "# Write code to determine and print the answer here.\n",
    "games_played_map = dict()\n",
    "\n",
    "# Count the number of matches played by each team\n",
    "for match in matches:\n",
    "    if(match[\"Team_1\"] in games_played_map):\n",
    "        games_played_map[match[\"Team_1\"]] += 1\n",
    "    else:\n",
    "        games_played_map[match[\"Team_1\"]] = 1\n",
    "        \n",
    "    if(match[\"Team_2\"] in games_played_map):\n",
    "        games_played_map[match[\"Team_2\"]] += 1\n",
    "    else:\n",
    "        games_played_map[match[\"Team_2\"]] = 1\n",
    "\n",
    "print(games_played_map)\n",
    "\n",
    "# Determine the team that has played the most matches\n",
    "most_played = 0\n",
    "most_played_team = None\n",
    "\n",
    "for team in games_played_map:\n",
    "    if(games_played_map[team] > most_played):\n",
    "        most_played = games_played_map[team] \n",
    "        most_played_team = team\n",
    "\n",
    "print(most_played_team)\n",
    "print(most_played)"
   ]
  },
  {
   "cell_type": "markdown",
   "metadata": {},
   "source": [
    "### Question 7"
   ]
  },
  {
   "cell_type": "markdown",
   "metadata": {},
   "source": [
    "Which team is the “*winningest*” (i.e. has managed the most wins since records began)?"
   ]
  },
  {
   "cell_type": "code",
   "execution_count": 24,
   "metadata": {
    "collapsed": false
   },
   "outputs": [
    {
     "name": "stdout",
     "output_type": "stream",
     "text": [
      "{'USA': 10, 'LIO': 40, 'CAV': 1, 'NAM': 2, 'PAC': 1, 'TON': 13, 'CAN': 16, 'GER': 2, 'SCO': 279, 'ROM': 26, 'SAM': 33, 'POR': 1, 'SAF': 294, 'GEO': 8, 'NSW': 9, 'FRA': 396, 'WAL': 352, 'ENG': 380, 'JAP': 9, 'WOR': 1, 'URU': 2, 'AUS': 294, 'FIJ': 19, 'JAG': 1, 'IRE': 290, 'NZL': 442, 'ITA': 74, 'ARG': 106, 'RUS': 1}\n",
      "NZL\n",
      "442\n"
     ]
    }
   ],
   "source": [
    "# Write code to determine and print the answer here.\n",
    "games_won_map = dict()\n",
    "\n",
    "# Count the number of wins for each team\n",
    "for match in matches:\n",
    "    if(match[\"Team_1_Score\"] > match[\"Team_2_Score\"]):\n",
    "        if(match[\"Team_1\"] in games_won_map):\n",
    "            games_won_map[match[\"Team_1\"]] += 1\n",
    "        else:\n",
    "            games_won_map[match[\"Team_1\"]] = 1\n",
    "\n",
    "    elif(match[\"Team_2_Score\"] > match[\"Team_1_Score\"]):    \n",
    "        if(match[\"Team_2\"] in games_won_map):\n",
    "            games_won_map[match[\"Team_2\"]] += 1\n",
    "        else:\n",
    "            games_won_map[match[\"Team_2\"]] = 1\n",
    "\n",
    "print(games_won_map)\n",
    "\n",
    "# Determine the team that has won the most matches\n",
    "most_won = 0\n",
    "most_won_team = None\n",
    "\n",
    "for team in games_won_map:\n",
    "    if(games_won_map[team] > most_won):\n",
    "        most_won = games_won_map[team] \n",
    "        most_won_team = team\n",
    "\n",
    "print(most_won_team)\n",
    "print(most_won)\n"
   ]
  },
  {
   "cell_type": "markdown",
   "metadata": {},
   "source": [
    "### Question 8"
   ]
  },
  {
   "cell_type": "markdown",
   "metadata": {},
   "source": [
    "Is there really a home advantage – i.e. does the home team win more often than the away team? Justify your answer."
   ]
  },
  {
   "cell_type": "code",
   "execution_count": 27,
   "metadata": {
    "collapsed": false
   },
   "outputs": [
    {
     "name": "stdout",
     "output_type": "stream",
     "text": [
      "1711\n",
      "1122\n",
      "Home advantage is real\n"
     ]
    }
   ],
   "source": [
    "# Write code to determine and print the answer here.\n",
    "home_wins = 0\n",
    "away_wins = 0\n",
    "\n",
    "# Count the number of wins for each team\n",
    "for match in matches:\n",
    "    if(match[\"Neutral\"] == \"N\"):\n",
    "        if(match[\"Team_1_Score\"] > match[\"Team_2_Score\"]):\n",
    "            home_wins += 1\n",
    "        elif(match[\"Team_2_Score\"] > match[\"Team_1_Score\"]):\n",
    "            away_wins += 1\n",
    "            \n",
    "print(home_wins)\n",
    "print(away_wins)\n",
    "\n",
    "if(home_wins > away_wins):\n",
    "    print(\"Home advantage is real\")\n",
    "elif(away_wins > home_wins):\n",
    "    print(\"Home advantage is fake news\")"
   ]
  },
  {
   "cell_type": "code",
   "execution_count": null,
   "metadata": {
    "collapsed": true
   },
   "outputs": [],
   "source": []
  }
 ],
 "metadata": {
  "anaconda-cloud": {},
  "kernelspec": {
   "display_name": "Python [Root]",
   "language": "python",
   "name": "Python [Root]"
  },
  "language_info": {
   "codemirror_mode": {
    "name": "ipython",
    "version": 2
   },
   "file_extension": ".py",
   "mimetype": "text/x-python",
   "name": "python",
   "nbconvert_exporter": "python",
   "pygments_lexer": "ipython2",
   "version": "2.7.12"
  }
 },
 "nbformat": 4,
 "nbformat_minor": 0
}
