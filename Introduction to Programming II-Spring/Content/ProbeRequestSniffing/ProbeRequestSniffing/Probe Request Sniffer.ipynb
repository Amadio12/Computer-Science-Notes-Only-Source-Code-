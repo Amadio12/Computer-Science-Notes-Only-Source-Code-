{
 "cells": [
  {
   "cell_type": "code",
   "execution_count": null,
   "metadata": {
    "collapsed": true
   },
   "outputs": [],
   "source": [
    "# Background Links"
   ]
  },
  {
   "cell_type": "markdown",
   "metadata": {},
   "source": [
    "This code should set up our sniffer! Based on:\n",
    "* http://hackoftheday.securitytube.net/2013/03/wi-fi-sniffer-in-10-lines-of-python.html\n",
    "\n",
    "\n",
    "Other links that could be useful:\n",
    "* http://lifehacker.com/access-os-xs-packet-sniffer-with-the-wireless-diagnosti-1662764826\n",
    "* https://supportforums.cisco.com/document/75221/wireless-sniffing-using-mac-os-x-106-and-above\n",
    "* http://jacobsalmela.com/os-x-yosemite-secret-packet-sniffer/\n",
    "* http://osxdaily.com/2015/04/23/sniff-packet-capture-packet-trace-mac-os-x-wireless-diagnostics/\n",
    "* https://diogomonica.com/sniffing-in-monitor-mode-with-airport/\n",
    "* http://www.cqure.net/wp/2014/04/scapy-with-wifi-monitor-rfmon-mode-on-os-x/\n",
    "* https://theitgeekchronicles.files.wordpress.com/2012/05/scapyguide1.pdf\n",
    "* https://github.com/brannondorsey/ProbeKit/wiki/Batch-Downloading-Wigle.net-Data\n",
    "\n",
    "And for the details of an 802.11 frame:\n",
    "* https://supportforums.cisco.com/document/52391/80211-frames-starter-guide-learn-wireless-sniffer-traces\n",
    "\n",
    "A paper on doing tracing:\n",
    "* http://www.hindawi.com/journals/ijdsn/2013/927940/"
   ]
  },
  {
   "cell_type": "markdown",
   "metadata": {},
   "source": [
    "# Scapy Setup"
   ]
  },
  {
   "cell_type": "code",
   "execution_count": null,
   "metadata": {},
   "outputs": [],
   "source": [
    "from scapy.all import *"
   ]
  },
  {
   "cell_type": "markdown",
   "metadata": {},
   "source": [
    "# Load Manufacturers MAC List"
   ]
  },
  {
   "cell_type": "markdown",
   "metadata": {},
   "source": [
    "Got the manufactureers list from: https://code.wireshark.org/review/gitweb?p=wireshark.git;a=blob_plain;f=manuf"
   ]
  },
  {
   "cell_type": "code",
   "execution_count": null,
   "metadata": {},
   "outputs": [],
   "source": [
    "MAC_manufacturers = dict()\n",
    "for line in open(\"manufOriginal.txt\"):\n",
    "    words1 = line.split(\"\\t\")\n",
    "    if(len(words1) > 1):\n",
    "        words2 = words1[1].split(\"#\")\n",
    "        MAC_manufacturers[words1[0]] = words2[0].strip()"
   ]
  },
  {
   "cell_type": "code",
   "execution_count": 23,
   "metadata": {},
   "outputs": [
    {
     "ename": "NameError",
     "evalue": "name 'MAC_manufacturers' is not defined",
     "output_type": "error",
     "traceback": [
      "\u001b[0;31m---------------------------------------------------------------------------\u001b[0m",
      "\u001b[0;31mNameError\u001b[0m                                 Traceback (most recent call last)",
      "\u001b[0;32m<ipython-input-23-f86ba0487f3a>\u001b[0m in \u001b[0;36m<module>\u001b[0;34m()\u001b[0m\n\u001b[0;32m----> 1\u001b[0;31m \u001b[0mprint\u001b[0m\u001b[0;34m(\u001b[0m\u001b[0mlen\u001b[0m\u001b[0;34m(\u001b[0m\u001b[0mMAC_manufacturers\u001b[0m\u001b[0;34m)\u001b[0m\u001b[0;34m)\u001b[0m\u001b[0;34m\u001b[0m\u001b[0m\n\u001b[0m\u001b[1;32m      2\u001b[0m \u001b[0mMAC_manufacturers\u001b[0m\u001b[0;34m[\u001b[0m\u001b[0;34m\"60:A3:7D\"\u001b[0m\u001b[0;34m]\u001b[0m\u001b[0;34m\u001b[0m\u001b[0m\n",
      "\u001b[0;31mNameError\u001b[0m: name 'MAC_manufacturers' is not defined"
     ]
    }
   ],
   "source": [
    "print(len(MAC_manufacturers))\n",
    "MAC_manufacturers[\"60:A3:7D\"]"
   ]
  },
  {
   "cell_type": "markdown",
   "metadata": {},
   "source": [
    "# Dynamic Monitoring Version"
   ]
  },
  {
   "cell_type": "markdown",
   "metadata": {},
   "source": [
    "Import the scapy package that dos this sniffing."
   ]
  },
  {
   "cell_type": "markdown",
   "metadata": {},
   "source": [
    "Set up the fuinction that isolates probe packets"
   ]
  },
  {
   "cell_type": "code",
   "execution_count": null,
   "metadata": {
    "collapsed": true
   },
   "outputs": [],
   "source": [
    "ap_list = []\n",
    "\n",
    "def PacketHandler(pkt) :\n",
    "\n",
    "    if pkt.haslayer(Dot11) :\n",
    "        if pkt.type == 0 and pkt.subtype == 8 :\n",
    "            if pkt.addr2 not in ap_list :\n",
    "                ap_list.append(pkt.addr2)\n",
    "                print \"AP MAC: %s with SSID: %s \" %(pkt.addr2, pkt.info)"
   ]
  },
  {
   "cell_type": "markdown",
   "metadata": {},
   "source": [
    "Call the sniff function to start sniffing"
   ]
  },
  {
   "cell_type": "code",
   "execution_count": null,
   "metadata": {},
   "outputs": [],
   "source": [
    "sniff(iface=\"en0\", prn = PacketHandler, count=400)"
   ]
  },
  {
   "cell_type": "markdown",
   "metadata": {},
   "source": [
    "# Static File Version"
   ]
  },
  {
   "cell_type": "markdown",
   "metadata": {},
   "source": [
    "A version that opens a wcap file and parses the packets in it."
   ]
  },
  {
   "cell_type": "code",
   "execution_count": null,
   "metadata": {},
   "outputs": [],
   "source": [
    "# Read a list of packets saved off by wireless diagnostics\n",
    "pkts = rdpcap(\"/Users/bmacnamee/Desktop/2016.02.26_15-05-54-GMT.wcap\")"
   ]
  },
  {
   "cell_type": "code",
   "execution_count": null,
   "metadata": {
    "collapsed": true
   },
   "outputs": [],
   "source": [
    "import os\n",
    "for file in os.listdir(\"/Users/bmacnamee/Desktop/\"):\n",
    "    if file.endswith(\".txt\"):\n",
    "        print(file)"
   ]
  },
  {
   "cell_type": "markdown",
   "metadata": {},
   "source": [
    "Find all of the .wcap files on the desktop and open the most recent one."
   ]
  },
  {
   "cell_type": "code",
   "execution_count": null,
   "metadata": {},
   "outputs": [],
   "source": [
    "import glob, os\n",
    "os.chdir(\"/Users/bmacnamee/Desktop/\")\n",
    "wcapFiles = glob.glob(\"*.wcap\")\n",
    "wcapFiles.sort()\n",
    "wcapFiles.reverse()\n",
    "pkts = rdpcap(wcapFiles[0])"
   ]
  },
  {
   "cell_type": "code",
   "execution_count": null,
   "metadata": {},
   "outputs": [],
   "source": [
    "# Print summaries of the packets saved off\n",
    "#print(pkts.nsummary())\n",
    "print(pkts[0].summary())\n",
    "print(pkts[0].info)\n",
    "print(type(pkts[0]))\n",
    "#help(scapy.layers.dot11.RadioTap)\n",
    "pkts[0].show()"
   ]
  },
  {
   "cell_type": "code",
   "execution_count": null,
   "metadata": {
    "scrolled": false
   },
   "outputs": [],
   "source": [
    "devices = dict()\n",
    "\n",
    "counter = 0\n",
    "\n",
    "# Loop through the packets in the file and take a look at them\n",
    "for pkt in pkts:\n",
    "\n",
    "    if pkt.haslayer(Dot11) :\n",
    "        # Type = 0 is a management frame\n",
    "        # Subtype 8 is a beacon frame\n",
    "        # Subtype 4 is a probe request frame\n",
    "        # Subtype 5 is a probe response frame\n",
    "        if pkt.type == 0 and pkt.subtype == 4 :\n",
    "\n",
    "            counter += 1\n",
    "           \n",
    "            if not pkt.addr2 in devices:\n",
    "                \n",
    "                # Isolate the manufacturers code\n",
    "                manuCode = pkt.addr2[0:8]\n",
    "                if manuCode in MAC_manufacturers:\n",
    "                    manu = MAC_manufacturers[manuCode]\n",
    "                else:\n",
    "                    manu = \"\"\n",
    "                    \n",
    "                devices[pkt.addr2] = {\"freq\":1, \"last_seen\":pkt.time, \"manu\":manu, \"ssids\":set()}\n",
    "\n",
    "                # If there is an SSID listed (in info attribute) record it\n",
    "                if hasattr(pkt, 'info'):\n",
    "                    ssid = pkt.info\n",
    "                    ssid = ssid.strip()\n",
    "                    #ssid = ''.join(filter(lambda x:x in string.printable, ssid))\n",
    "                    \n",
    "                    # Not very good, but simple error handling - ssids of more than 32 charcters probably indicate malformed packets.\n",
    "                    #if(len(ssid) <= 32 and ssid.find(\"\\x00\") == -1):\n",
    "                    if(all(c in string.printable for c in ssid) and (len(ssid) > 5)):\n",
    "                        devices[pkt.addr2][\"ssids\"].add(ssid)\n",
    "\n",
    "            else:\n",
    "                # Increment appearance frequency\n",
    "                devices[pkt.addr2][\"freq\"] += 1\n",
    "\n",
    "                # If this occurrence is more recent that thae recorded one update last_seen\n",
    "                if devices[pkt.addr2][\"last_seen\"] < pkt.time:\n",
    "                    devices[pkt.addr2][\"last_seen\"] = pkt.time\n",
    "\n",
    "                # If there is an SSID listed (in info attribute) record it\n",
    "                if hasattr(pkt, 'info'):\n",
    "                    ssid = pkt.info\n",
    "                    ssid = ssid.strip()\n",
    "                    #ssid = ''.join(filter(lambda x:x in string.printable, ssid))\n",
    "                    # Not very good, but simple error handling - ssids of more than 32 charcters probably indicate malformed packets.\n",
    "                    #if(len(ssid) <= 32 and ssid.find(\"\\x00\") == -1):\n",
    "                    if(all(c in string.printable for c in ssid) and (len(ssid) > 5)):\n",
    "                        devices[pkt.addr2][\"ssids\"].add(ssid)\n",
    "                        \n",
    "            "
   ]
  },
  {
   "cell_type": "code",
   "execution_count": null,
   "metadata": {
    "scrolled": true
   },
   "outputs": [],
   "source": [
    "len(devices)\n",
    "print(devices)"
   ]
  },
  {
   "cell_type": "markdown",
   "metadata": {},
   "source": [
    "Write out the devices read in into a nice csv format"
   ]
  },
  {
   "cell_type": "code",
   "execution_count": null,
   "metadata": {},
   "outputs": [],
   "source": [
    "import csv\n",
    "import time\n",
    "with open('devices' +  str(time.time()) + '.csv', 'wb') as csvfile:\n",
    "    writer = csv.writer(csvfile, delimiter=',',\n",
    "                            quotechar='|', quoting=csv.QUOTE_MINIMAL)\n",
    "    writer.writerow(['ID', 'freq', 'manu', 'ssids', 'last_seen'])\n",
    "    \n",
    "    for d in devices:\n",
    "        ssidString = \" | \".join(str(e) for e in devices[d]['ssids'])\n",
    "        writer.writerow([d, devices[d]['freq'] , devices[d]['manu'], ssidString, devices[d]['last_seen']])\n",
    "                        "
   ]
  },
  {
   "cell_type": "markdown",
   "metadata": {},
   "source": [
    "Generate a list of ssids found"
   ]
  },
  {
   "cell_type": "code",
   "execution_count": null,
   "metadata": {},
   "outputs": [],
   "source": [
    "ssidsFound = []\n",
    "\n",
    "# Iterate through the devices list\n",
    "for d in devices:\n",
    "    \n",
    "    # get the list of ssids saved from a device\n",
    "    ssids = devices[d][\"ssids\"]\n",
    "    \n",
    "    # loop through the SSIDs\n",
    "    for ssid in ssids:\n",
    "\n",
    "        ssidsFound.append(ssid)\n",
    "\n",
    "ssidsFound = list(set(ssidsFound))\n",
    "print(len(ssidsFound))\n",
    "print(ssidsFound)"
   ]
  },
  {
   "cell_type": "markdown",
   "metadata": {},
   "source": [
    "# Generate HTML Page"
   ]
  },
  {
   "cell_type": "markdown",
   "metadata": {},
   "source": [
    "<!DOCTYPE html>\n",
    "<html lang=\"en\">\n",
    "<head>\n",
    "  <title>Bootstrap Example</title>\n",
    "  <meta charset=\"utf-8\">\n",
    "  <meta name=\"viewport\" content=\"width=device-width, initial-scale=1\">\n",
    "  <link rel=\"stylesheet\" href=\"http://maxcdn.bootstrapcdn.com/bootstrap/3.3.6/css/bootstrap.min.css\">\n",
    "  <script src=\"https://ajax.googleapis.com/ajax/libs/jquery/1.12.0/jquery.min.js\"></script>\n",
    "  <script src=\"http://maxcdn.bootstrapcdn.com/bootstrap/3.3.6/js/bootstrap.min.js\"></script>\n",
    "</head>\n",
    "<body>"
   ]
  },
  {
   "cell_type": "markdown",
   "metadata": {},
   "source": [
    "<div class=\"container-fluid\">\n",
    "  <div class=\"row\">\n",
    "    <div class=\"col-sm-2\" style=\"background-color:lavender;\">Device</div>\n",
    "    <div class=\"col-sm-2\" style=\"background-color:lavenderblush;\">.col-sm-4</div>\n",
    "    <div class=\"col-sm-2\" style=\"background-color:lavender;\">.col-sm-4</div>\n",
    "    <div class=\"col-sm-2\" style=\"background-color:lavender;\">.col-sm-4</div>\n",
    "    <div class=\"col-sm-2\" style=\"background-color:lavenderblush;\">.col-sm-4</div>\n",
    "    <div class=\"col-sm-2\" style=\"background-color:lavender;\">.col-sm-4</div>\n",
    "  </div>\n",
    "</div>"
   ]
  },
  {
   "cell_type": "markdown",
   "metadata": {},
   "source": [
    "</body>\n",
    "</html>"
   ]
  },
  {
   "cell_type": "code",
   "execution_count": null,
   "metadata": {},
   "outputs": [],
   "source": [
    "devicesPerRow = 4\n",
    "numDevicesFound = len(devices)\n",
    "\n",
    "deviceCount = 0\n",
    "\n",
    "\n",
    "with open('devicesFound.html', 'w') as htmlfile:\n",
    "    \n",
    "    # Write the HTML header\n",
    "    htmlfile.write(\"<!DOCTYPE html>\\n\")\n",
    "    htmlfile.write(\"<html lang=\\\"en\\\">\\n\")\n",
    "    htmlfile.write(\"<head>\\n\")\n",
    "    htmlfile.write(\"<title>Devices Found</title>\\n\")\n",
    "    htmlfile.write(\"<meta charset=\\\"utf-8\\\">\\n\")\n",
    "    htmlfile.write(\"<meta name=\\\"viewport\\\" content=\\\"width=device-width, initial-scale=1\\\">\\n\")\n",
    "    htmlfile.write(\"<link rel=\\\"stylesheet\\\" href=\\\"http://maxcdn.bootstrapcdn.com/bootstrap/3.3.6/css/bootstrap.min.css\\\">\\n\")\n",
    "    htmlfile.write(\"<script src=\\\"https://ajax.googleapis.com/ajax/libs/jquery/1.12.0/jquery.min.js\\\"></script>\\n\")\n",
    "    htmlfile.write(\"<script src=\\\"http://maxcdn.bootstrapcdn.com/bootstrap/3.3.6/js/bootstrap.min.js\\\"></script>\\n\")\n",
    "    htmlfile.write(\"<style type=\\\"text/css\\\"> h1.panel-title {color:#0033cc; font-size:24px}  </style>\")\n",
    "        \n",
    "    htmlfile.write(\"</head>\\n\")\n",
    "    htmlfile.write(\"<body>\\n\")\n",
    "    \n",
    "    # Start the devices block\n",
    "    htmlfile.write(\"<div class=\\\"container-fluid\\\">\\n\")\n",
    "    \n",
    "    # Loop through each device\n",
    "    #for d in devices:\n",
    "    for d in sorted(devices, key=devices.get, reverse=True):\n",
    "        \n",
    "        # If we need to start a new row start one\n",
    "        if (deviceCount % devicesPerRow == 0):\n",
    "            htmlfile.write(\"\\t<div class=\\\"row\\\">\\n\")\n",
    "        \n",
    "        # Write our the details of a device\n",
    "        #htmlfile.write(\"\\t\\t<div class=\\\"col-sm-3\\\" style=\\\"border:solid 2px black;background-color:grey;\\\" >\\n\")\n",
    "        htmlfile.write(\"\\t\\t<div class=\\\"col-sm-3\\\">\\n\")\n",
    "        htmlfile.write(\"<div class = \\\"panel panel-default\\\">\\n\")\n",
    "        htmlfile.write(\"<div class = \\\"panel-heading\\\">\\n\")\n",
    "        htmlfile.write(\"<h1 class = \\\"panel-title\\\">\" + d + \"</h1>\\n\")\n",
    "        htmlfile.write(\"</div>\\n\")\n",
    "   \n",
    "        htmlfile.write(\"<div class = \\\"panel-body\\\">\\n\")\n",
    "        htmlfile.write(\"\\t\\t\\t<h3>Handset: \" + devices[d]['manu'] + \" </h3>\\n\")\n",
    "        htmlfile.write(\"\\t\\t\\t<h3>Strength: \" + str(devices[d]['freq']) + \"</h3>\\n\")\n",
    "        htmlfile.write(\"\\t\\t\\t<h3>\" + str(devices[d]['last_seen']) + \"</h3>\\n\")\n",
    "        ssidString = \", \".join(str(e) for e in devices[d]['ssids'])\n",
    "        htmlfile.write(\"\\t\\t\\t<p>\" + ssidString + \"</p>\\n\")\n",
    "        htmlfile.write(\"</div>\\n\")\n",
    "        htmlfile.write(\"</div>\\n\")\n",
    "\n",
    "        #htmlfile.write(\"\\t\\t\\t<h1>\" + d + \"</h1>\\n\")\n",
    "        #htmlfile.write(\"\\t\\t\\t<h2>Handset: \" + devices[d]['manu'] + \" </h2>\\n\")\n",
    "        #htmlfile.write(\"\\t\\t\\t<h2>Strength: \" + str(devices[d]['freq']) + \"</h2>\\n\")\n",
    "        #htmlfile.write(\"\\t\\t\\t<h2>\" + str(devices[d]['last_seen']) + \"</h2>\\n\")\n",
    "        #ssidString = \", \".join(str(e) for e in devices[d]['ssids'])\n",
    "        #htmlfile.write(\"\\t\\t\\t<p>\" + ssidString + \"</p>\\n\")\n",
    "        htmlfile.write(\"\\t\\t</div>\\n\")\n",
    "        \n",
    "\n",
    "        deviceCount += 1\n",
    "        \n",
    "        # If we need to end a row end one\n",
    "        if (deviceCount % devicesPerRow == 0):\n",
    "            htmlfile.write(\"\\t</div>\\n\")\n",
    "    \n",
    "    # If we didn't just end a row, end one\n",
    "    if (deviceCount % devicesPerRow != 0):\n",
    "        htmlfile.write(\"\\t</div>\\n\")\n",
    "    \n",
    "    # End the block with a </div>\n",
    "    htmlfile.write(\"</div>\\n\")\n",
    "    \n",
    "\n",
    "    htmlfile.write(\"</body>\\n\")\n",
    "    htmlfile.write(\"</html>\\n\")"
   ]
  },
  {
   "cell_type": "markdown",
   "metadata": {},
   "source": [
    "# Wigle"
   ]
  },
  {
   "cell_type": "markdown",
   "metadata": {},
   "source": [
    "Find network location from Wigle"
   ]
  },
  {
   "cell_type": "code",
   "execution_count": null,
   "metadata": {
    "scrolled": true
   },
   "outputs": [],
   "source": [
    "from wigle import *\n",
    "\n",
    "# connect to wigle\n",
    "wigle = Wigle(\"brian.macn\", \"hardeight\")\n",
    "\n",
    "ssidName = \"RDS-FREEWIFI\"\n",
    "#ssidName = \"TheHurlers\"\n",
    "\n",
    "# search for an ssid\n",
    "#rds = wigle.search(ssid=\"RDS-FREEWIFI\")\n",
    "searchRes = wigle.search(ssid=ssidName)\n",
    "\n",
    "if (len(searchRes) > 0):\n",
    "    # sort by last time seen\n",
    "    newlist = sorted(searchRes, key=lambda k: k['lasttime'])\n",
    "\n",
    "    # average out lat and long\n",
    "    ssid_lat = 0\n",
    "    ssid_long = 0\n",
    "    for entry in newlist:\n",
    "        ssid_lat += entry[\"trilat\"]\n",
    "        ssid_long += entry[\"trilong\"]\n",
    "    ssid_lat = ssid_lat/len(newlist)\n",
    "    ssid_long = ssid_long/len(newlist)\n",
    "    \n",
    "    print \"Found \", ssidName, ssid_lat, ssid_long\n",
    "\n",
    "else:\n",
    "    \n",
    "    print \"Can't find\", ssidName\n",
    "        "
   ]
  },
  {
   "cell_type": "markdown",
   "metadata": {},
   "source": [
    "Define Wigle lookup function"
   ]
  },
  {
   "cell_type": "code",
   "execution_count": null,
   "metadata": {},
   "outputs": [],
   "source": [
    "from wigle import *\n",
    "\n",
    "def findWigleSSID(name):\n",
    "\n",
    "    # Define the Ireland lat and long ranges\n",
    "    irelandLatRange = ((50.9847, 55.5398))\n",
    "    irelandLongRange = ((-10.7297, -4.495))\n",
    "\n",
    "    # connect to wigle\n",
    "    wigle = Wigle(\"brian.macn\", \"hardeight\")\n",
    "\n",
    "    ssidName = \"RDS-FREEWIFI\"\n",
    "    #ssidName = \"TheHurlers\"\n",
    "\n",
    "    # search for an ssid\n",
    "    searchRes = wigle.search(ssid=ssidName, lat_range=irelandLatRange, long_range=irelandLongRange)\n",
    "\n",
    "    if (len(searchRes) > 0):\n",
    "        # sort by last time seen\n",
    "        newlist = sorted(searchRes, key=lambda k: k['lasttime'])\n",
    "\n",
    "        # average out lat and long\n",
    "        ssid_lat = 0\n",
    "        ssid_long = 0\n",
    "        for entry in newlist:\n",
    "            ssid_lat += entry[\"trilat\"]\n",
    "            ssid_long += entry[\"trilong\"]\n",
    "        ssid_lat = ssid_lat/len(newlist)\n",
    "        ssid_long = ssid_long/len(newlist)\n",
    "\n",
    "        print \"Found \", ssidName, ssid_lat, ssid_long\n",
    "\n",
    "    else:\n",
    "\n",
    "        print \"Can't find\", ssidName\n",
    "        \n",
    "    return {\"ssid\":ssidName, \"lat\":ssid_lat,\"long\":ssid_long}"
   ]
  },
  {
   "cell_type": "markdown",
   "metadata": {},
   "source": [
    "Rather than hammer Wigle with seraches per SSID, download all of Ireland!"
   ]
  },
  {
   "cell_type": "code",
   "execution_count": 3,
   "metadata": {},
   "outputs": [
    {
     "ename": "WigleAuthenticationError",
     "evalue": "Could not authenticate as user brian.macn",
     "output_type": "error",
     "traceback": [
      "\u001b[0;31m---------------------------------------------------------------------------\u001b[0m",
      "\u001b[0;31mWigleAuthenticationError\u001b[0m                  Traceback (most recent call last)",
      "\u001b[0;32m<ipython-input-3-95055d44fb7a>\u001b[0m in \u001b[0;36m<module>\u001b[0;34m()\u001b[0m\n\u001b[1;32m      9\u001b[0m \u001b[0;34m\u001b[0m\u001b[0m\n\u001b[1;32m     10\u001b[0m \u001b[0;31m# search for all ssids within Ireland\u001b[0m\u001b[0;34m\u001b[0m\u001b[0;34m\u001b[0m\u001b[0m\n\u001b[0;32m---> 11\u001b[0;31m \u001b[0mwigleInIreland\u001b[0m \u001b[0;34m=\u001b[0m \u001b[0mwigle\u001b[0m\u001b[0;34m.\u001b[0m\u001b[0msearch\u001b[0m\u001b[0;34m(\u001b[0m\u001b[0mlat_range\u001b[0m\u001b[0;34m=\u001b[0m\u001b[0mirelandLatRange\u001b[0m\u001b[0;34m,\u001b[0m \u001b[0mlong_range\u001b[0m\u001b[0;34m=\u001b[0m\u001b[0mirelandLongRange\u001b[0m\u001b[0;34m,\u001b[0m \u001b[0mmax_results\u001b[0m\u001b[0;34m=\u001b[0m\u001b[0;36m1000\u001b[0m\u001b[0;34m)\u001b[0m\u001b[0;34m\u001b[0m\u001b[0m\n\u001b[0m\u001b[1;32m     12\u001b[0m \u001b[0mlen\u001b[0m\u001b[0;34m(\u001b[0m\u001b[0mwigleInIreland\u001b[0m\u001b[0;34m)\u001b[0m\u001b[0;34m\u001b[0m\u001b[0m\n",
      "\u001b[0;32m/Applications/anaconda/envs/Python2/lib/python2.7/site-packages/wigle/__init__.pyc\u001b[0m in \u001b[0;36msearch\u001b[0;34m(self, lat_range, long_range, variance, bssid, ssid, last_update, address, state, zipcode, on_new_page, max_results)\u001b[0m\n\u001b[1;32m    150\u001b[0m             \u001b[0;32mif\u001b[0m \u001b[0mon_new_page\u001b[0m\u001b[0;34m:\u001b[0m\u001b[0;34m\u001b[0m\u001b[0m\n\u001b[1;32m    151\u001b[0m                 \u001b[0mon_new_page\u001b[0m\u001b[0;34m(\u001b[0m\u001b[0mparams\u001b[0m\u001b[0;34m.\u001b[0m\u001b[0mget\u001b[0m\u001b[0;34m(\u001b[0m\u001b[0;34m'first'\u001b[0m\u001b[0;34m,\u001b[0m \u001b[0;36m1\u001b[0m\u001b[0;34m)\u001b[0m\u001b[0;34m)\u001b[0m\u001b[0;34m\u001b[0m\u001b[0m\n\u001b[0;32m--> 152\u001b[0;31m             \u001b[0mresp\u001b[0m \u001b[0;34m=\u001b[0m \u001b[0mself\u001b[0m\u001b[0;34m.\u001b[0m\u001b[0m_authenticated_request\u001b[0m\u001b[0;34m(\u001b[0m\u001b[0;34m'jsonSearch'\u001b[0m\u001b[0;34m,\u001b[0m \u001b[0mparams\u001b[0m\u001b[0;34m=\u001b[0m\u001b[0mparams\u001b[0m\u001b[0;34m)\u001b[0m\u001b[0;34m\u001b[0m\u001b[0m\n\u001b[0m\u001b[1;32m    153\u001b[0m             \u001b[0mdata\u001b[0m \u001b[0;34m=\u001b[0m \u001b[0mresp\u001b[0m\u001b[0;34m.\u001b[0m\u001b[0mjson\u001b[0m\u001b[0;34m(\u001b[0m\u001b[0;34m)\u001b[0m\u001b[0;34m\u001b[0m\u001b[0m\n\u001b[1;32m    154\u001b[0m             \u001b[0;32mif\u001b[0m \u001b[0;32mnot\u001b[0m \u001b[0mdata\u001b[0m\u001b[0;34m[\u001b[0m\u001b[0;34m'success'\u001b[0m\u001b[0;34m]\u001b[0m\u001b[0;34m:\u001b[0m\u001b[0;34m\u001b[0m\u001b[0m\n",
      "\u001b[0;32m/Applications/anaconda/envs/Python2/lib/python2.7/site-packages/wigle/__init__.pyc\u001b[0m in \u001b[0;36m_authenticated_request\u001b[0;34m(self, method, **kwargs)\u001b[0m\n\u001b[1;32m     70\u001b[0m \u001b[0;34m\u001b[0m\u001b[0m\n\u001b[1;32m     71\u001b[0m     \u001b[0;32mdef\u001b[0m \u001b[0m_authenticated_request\u001b[0m\u001b[0;34m(\u001b[0m\u001b[0mself\u001b[0m\u001b[0;34m,\u001b[0m \u001b[0mmethod\u001b[0m\u001b[0;34m,\u001b[0m \u001b[0;34m**\u001b[0m\u001b[0mkwargs\u001b[0m\u001b[0;34m)\u001b[0m\u001b[0;34m:\u001b[0m\u001b[0;34m\u001b[0m\u001b[0m\n\u001b[0;32m---> 72\u001b[0;31m         \u001b[0mself\u001b[0m\u001b[0;34m.\u001b[0m\u001b[0m_ensure_authenticated\u001b[0m\u001b[0;34m(\u001b[0m\u001b[0;34m)\u001b[0m\u001b[0;34m\u001b[0m\u001b[0m\n\u001b[0m\u001b[1;32m     73\u001b[0m         \u001b[0;32mreturn\u001b[0m \u001b[0mself\u001b[0m\u001b[0;34m.\u001b[0m\u001b[0m_wigle_request\u001b[0m\u001b[0;34m(\u001b[0m\u001b[0mmethod\u001b[0m\u001b[0;34m,\u001b[0m \u001b[0mauth\u001b[0m\u001b[0;34m=\u001b[0m\u001b[0mTrue\u001b[0m\u001b[0;34m,\u001b[0m \u001b[0;34m**\u001b[0m\u001b[0mkwargs\u001b[0m\u001b[0;34m)\u001b[0m\u001b[0;34m\u001b[0m\u001b[0m\n\u001b[1;32m     74\u001b[0m \u001b[0;34m\u001b[0m\u001b[0m\n",
      "\u001b[0;32m/Applications/anaconda/envs/Python2/lib/python2.7/site-packages/wigle/__init__.pyc\u001b[0m in \u001b[0;36m_ensure_authenticated\u001b[0;34m(self)\u001b[0m\n\u001b[1;32m     92\u001b[0m     \u001b[0;32mdef\u001b[0m \u001b[0m_ensure_authenticated\u001b[0m\u001b[0;34m(\u001b[0m\u001b[0mself\u001b[0m\u001b[0;34m)\u001b[0m\u001b[0;34m:\u001b[0m\u001b[0;34m\u001b[0m\u001b[0m\n\u001b[1;32m     93\u001b[0m         \u001b[0;32mif\u001b[0m \u001b[0;32mnot\u001b[0m \u001b[0mself\u001b[0m\u001b[0;34m.\u001b[0m\u001b[0m_auth_cookies\u001b[0m\u001b[0;34m:\u001b[0m\u001b[0;34m\u001b[0m\u001b[0m\n\u001b[0;32m---> 94\u001b[0;31m             \u001b[0mself\u001b[0m\u001b[0;34m.\u001b[0m\u001b[0mreauthenticate\u001b[0m\u001b[0;34m(\u001b[0m\u001b[0;34m)\u001b[0m\u001b[0;34m\u001b[0m\u001b[0m\n\u001b[0m\u001b[1;32m     95\u001b[0m \u001b[0;34m\u001b[0m\u001b[0m\n\u001b[1;32m     96\u001b[0m     \u001b[0;32mdef\u001b[0m \u001b[0mget_user_info\u001b[0m\u001b[0;34m(\u001b[0m\u001b[0mself\u001b[0m\u001b[0;34m)\u001b[0m\u001b[0;34m:\u001b[0m\u001b[0;34m\u001b[0m\u001b[0m\n",
      "\u001b[0;32m/Applications/anaconda/envs/Python2/lib/python2.7/site-packages/wigle/__init__.pyc\u001b[0m in \u001b[0;36mreauthenticate\u001b[0;34m(self)\u001b[0m\n\u001b[1;32m     88\u001b[0m             \u001b[0mself\u001b[0m\u001b[0;34m.\u001b[0m\u001b[0m_auth_cookies\u001b[0m \u001b[0;34m=\u001b[0m \u001b[0mresp\u001b[0m\u001b[0;34m.\u001b[0m\u001b[0mcookies\u001b[0m\u001b[0;34m\u001b[0m\u001b[0m\n\u001b[1;32m     89\u001b[0m         \u001b[0;32melse\u001b[0m\u001b[0;34m:\u001b[0m\u001b[0;34m\u001b[0m\u001b[0m\n\u001b[0;32m---> 90\u001b[0;31m             \u001b[0;32mraise\u001b[0m \u001b[0mWigleAuthenticationError\u001b[0m\u001b[0;34m(\u001b[0m\u001b[0;34m'Could not authenticate as user %s'\u001b[0m \u001b[0;34m%\u001b[0m \u001b[0mself\u001b[0m\u001b[0;34m.\u001b[0m\u001b[0muser\u001b[0m\u001b[0;34m)\u001b[0m\u001b[0;34m\u001b[0m\u001b[0m\n\u001b[0m\u001b[1;32m     91\u001b[0m \u001b[0;34m\u001b[0m\u001b[0m\n\u001b[1;32m     92\u001b[0m     \u001b[0;32mdef\u001b[0m \u001b[0m_ensure_authenticated\u001b[0m\u001b[0;34m(\u001b[0m\u001b[0mself\u001b[0m\u001b[0;34m)\u001b[0m\u001b[0;34m:\u001b[0m\u001b[0;34m\u001b[0m\u001b[0m\n",
      "\u001b[0;31mWigleAuthenticationError\u001b[0m: Could not authenticate as user brian.macn"
     ]
    }
   ],
   "source": [
    "from wigle import *\n",
    "\n",
    "# Define the Ireland lat and long ranges\n",
    "irelandLatRange = ((53.1236, 53.5419))\n",
    "irelandLongRange = ((-6.9967, -5.4271))\n",
    "\n",
    "# connect to wigle\n",
    "wigle = Wigle(\"brian.macn\", \"hardeight\")\n",
    "\n",
    "# search for all ssids within Ireland\n",
    "wigleInIreland = wigle.search(lat_range=irelandLatRange, long_range=irelandLongRange, max_results=1000)\n",
    "len(wigleInIreland)"
   ]
  },
  {
   "cell_type": "markdown",
   "metadata": {},
   "source": [
    "Write the Wigle results out to a json file"
   ]
  },
  {
   "cell_type": "code",
   "execution_count": null,
   "metadata": {},
   "outputs": [],
   "source": [
    "#help(wigle.search)\n",
    "len(wigleInIreland)\n",
    "wigleInIreland\n",
    "\n",
    "import json\n",
    "with open('wigleBigDump.txt', 'w') as outfile:\n",
    "    json.dump(wigleInIreland, outfile)"
   ]
  },
  {
   "cell_type": "code",
   "execution_count": 16,
   "metadata": {
    "scrolled": true
   },
   "outputs": [
    {
     "data": {
      "text/plain": [
       "\"Search the WiGLE database\\n    \\n    Query the WiGLE database for paginated results based on multiple criteria. \\n    API and session authentication default to a page size of 100 results/page. \\n    COMMAPI defaults to a page size of 25 with a maximum of 1000 results per \\n    return. Number of daily queries allowed per user are throttled based on \\n    history and participation\\n    \\n    Parameters\\n    ----------\\n    onlymine : boolean, optional\\n        Search only for points first discovered by the current user. Use any \\n        string to set, leave unset for general search. Can't be used with \\n        COMMAPI auth, since these are points you have locally.\\n    first : int, optional\\n        Result offset to fetch, used to page through results. Defaults to 0. \\n        COMMAPI queries are bounded at 100 pages. If you need more open-ended \\n        searches than this, we recommend contacting WiGLE-admin@wigle.net to \\n        discuss bulk pricing.\\n    latrange1 : float, optional\\n        Lesser of two latitudes by which to bound the search.\\n    latrange2 : float, optional\\n        Greater of two latitudes by which to bound the search.\\n    longrange1 : float, optional\\n        Lesser of two latitudes by which to bound the search.\\n    longrange2 : float, optional\\n        Greater of two longitudes by which to bound the search.\\n    lastupdt : str, optional\\n        Filter points by how recently they've been updated, condensed date/time\\n        numeric string format 'yyyyMMddhhmmss'\\n    freenet : boolean, optional\\n        Include only networks that have been marked as free access.\\n    paynet : boolean, optional\\n        Include only networks that have been marked as for-pay access.\\n    netid : str, optional\\n        Include only networks matching the string network BSSID, e.g. \\n        '0A:2C:EF:3D:25:1B' or '0A:2C:EF'. The first three octets are required.\\n    ssid : str, optional\\n        Include only networks exactly matching the string network name.\\n    ssidlike : str, optional\\n        Include only networks matching the string network name, allowing\\n        wildcards '%' (any string) and '_' (any character).\\n    variance : float, optional\\n        How tightly to bound queries against the provided latitude/longitude\\n        box. Value must be between 0.001 and 0.2\\n    resultsPerPage : int, optional\\n        How many results to return per request. Defaults to 25 for COMMAPI, 10\\n        for site. Bounded at 1000 for COMMAPI, 100 for site.\\n\\n    Returns\\n    -------\\n    dict\\n    \\n    Raises\\n    ------\\n    requests.HTTPError\\n    \\n    \""
      ]
     },
     "execution_count": 16,
     "metadata": {},
     "output_type": "execute_result"
    }
   ],
   "source": [
    "from pygle import network\n",
    "network.search.__doc__"
   ]
  },
  {
   "cell_type": "code",
   "execution_count": 4,
   "metadata": {},
   "outputs": [
    {
     "ename": "ImportError",
     "evalue": "No module named pygle",
     "output_type": "error",
     "traceback": [
      "\u001b[0;31m---------------------------------------------------------------------------\u001b[0m",
      "\u001b[0;31mImportError\u001b[0m                               Traceback (most recent call last)",
      "\u001b[0;32m<ipython-input-4-a438f3110c44>\u001b[0m in \u001b[0;36m<module>\u001b[0;34m()\u001b[0m\n\u001b[0;32m----> 1\u001b[0;31m \u001b[0;32mfrom\u001b[0m \u001b[0mpygle\u001b[0m \u001b[0;32mimport\u001b[0m \u001b[0mnetwork\u001b[0m\u001b[0;34m\u001b[0m\u001b[0m\n\u001b[0m\u001b[1;32m      2\u001b[0m \u001b[0mlimerickLatLow\u001b[0m \u001b[0;34m=\u001b[0m \u001b[0;36m52.547626\u001b[0m\u001b[0;34m\u001b[0m\u001b[0m\n\u001b[1;32m      3\u001b[0m \u001b[0mlimerickLatHigh\u001b[0m \u001b[0;34m=\u001b[0m \u001b[0;36m52.752432\u001b[0m\u001b[0;34m\u001b[0m\u001b[0m\n\u001b[1;32m      4\u001b[0m \u001b[0mlimerickLongLow\u001b[0m \u001b[0;34m=\u001b[0m \u001b[0;34m-\u001b[0m\u001b[0;36m8.860613\u001b[0m\u001b[0;34m\u001b[0m\u001b[0m\n\u001b[1;32m      5\u001b[0m \u001b[0mlimerickLongHigh\u001b[0m \u001b[0;34m=\u001b[0m \u001b[0;34m-\u001b[0m\u001b[0;36m8.374656\u001b[0m\u001b[0;34m\u001b[0m\u001b[0m\n",
      "\u001b[0;31mImportError\u001b[0m: No module named pygle"
     ]
    }
   ],
   "source": [
    "from pygle import network\n",
    "limerickLatLow = 52.547626\n",
    "limerickLatHigh = 52.752432\n",
    "limerickLongLow = -8.860613\n",
    "limerickLongHigh = -8.374656\n",
    "\n",
    "regionLatLow = limerickLatLow\n",
    "regionLatHigh = limerickLatHigh\n",
    "regionLongLow = limerickLongLow\n",
    "regionLongHigh = limerickLongHigh\n",
    "dumpFileName = 'limerick'\n",
    "\n",
    "regionLatRange = (regionLatLow, regionLatHigh)\n",
    "regionLongRange = (regionLongLow, regionLongHigh)\n",
    "\n",
    "        \n",
    "#network.search(lat_range=regionLatRange, long_range=regionLongRange, max_results=1000)\n",
    "network.search(latrange1=regionLatLow, latrange2=regionLatHigh, longrange1=regionLongLow, longrange2=regionLongHigh, resultsPerPage=1000)\n"
   ]
  },
  {
   "cell_type": "markdown",
   "metadata": {},
   "source": [
    "Iterate across Dublin in steps writing out json file each time"
   ]
  },
  {
   "cell_type": "code",
   "execution_count": 6,
   "metadata": {
    "scrolled": false
   },
   "outputs": [
    {
     "name": "stdout",
     "output_type": "stream",
     "text": [
      "Visit https://wigle.net/account to collect your API token\n",
      "Then add your credentials to /Applications/anaconda/envs/Python2/lib/python2.7/site-packages/pygle/config.pyc\n"
     ]
    },
    {
     "ename": "HTTPError",
     "evalue": "401 Client Error: Unauthorized for url: https://api.wigle.net/api/v2/network/search?longrange1=-1.8032696&longrange2=-1.7107533&latrange1=52.3912092&resultsPerPage=1000&latrange2=52.4356646",
     "output_type": "error",
     "traceback": [
      "\u001b[0;31m---------------------------------------------------------------------------\u001b[0m",
      "\u001b[0;31mHTTPError\u001b[0m                                 Traceback (most recent call last)",
      "\u001b[0;32m<ipython-input-6-7cbda5c3ffe8>\u001b[0m in \u001b[0;36m<module>\u001b[0;34m()\u001b[0m\n\u001b[1;32m     74\u001b[0m         \u001b[0;32mif\u001b[0m\u001b[0;34m(\u001b[0m\u001b[0mcounter\u001b[0m \u001b[0;34m>=\u001b[0m \u001b[0mcountersDoneSoFar\u001b[0m\u001b[0;34m)\u001b[0m\u001b[0;34m:\u001b[0m\u001b[0;34m\u001b[0m\u001b[0m\n\u001b[1;32m     75\u001b[0m \u001b[0;34m\u001b[0m\u001b[0m\n\u001b[0;32m---> 76\u001b[0;31m             \u001b[0mwigleInIreland\u001b[0m \u001b[0;34m=\u001b[0m \u001b[0mnetwork\u001b[0m\u001b[0;34m.\u001b[0m\u001b[0msearch\u001b[0m\u001b[0;34m(\u001b[0m\u001b[0mlatrange1\u001b[0m\u001b[0;34m=\u001b[0m\u001b[0mlatRange\u001b[0m\u001b[0;34m[\u001b[0m\u001b[0;36m0\u001b[0m\u001b[0;34m]\u001b[0m\u001b[0;34m,\u001b[0m \u001b[0mlatrange2\u001b[0m\u001b[0;34m=\u001b[0m\u001b[0mlatRange\u001b[0m\u001b[0;34m[\u001b[0m\u001b[0;36m1\u001b[0m\u001b[0;34m]\u001b[0m\u001b[0;34m,\u001b[0m \u001b[0mlongrange1\u001b[0m\u001b[0;34m=\u001b[0m\u001b[0mlongRange\u001b[0m\u001b[0;34m[\u001b[0m\u001b[0;36m0\u001b[0m\u001b[0;34m]\u001b[0m\u001b[0;34m,\u001b[0m \u001b[0mlongrange2\u001b[0m\u001b[0;34m=\u001b[0m\u001b[0mlongRange\u001b[0m\u001b[0;34m[\u001b[0m\u001b[0;36m1\u001b[0m\u001b[0;34m]\u001b[0m\u001b[0;34m,\u001b[0m \u001b[0mresultsPerPage\u001b[0m\u001b[0;34m=\u001b[0m\u001b[0;36m1000\u001b[0m\u001b[0;34m)\u001b[0m\u001b[0;34m\u001b[0m\u001b[0m\n\u001b[0m\u001b[1;32m     77\u001b[0m \u001b[0;34m\u001b[0m\u001b[0m\n\u001b[1;32m     78\u001b[0m             \u001b[0;31m#wigleInIreland = wigle.search(lat_range=latRange,\u001b[0m\u001b[0;34m\u001b[0m\u001b[0;34m\u001b[0m\u001b[0m\n",
      "\u001b[0;32m/Applications/anaconda/envs/Python2/lib/python2.7/site-packages/pygle/network.pyc\u001b[0m in \u001b[0;36msearch\u001b[0;34m(onlymine, first, latrange1, latrange2, longrange1, longrange2, lastupdt, freenet, paynet, netid, ssid, ssidlike, variance, resultsPerPage)\u001b[0m\n\u001b[1;32m    164\u001b[0m \u001b[0;34m\u001b[0m\u001b[0m\n\u001b[1;32m    165\u001b[0m     \"\"\"\n\u001b[0;32m--> 166\u001b[0;31m     \u001b[0;32mreturn\u001b[0m \u001b[0mget\u001b[0m\u001b[0;34m(\u001b[0m\u001b[0;34m'network'\u001b[0m\u001b[0;34m,\u001b[0m \u001b[0;34m'search'\u001b[0m\u001b[0;34m,\u001b[0m \u001b[0;34m**\u001b[0m\u001b[0mlocals\u001b[0m\u001b[0;34m(\u001b[0m\u001b[0;34m)\u001b[0m\u001b[0;34m)\u001b[0m\u001b[0;34m\u001b[0m\u001b[0m\n\u001b[0m",
      "\u001b[0;32m/Applications/anaconda/envs/Python2/lib/python2.7/site-packages/pygle/http.pyc\u001b[0m in \u001b[0;36mget\u001b[0;34m(section, endpoint, **kwargs)\u001b[0m\n\u001b[1;32m     40\u001b[0m     \u001b[0mpath\u001b[0m \u001b[0;34m=\u001b[0m \u001b[0murl\u001b[0m\u001b[0;34m.\u001b[0m\u001b[0mformat\u001b[0m\u001b[0;34m(\u001b[0m\u001b[0;34m**\u001b[0m\u001b[0mlocals\u001b[0m\u001b[0;34m(\u001b[0m\u001b[0;34m)\u001b[0m\u001b[0;34m)\u001b[0m\u001b[0;34m\u001b[0m\u001b[0m\n\u001b[1;32m     41\u001b[0m     \u001b[0mr\u001b[0m \u001b[0;34m=\u001b[0m \u001b[0mrequests\u001b[0m\u001b[0;34m.\u001b[0m\u001b[0mget\u001b[0m\u001b[0;34m(\u001b[0m\u001b[0mpath\u001b[0m\u001b[0;34m,\u001b[0m \u001b[0mauth\u001b[0m\u001b[0;34m=\u001b[0m\u001b[0mauth\u001b[0m\u001b[0;34m,\u001b[0m \u001b[0mparams\u001b[0m\u001b[0;34m=\u001b[0m\u001b[0mkwargs\u001b[0m\u001b[0;34m)\u001b[0m\u001b[0;34m\u001b[0m\u001b[0m\n\u001b[0;32m---> 42\u001b[0;31m     \u001b[0mr\u001b[0m\u001b[0;34m.\u001b[0m\u001b[0mraise_for_status\u001b[0m\u001b[0;34m(\u001b[0m\u001b[0;34m)\u001b[0m\u001b[0;34m\u001b[0m\u001b[0m\n\u001b[0m\u001b[1;32m     43\u001b[0m     \u001b[0;32mreturn\u001b[0m \u001b[0mr\u001b[0m\u001b[0;34m.\u001b[0m\u001b[0mjson\u001b[0m\u001b[0;34m(\u001b[0m\u001b[0;34m)\u001b[0m\u001b[0;34m\u001b[0m\u001b[0m\n\u001b[1;32m     44\u001b[0m \u001b[0;34m\u001b[0m\u001b[0m\n",
      "\u001b[0;32m/Applications/anaconda/envs/Python2/lib/python2.7/site-packages/requests/models.pyc\u001b[0m in \u001b[0;36mraise_for_status\u001b[0;34m(self)\u001b[0m\n\u001b[1;32m    935\u001b[0m \u001b[0;34m\u001b[0m\u001b[0m\n\u001b[1;32m    936\u001b[0m         \u001b[0;32mif\u001b[0m \u001b[0mhttp_error_msg\u001b[0m\u001b[0;34m:\u001b[0m\u001b[0;34m\u001b[0m\u001b[0m\n\u001b[0;32m--> 937\u001b[0;31m             \u001b[0;32mraise\u001b[0m \u001b[0mHTTPError\u001b[0m\u001b[0;34m(\u001b[0m\u001b[0mhttp_error_msg\u001b[0m\u001b[0;34m,\u001b[0m \u001b[0mresponse\u001b[0m\u001b[0;34m=\u001b[0m\u001b[0mself\u001b[0m\u001b[0;34m)\u001b[0m\u001b[0;34m\u001b[0m\u001b[0m\n\u001b[0m\u001b[1;32m    938\u001b[0m \u001b[0;34m\u001b[0m\u001b[0m\n\u001b[1;32m    939\u001b[0m     \u001b[0;32mdef\u001b[0m \u001b[0mclose\u001b[0m\u001b[0;34m(\u001b[0m\u001b[0mself\u001b[0m\u001b[0;34m)\u001b[0m\u001b[0;34m:\u001b[0m\u001b[0;34m\u001b[0m\u001b[0m\n",
      "\u001b[0;31mHTTPError\u001b[0m: 401 Client Error: Unauthorized for url: https://api.wigle.net/api/v2/network/search?longrange1=-1.8032696&longrange2=-1.7107533&latrange1=52.3912092&resultsPerPage=1000&latrange2=52.4356646"
     ]
    }
   ],
   "source": [
    "from wigle import *\n",
    "from pygle import network\n",
    "import json\n",
    "import time\n",
    "\n",
    "# Define the Dublin lat and long ranges\n",
    "dublinLatLow = 53.312996\n",
    "dublinLatHigh = 53.359327\n",
    "dublinLongLow = -6.297039\n",
    "dublinLongHigh = -6.170696\n",
    "\n",
    "irelandLatLow = 51.004739\n",
    "irelandLatHigh = 55.409966\n",
    "irelandLongLow = -10.808161\n",
    "irelandLongHigh = -5.435289\n",
    "\n",
    "galwayLatLow = 53.267806\n",
    "galwayLatHigh = 53.341405\n",
    "galwayLongLow = -9.022181\n",
    "galwayLongHigh = -8.904250\n",
    "\n",
    "derryLatLow = 53.677144 \n",
    "derryLatHigh = 55.329782\n",
    "derryLongLow = -8.738483\n",
    "derryLongHigh = -5.239252\n",
    "\n",
    "derryCityLatLow = 54.921410\n",
    "derryCityLatHigh = 55.053389\n",
    "derryCityLongLow = -7.423315\n",
    "derryCityLongHigh = -7.179218\n",
    "\n",
    "corkLatLow = 51.685755\n",
    "corkLatHigh = 52.125477\n",
    "corkLongLow = -9.005045\n",
    "corkLongHigh = -7.870149\n",
    "\n",
    "limerickLatLow = 51.547626\n",
    "limerickLatHigh = 53.752432\n",
    "limerickLongLow = -9.860613\n",
    "limerickLongHigh = -7.374656\n",
    "\n",
    "birminghamLatLow = 52.3912092\n",
    "birminghamLatHigh = 52.48012\n",
    "birminghamLongLow = -1.8032696\n",
    "birminghamLongHigh = -1.618237\n",
    "\n",
    "regionLatLow = birminghamLatLow\n",
    "regionLatHigh = birminghamLatHigh\n",
    "regionLongLow = birminghamLongLow\n",
    "regionLongHigh = birminghamLongHigh\n",
    "dumpFileName = 'birmingham'\n",
    "\n",
    "\n",
    "\n",
    "numLatSteps = 2\n",
    "numLongSteps = 2\n",
    "\n",
    "latStep = (regionLatHigh - regionLatLow)/numLatSteps\n",
    "longStep = (regionLongHigh - regionLongLow)/numLongSteps\n",
    "\n",
    "# connect to wigle\n",
    "wigle = Wigle(\"brian.macn\", \"hardeight\")\n",
    "\n",
    "counter = 0\n",
    "countersDoneSoFar = 0\n",
    "\n",
    "for latCount in range(0, numLatSteps):\n",
    "    for longCount in range(0, numLongSteps):\n",
    "        \n",
    "        # search for all ssids within Ireland\n",
    "        latRange = ((regionLatLow + (latStep*latCount), regionLatLow + (latStep*(latCount + 1))))\n",
    "        longRange = ((regionLongLow + (longStep*longCount), regionLongLow + (longStep*(longCount + 1))))\n",
    "            \n",
    "        if(counter >= countersDoneSoFar):\n",
    "            \n",
    "            wigleInIreland = network.search(latrange1=latRange[0], latrange2=latRange[1], longrange1=longRange[0], longrange2=longRange[1], resultsPerPage=1000)\n",
    "            \n",
    "            #wigleInIreland = wigle.search(lat_range=latRange, \n",
    "            #                                  long_range=longRange, \n",
    "            #                                  max_results=10000)\n",
    "            \n",
    "            print(str(counter) + ': ' + str(len(wigleInIreland)))\n",
    "            with open('wigleDump_' + dumpFileName + '_' + str(latRange[0]) + '_'  + str(latRange[1]) \n",
    "                      + '_' + str(longRange[0]) + \"_\"  + str(longRange[1]) \n",
    "                      + '.json', 'w') as outfile:\n",
    "                json.dump(wigleInIreland, outfile)\n",
    "\n",
    "            time.sleep(10)\n",
    "                  \n",
    "        counter += 1\n",
    "        \n"
   ]
  },
  {
   "cell_type": "code",
   "execution_count": 7,
   "metadata": {},
   "outputs": [
    {
     "ename": "WigleAuthenticationError",
     "evalue": "Could not authenticate as user brian.macn",
     "output_type": "error",
     "traceback": [
      "\u001b[0;31m---------------------------------------------------------------------------\u001b[0m",
      "\u001b[0;31mWigleAuthenticationError\u001b[0m                  Traceback (most recent call last)",
      "\u001b[0;32m<ipython-input-7-f677260f5f01>\u001b[0m in \u001b[0;36m<module>\u001b[0;34m()\u001b[0m\n\u001b[1;32m      1\u001b[0m \u001b[0;32mfrom\u001b[0m \u001b[0mwigle\u001b[0m \u001b[0;32mimport\u001b[0m \u001b[0;34m*\u001b[0m\u001b[0;34m\u001b[0m\u001b[0m\n\u001b[1;32m      2\u001b[0m \u001b[0mwigle\u001b[0m \u001b[0;34m=\u001b[0m \u001b[0mWigle\u001b[0m\u001b[0;34m(\u001b[0m\u001b[0;34m\"brian.macn\"\u001b[0m\u001b[0;34m,\u001b[0m \u001b[0;34m\"hardeight\"\u001b[0m\u001b[0;34m)\u001b[0m\u001b[0;34m\u001b[0m\u001b[0m\n\u001b[0;32m----> 3\u001b[0;31m \u001b[0mwigle\u001b[0m\u001b[0;34m.\u001b[0m\u001b[0mget_user_info\u001b[0m\u001b[0;34m(\u001b[0m\u001b[0;34m)\u001b[0m\u001b[0;34m\u001b[0m\u001b[0m\n\u001b[0m",
      "\u001b[0;32m/Applications/anaconda/envs/Python2/lib/python2.7/site-packages/wigle/__init__.pyc\u001b[0m in \u001b[0;36mget_user_info\u001b[0;34m(self)\u001b[0m\n\u001b[1;32m    101\u001b[0m             \u001b[0mdict\u001b[0m\u001b[0;34m:\u001b[0m \u001b[0mDescription\u001b[0m \u001b[0mof\u001b[0m \u001b[0muser\u001b[0m\u001b[0;34m.\u001b[0m\u001b[0;34m\u001b[0m\u001b[0m\n\u001b[1;32m    102\u001b[0m         \"\"\"\n\u001b[0;32m--> 103\u001b[0;31m         \u001b[0mresp\u001b[0m \u001b[0;34m=\u001b[0m \u001b[0mself\u001b[0m\u001b[0;34m.\u001b[0m\u001b[0m_authenticated_request\u001b[0m\u001b[0;34m(\u001b[0m\u001b[0;34m'jsonUser'\u001b[0m\u001b[0;34m)\u001b[0m\u001b[0;34m\u001b[0m\u001b[0m\n\u001b[0m\u001b[1;32m    104\u001b[0m         \u001b[0minfo\u001b[0m \u001b[0;34m=\u001b[0m \u001b[0mresp\u001b[0m\u001b[0;34m.\u001b[0m\u001b[0mjson\u001b[0m\u001b[0;34m(\u001b[0m\u001b[0;34m)\u001b[0m\u001b[0;34m\u001b[0m\u001b[0m\n\u001b[1;32m    105\u001b[0m         \u001b[0;32mreturn\u001b[0m \u001b[0minfo\u001b[0m\u001b[0;34m\u001b[0m\u001b[0m\n",
      "\u001b[0;32m/Applications/anaconda/envs/Python2/lib/python2.7/site-packages/wigle/__init__.pyc\u001b[0m in \u001b[0;36m_authenticated_request\u001b[0;34m(self, method, **kwargs)\u001b[0m\n\u001b[1;32m     70\u001b[0m \u001b[0;34m\u001b[0m\u001b[0m\n\u001b[1;32m     71\u001b[0m     \u001b[0;32mdef\u001b[0m \u001b[0m_authenticated_request\u001b[0m\u001b[0;34m(\u001b[0m\u001b[0mself\u001b[0m\u001b[0;34m,\u001b[0m \u001b[0mmethod\u001b[0m\u001b[0;34m,\u001b[0m \u001b[0;34m**\u001b[0m\u001b[0mkwargs\u001b[0m\u001b[0;34m)\u001b[0m\u001b[0;34m:\u001b[0m\u001b[0;34m\u001b[0m\u001b[0m\n\u001b[0;32m---> 72\u001b[0;31m         \u001b[0mself\u001b[0m\u001b[0;34m.\u001b[0m\u001b[0m_ensure_authenticated\u001b[0m\u001b[0;34m(\u001b[0m\u001b[0;34m)\u001b[0m\u001b[0;34m\u001b[0m\u001b[0m\n\u001b[0m\u001b[1;32m     73\u001b[0m         \u001b[0;32mreturn\u001b[0m \u001b[0mself\u001b[0m\u001b[0;34m.\u001b[0m\u001b[0m_wigle_request\u001b[0m\u001b[0;34m(\u001b[0m\u001b[0mmethod\u001b[0m\u001b[0;34m,\u001b[0m \u001b[0mauth\u001b[0m\u001b[0;34m=\u001b[0m\u001b[0mTrue\u001b[0m\u001b[0;34m,\u001b[0m \u001b[0;34m**\u001b[0m\u001b[0mkwargs\u001b[0m\u001b[0;34m)\u001b[0m\u001b[0;34m\u001b[0m\u001b[0m\n\u001b[1;32m     74\u001b[0m \u001b[0;34m\u001b[0m\u001b[0m\n",
      "\u001b[0;32m/Applications/anaconda/envs/Python2/lib/python2.7/site-packages/wigle/__init__.pyc\u001b[0m in \u001b[0;36m_ensure_authenticated\u001b[0;34m(self)\u001b[0m\n\u001b[1;32m     92\u001b[0m     \u001b[0;32mdef\u001b[0m \u001b[0m_ensure_authenticated\u001b[0m\u001b[0;34m(\u001b[0m\u001b[0mself\u001b[0m\u001b[0;34m)\u001b[0m\u001b[0;34m:\u001b[0m\u001b[0;34m\u001b[0m\u001b[0m\n\u001b[1;32m     93\u001b[0m         \u001b[0;32mif\u001b[0m \u001b[0;32mnot\u001b[0m \u001b[0mself\u001b[0m\u001b[0;34m.\u001b[0m\u001b[0m_auth_cookies\u001b[0m\u001b[0;34m:\u001b[0m\u001b[0;34m\u001b[0m\u001b[0m\n\u001b[0;32m---> 94\u001b[0;31m             \u001b[0mself\u001b[0m\u001b[0;34m.\u001b[0m\u001b[0mreauthenticate\u001b[0m\u001b[0;34m(\u001b[0m\u001b[0;34m)\u001b[0m\u001b[0;34m\u001b[0m\u001b[0m\n\u001b[0m\u001b[1;32m     95\u001b[0m \u001b[0;34m\u001b[0m\u001b[0m\n\u001b[1;32m     96\u001b[0m     \u001b[0;32mdef\u001b[0m \u001b[0mget_user_info\u001b[0m\u001b[0;34m(\u001b[0m\u001b[0mself\u001b[0m\u001b[0;34m)\u001b[0m\u001b[0;34m:\u001b[0m\u001b[0;34m\u001b[0m\u001b[0m\n",
      "\u001b[0;32m/Applications/anaconda/envs/Python2/lib/python2.7/site-packages/wigle/__init__.pyc\u001b[0m in \u001b[0;36mreauthenticate\u001b[0;34m(self)\u001b[0m\n\u001b[1;32m     88\u001b[0m             \u001b[0mself\u001b[0m\u001b[0;34m.\u001b[0m\u001b[0m_auth_cookies\u001b[0m \u001b[0;34m=\u001b[0m \u001b[0mresp\u001b[0m\u001b[0;34m.\u001b[0m\u001b[0mcookies\u001b[0m\u001b[0;34m\u001b[0m\u001b[0m\n\u001b[1;32m     89\u001b[0m         \u001b[0;32melse\u001b[0m\u001b[0;34m:\u001b[0m\u001b[0;34m\u001b[0m\u001b[0m\n\u001b[0;32m---> 90\u001b[0;31m             \u001b[0;32mraise\u001b[0m \u001b[0mWigleAuthenticationError\u001b[0m\u001b[0;34m(\u001b[0m\u001b[0;34m'Could not authenticate as user %s'\u001b[0m \u001b[0;34m%\u001b[0m \u001b[0mself\u001b[0m\u001b[0;34m.\u001b[0m\u001b[0muser\u001b[0m\u001b[0;34m)\u001b[0m\u001b[0;34m\u001b[0m\u001b[0m\n\u001b[0m\u001b[1;32m     91\u001b[0m \u001b[0;34m\u001b[0m\u001b[0m\n\u001b[1;32m     92\u001b[0m     \u001b[0;32mdef\u001b[0m \u001b[0m_ensure_authenticated\u001b[0m\u001b[0;34m(\u001b[0m\u001b[0mself\u001b[0m\u001b[0;34m)\u001b[0m\u001b[0;34m:\u001b[0m\u001b[0;34m\u001b[0m\u001b[0m\n",
      "\u001b[0;31mWigleAuthenticationError\u001b[0m: Could not authenticate as user brian.macn"
     ]
    }
   ],
   "source": [
    "from wigle import *\n",
    "wigle = Wigle(\"brian.macn\", \"hardeight\")\n",
    "wigle.get_user_info()"
   ]
  },
  {
   "cell_type": "code",
   "execution_count": 8,
   "metadata": {},
   "outputs": [
    {
     "ename": "NameError",
     "evalue": "name 'wigleInIreland' is not defined",
     "output_type": "error",
     "traceback": [
      "\u001b[0;31m---------------------------------------------------------------------------\u001b[0m",
      "\u001b[0;31mNameError\u001b[0m                                 Traceback (most recent call last)",
      "\u001b[0;32m<ipython-input-8-9ba1bdf32e18>\u001b[0m in \u001b[0;36m<module>\u001b[0;34m()\u001b[0m\n\u001b[0;32m----> 1\u001b[0;31m \u001b[0mlen\u001b[0m\u001b[0;34m(\u001b[0m\u001b[0mwigleInIreland\u001b[0m\u001b[0;34m)\u001b[0m\u001b[0;34m\u001b[0m\u001b[0m\n\u001b[0m",
      "\u001b[0;31mNameError\u001b[0m: name 'wigleInIreland' is not defined"
     ]
    }
   ],
   "source": [
    "len(wigleInIreland)"
   ]
  },
  {
   "cell_type": "code",
   "execution_count": null,
   "metadata": {},
   "outputs": [],
   "source": [
    "import json\n",
    "import glob\n",
    "\n",
    "read_files = glob.glob(\"wigleDump*.json\")\n",
    "output_list = []\n",
    "\n",
    "for f in read_files:\n",
    "    with open(f, \"rb\") as infile:\n",
    "        json_piece = json.load(infile)\n",
    "\n",
    "        output_list = output_list + json_piece\n",
    "\n",
    "print(len(output_list))\n",
    "\n",
    "with open(\"merged_wigle_dumps_cork_talk.json\", \"wb\") as outfile:\n",
    "    json.dump(output_list, outfile)"
   ]
  },
  {
   "cell_type": "markdown",
   "metadata": {},
   "source": [
    "Generate lat and long for each SSID in the devices list"
   ]
  },
  {
   "cell_type": "code",
   "execution_count": null,
   "metadata": {
    "scrolled": false
   },
   "outputs": [],
   "source": [
    "latLongList = dict()\n",
    "\n",
    "# loop through the SSIDs\n",
    "for ssid in ssidsFound:\n",
    "\n",
    "    # If we haven't already looked for this SSID then do a wigle search for it\n",
    "    if not ssid in latLongList:\n",
    "        loc = findWigleSSID(ssid)\n",
    "\n",
    "        # If wigle found a location store it\n",
    "        if not (loc[\"lat\"] == 0 and loc[\"long\"] == 0):\n",
    "            latLongList[\"ssid\"] = {\"lat\":loc[\"lat\"], \"long\":loc[\"long\"]}\n"
   ]
  },
  {
   "cell_type": "markdown",
   "metadata": {},
   "source": [
    "Read lats/longs from the wigle dump and average out lats/longs where ssid show up multiple times."
   ]
  },
  {
   "cell_type": "code",
   "execution_count": null,
   "metadata": {},
   "outputs": [],
   "source": [
    "import json\n",
    "import string\n",
    "\n",
    "# Import the Wigle dump\n",
    "ssidList = json.loads(open('merged_wigle_dumps_derrycity.json').read())\n",
    "\n",
    "# Start an empty dictionary\n",
    "ssidLatLong = dict()\n",
    "\n",
    "# Loop through each ssid json object and add it to the dictionary\n",
    "for ssidObj in ssidList:\n",
    "\n",
    "    # Extract the important details from the ssid json object\n",
    "    ssidName = ssidObj[\"ssid\"] \n",
    "    \n",
    "    \n",
    "    if(not ssidName == None and all(c in string.printable for c in ssidName) and (len(ssidName) > 3)): \n",
    "\n",
    "        ssidName = ssidName.replace(\"&amp;\", \"\")\n",
    "        ssidName = ssidName.replace(\"&\", \"\")\n",
    "        ssidName = ssidName.replace(\"<\", \"\")\n",
    "        ssidName = ssidName.replace(\">\", \"\")\n",
    "        ssidLat = ssidObj[\"trilat\"]\n",
    "        ssidLong = ssidObj[\"trilong\"]\n",
    "\n",
    "\n",
    "        # if the ssid is not in the dictionary yet add it\n",
    "        if not ssidName in ssidLatLong:\n",
    "\n",
    "            ssidLatLong[ssidName] = {\"lat\":ssidLat, \"long\":ssidLong, \"count\":1}\n",
    "\n",
    "        # if the ssid is already in the ditionary then average out this new entry\n",
    "        else:\n",
    "\n",
    "            ssidLatLong[ssidName][\"lat\"] = (ssidLatLong[ssidName][\"lat\"]*ssidLatLong[ssidName][\"count\"] + ssidLat)/(ssidLatLong[ssidName][\"count\"] + 1)\n",
    "            ssidLatLong[ssidName][\"long\"] = (ssidLatLong[ssidName][\"long\"]*ssidLatLong[ssidName][\"count\"] + ssidLong)/(ssidLatLong[ssidName][\"count\"] + 1)\n",
    "            ssidLatLong[ssidName][\"count\"] += 1\n"
   ]
  },
  {
   "cell_type": "code",
   "execution_count": null,
   "metadata": {},
   "outputs": [],
   "source": [
    "for ssid in ssidLatLong:\n",
    "    print ssid #+ str(ssidLatLong[ssid][\"lat\"]) + str(ssidLatLong[ssid][\"long\"])"
   ]
  },
  {
   "cell_type": "markdown",
   "metadata": {},
   "source": [
    "Write out an XML file containing lat/longs of ssids spotted"
   ]
  },
  {
   "cell_type": "code",
   "execution_count": null,
   "metadata": {},
   "outputs": [],
   "source": [
    "# Horrible manual writing of an XML file!!!!\n",
    "with open('ssidsFound.xml', 'w') as xmlfile:\n",
    "        \n",
    "    xmlfile.write(\"<?xml version=\\\"1.0\\\"?>\\n\")\n",
    "    xmlfile.write(\"<markers>\\n\")\n",
    "    \n",
    "    for ssid in ssidsFound:    \n",
    "        if ssid in ssidLatLong:\n",
    "            xmlfile.write(\"\\t<marker>\\n\")\n",
    "            xmlfile.write(\"\\t\\t<name>\" + ssid + \"</name>\\n\")\n",
    "            xmlfile.write(\"\\t\\t<lat>\" + str(ssidLatLong[ssid][\"lat\"]) + \"</lat>\\n\")\n",
    "            xmlfile.write(\"\\t\\t<lng>\" + str(ssidLatLong[ssid][\"long\"]) + \"</lng>\\n\")\n",
    "            xmlfile.write(\"\\t</marker>\\n\")\n",
    "\n",
    "    xmlfile.write(\"</markers>\\n\")\n",
    "        "
   ]
  },
  {
   "cell_type": "markdown",
   "metadata": {},
   "source": [
    "Write an XML file with all SSIDS downloaded from wigle"
   ]
  },
  {
   "cell_type": "code",
   "execution_count": null,
   "metadata": {},
   "outputs": [],
   "source": [
    "# Horrible manual writing of an XML file!!!!\n",
    "with open('ssidsAll.xml', 'w') as xmlfile:\n",
    "        \n",
    "    xmlfile.write(\"<?xml version=\\\"1.0\\\"?>\\n\")\n",
    "    xmlfile.write(\"<markers>\\n\")\n",
    "    \n",
    "    for ssid in ssidLatLong:\n",
    "        #print(ssid)\n",
    "        if not ssid == None:\n",
    "            xmlfile.write(\"\\t<marker>\\n\")\n",
    "            xmlfile.write(\"\\t\\t<name>\" + ssid + \"</name>\\n\")\n",
    "            xmlfile.write(\"\\t\\t<lat>\" + str(ssidLatLong[ssid][\"lat\"]) + \"</lat>\\n\")\n",
    "            xmlfile.write(\"\\t\\t<lng>\" + str(ssidLatLong[ssid][\"long\"]) + \"</lng>\\n\")\n",
    "            xmlfile.write(\"\\t</marker>\\n\")\n",
    "\n",
    "    xmlfile.write(\"</markers>\\n\")\n",
    "        "
   ]
  },
  {
   "cell_type": "markdown",
   "metadata": {},
   "source": [
    "# MacLocate Lookup Version"
   ]
  },
  {
   "cell_type": "code",
   "execution_count": null,
   "metadata": {},
   "outputs": [],
   "source": [
    "from maclocate import *\n",
    "\n",
    "locate(\"RDS-FREEWIFI\")\n",
    "\n"
   ]
  },
  {
   "cell_type": "code",
   "execution_count": null,
   "metadata": {},
   "outputs": [],
   "source": [
    "latLongList = []\n",
    "for d in devices:\n",
    "    ssids = devices[d][\"ssids\"]\n",
    "    for ssid in ssids:\n",
    "        locate(ssid)\n",
    "        print loc\n",
    "        latLongList.append(loc)\n",
    "        "
   ]
  },
  {
   "cell_type": "code",
   "execution_count": null,
   "metadata": {},
   "outputs": [],
   "source": [
    "latLongList"
   ]
  },
  {
   "cell_type": "markdown",
   "metadata": {},
   "source": [
    "# Drawing Pictures "
   ]
  },
  {
   "cell_type": "code",
   "execution_count": null,
   "metadata": {
    "collapsed": true
   },
   "outputs": [],
   "source": [
    "import mpld3\n",
    "\n",
    "mpld3.enable_notebook()\n"
   ]
  },
  {
   "cell_type": "markdown",
   "metadata": {},
   "source": [
    "# Another Dynamic Version"
   ]
  },
  {
   "cell_type": "code",
   "execution_count": null,
   "metadata": {},
   "outputs": [],
   "source": [
    "#!/usr/bin/env python\n",
    "# import all the needed libraries\n",
    "import sys\n",
    "from netaddr import *\n",
    "import logging\n",
    "logging.getLogger(\"scapy.runtime\").setLevel(logging.ERROR)\n",
    "from scapy.all import *\n",
    "from subprocess import *\n",
    "import datetime\n",
    "import time\n",
    "\n",
    "# clear the console\n",
    "call([\"clear\"])                                           \n",
    "\n",
    "# set date-time parameters                                                          \n",
    "today = datetime.date.today()                 \n",
    "d=today.strftime(\"%d, %b %Y\")\n",
    "tf=time.strftime(\" %H:%M\")\n",
    "t=time.strftime(\" %H:%M:%S\")\n",
    "\n",
    "# define variables                                                          \n",
    "clients = []                          \n",
    "uni = 0\n",
    "mach = []\n",
    "manu =[]\n",
    "\n",
    "# our packet handler                                                          \n",
    "def phandle(p):                       \n",
    "    global uni    \n",
    "    if p.haslayer(Dot11ProbeReq):                         \n",
    "        mac = str(p.addr2)\n",
    "        if p.haslayer(Dot11Elt):                          \n",
    "            if p.ID == 0: \n",
    "                ssid = p.info                             \n",
    "                if ssid not in clients and ssid != \"\":\n",
    "                    clients.append(ssid)          \n",
    "                    maco = EUI(mac)\n",
    "            macf = maco.oui.registration().org   \n",
    "            print (len(clients),mac+\" (\"+macf+\") <--Probing--> \"+ssid)\n",
    "            if args.log:\n",
    "                f.write (str(len(clients))+\" \"+mac+\" (\"+macf+\") //\"+\" <--Probing--> \"+ssid+\"\\n\")\n",
    "                if mac not in mach:\n",
    "                            mach.append(mac)\n",
    "                            uni+=1                                      \n",
    "            elif mac not in mach:\n",
    "                mach.append(mac)\n",
    "                uni+=1                           \n",
    "\n",
    "# our main function             \n",
    "if __name__ == \"__main__\":\n",
    "    import argparse\n",
    "    parser = argparse.ArgumentParser(description='PyRobe Help')\n",
    "    parser.add_argument('interface', action=\"store\", help=\"specify interface (ex. mon0)\", default=False)\n",
    "    parser.add_argument(\"-l\",\"--log\", dest=\"log\",action=\"store_true\", help=\"print log file\")\n",
    "    args = parser.parse_args()\n",
    "    if args.log:\n",
    "        f = open(\"ProbeLog\"+str(today)+str(tf)+\".txt\",\"w\")    \n",
    "        sniff(iface=args.interface,prn=phandle, store=0)                    \n",
    "        print (\"\\n\")\n",
    "        print (\"Unique MACs: \",uni)\n",
    "        f.write (\"\\nUnique MACs: \"+str(uni))\n",
    "        f.write (\"\\nScan performed on: \"+str(d)+\" at\"+str(t))  \n",
    "        f.close()                                                 \n",
    "        print (\"Log successfully written. Exiting!\")\n",
    "    else:\n",
    "        sniff(iface=args.interface,prn=phandle, store=0)\n",
    "        print (\"\\nSuccessfully Exited! No log file written.\")"
   ]
  },
  {
   "cell_type": "markdown",
   "metadata": {
    "collapsed": true
   },
   "source": [
    "# Yet Another Dynamic Version\n",
    "Works when called from a scripts, but nice becuase it does channel hopping"
   ]
  },
  {
   "cell_type": "code",
   "execution_count": null,
   "metadata": {},
   "outputs": [],
   "source": [
    "import re\n",
    "import pickle\n",
    "from threading import Timer\n",
    "import subprocess\n",
    "from subprocess import call\n",
    "import os.path\n",
    "import sys\n",
    "\n",
    "# config\n",
    "database = 'allPairs.p'\n",
    "channels = [1, 2, 3, 4, 5, 6, 7, 8, 9, 10, 11, 12]\n",
    "\n",
    "if len(sys.argv) > 1:\n",
    "    database = sys.argv[1]\n",
    "if len(sys.argv) > 2:\n",
    "    channels = sys.argv[2:len(sys.argv)]\n",
    "\n",
    "# run\n",
    "hopTime = 10\n",
    "\n",
    "airport = '/System/Library/PrivateFrameworks/Apple80211.framework/Versions/Current/Resources/airport'\n",
    "\n",
    "call(['networksetup',\n",
    "    '-setairportpower',\n",
    "    'airport', 'on'])\n",
    "\n",
    "call(['sudo',\n",
    "    airport,\n",
    "    '--disassociate'])\n",
    "\n",
    "channelIndex = int(0)\n",
    "def hopChannels():\n",
    "    global channelIndex\n",
    "    channelIndex += 1\n",
    "    if channelIndex == len(channels):\n",
    "        channelIndex = 0\n",
    "    channel = channels[channelIndex]\n",
    "    print('hopping to channel ' + str(channel))\n",
    "    call(['sudo',\n",
    "        airport,\n",
    "        '--channel=' + str(channel)])\n",
    "    Timer(hopTime, hopChannels).start()\n",
    "hopChannels()\n",
    "\n",
    "allPairs = set();\n",
    "\n",
    "if os.path.isfile(database):\n",
    "    print('loading database from disk')\n",
    "    allPairs = pickle.load(open(database, \"rb\"))\n",
    "\n",
    "p = subprocess.Popen(('sudo',\n",
    "    'tcpdump', '-l', '-e', '-I',\n",
    "    'type mgt subtype probe-req'),\n",
    "    stdout=subprocess.PIPE)\n",
    "try:\n",
    "    for row in p.stdout:\n",
    "        result = row.decode('utf-8')\n",
    "        pattern = re.compile('SA:(.+) \\(oui Unknown\\) Probe Request \\((.+)\\) ');\n",
    "        m = pattern.search(result)\n",
    "        if m:\n",
    "            print(m.group(1) + ' @ ' + m.group(2))\n",
    "            allPairs.add((m.group(1), m.group(2)))\n",
    "            pickle.dump(allPairs, open(database, \"wb\"))\n",
    "except KeyboardInterrupt:\n",
    "    p.terminate()\n",
    "    call(['networksetup',\n",
    "        '-setairportpower',\n",
    "        'airport', 'off'])"
   ]
  },
  {
   "cell_type": "code",
   "execution_count": null,
   "metadata": {
    "collapsed": true
   },
   "outputs": [],
   "source": []
  }
 ],
 "metadata": {
  "anaconda-cloud": {},
  "kernelspec": {
   "display_name": "Python 2",
   "language": "python",
   "name": "python2"
  },
  "language_info": {
   "codemirror_mode": {
    "name": "ipython",
    "version": 2
   },
   "file_extension": ".py",
   "mimetype": "text/x-python",
   "name": "python",
   "nbconvert_exporter": "python",
   "pygments_lexer": "ipython2",
   "version": "2.7.13"
  }
 },
 "nbformat": 4,
 "nbformat_minor": 1
}
