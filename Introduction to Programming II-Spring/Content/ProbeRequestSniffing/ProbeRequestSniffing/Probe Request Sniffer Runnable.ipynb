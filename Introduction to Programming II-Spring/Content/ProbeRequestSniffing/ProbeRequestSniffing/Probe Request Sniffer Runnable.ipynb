{
 "cells": [
  {
   "cell_type": "markdown",
   "metadata": {},
   "source": [
    "# Full Runnable System"
   ]
  },
  {
   "cell_type": "markdown",
   "metadata": {},
   "source": [
    "## Setup"
   ]
  },
  {
   "cell_type": "code",
   "execution_count": 1,
   "metadata": {},
   "outputs": [],
   "source": [
    "from scapy.all import *"
   ]
  },
  {
   "cell_type": "code",
   "execution_count": 2,
   "metadata": {},
   "outputs": [],
   "source": [
    "MAC_manufacturers = dict()\n",
    "for line in open(\"./manufOriginal.txt\"):\n",
    "    words1 = line.split(\"\\t\")\n",
    "    if(len(words1) > 1):\n",
    "        words2 = words1[1].split(\"#\")\n",
    "        MAC_manufacturers[words1[0]] = words2[0].strip()"
   ]
  },
  {
   "cell_type": "markdown",
   "metadata": {},
   "source": [
    "## Open & Process The .wcap File"
   ]
  },
  {
   "cell_type": "markdown",
   "metadata": {},
   "source": [
    "Open the latest .wcap file"
   ]
  },
  {
   "cell_type": "code",
   "execution_count": 3,
   "metadata": {},
   "outputs": [
    {
     "name": "stdout",
     "output_type": "stream",
     "text": [
      "1884\n"
     ]
    }
   ],
   "source": [
    "import glob, os\n",
    "oldFolder = os.getcwd()\n",
    "#os.chdir(\"/Users/bmacnamee/Desktop/\")\n",
    "os.chdir(\"/var/tmp/\")\n",
    "wcapFiles = glob.glob(\"*.pcap\")\n",
    "wcapFiles.sort()\n",
    "wcapFiles.reverse()\n",
    "pkts = rdpcap(wcapFiles[0])\n",
    "print(len(pkts))\n",
    "os.chdir(oldFolder)"
   ]
  },
  {
   "cell_type": "code",
   "execution_count": 4,
   "metadata": {},
   "outputs": [
    {
     "data": {
      "text/plain": [
       "['MacBook Pro (3)_ch44_2020-01-20_21.55.19.991.pcap',\n",
       " 'MacBook Pro (3)_ch44_2020-01-20_21.52.50.475.pcap']"
      ]
     },
     "execution_count": 4,
     "metadata": {},
     "output_type": "execute_result"
    }
   ],
   "source": [
    "wcapFiles"
   ]
  },
  {
   "cell_type": "markdown",
   "metadata": {},
   "source": [
    "Process packets list to find probe requests"
   ]
  },
  {
   "cell_type": "code",
   "execution_count": 5,
   "metadata": {
    "scrolled": false
   },
   "outputs": [
    {
     "name": "stdout",
     "output_type": "stream",
     "text": [
      "4 found\n"
     ]
    }
   ],
   "source": [
    "import string\n",
    "\n",
    "briansMACAddress = \"88:e9:fe:ed:db:c8\"\n",
    "devices = dict()\n",
    "\n",
    "#devices[briansMACAddress] = {\"freq\":100, \"last_seen\":1456826413.63281, \"manu\":\"Apple\", \"ssids\":{\"UCD Wireless\"}}\n",
    "devices[briansMACAddress] = {\"freq\":100, \"last_seen\":1456826413.63281, \"manu\":\"Apple\", \"ssids\":{\"UCD Wireless\", \"PorterHouseWiFi\", \"UPC1389307\", \"Dublin Airport Free WiFi\", \"Internet@Sea\", \"RIA_public\", \"Eurocycles\", \"the gibson hotel\", \"Kildare Village VIP Lounge\", \"Radisson_Guest\", \"mmcdonagh\", \"platform3\", \"Meyrick Free WiFi\", \"TALKTALK340B64\", \"UCC Guest\", \"_The Vox Free Wi-Fi\"}}\n",
    "#devices['aa:bc:32:82:b4:27'] = {\"freq\":100, \"last_seen\":1456826413.63281, \"manu\":\"Samsung\", \"ssids\":{\"BTHub5-5CGJ\", \"UCD Wireless\", \"SKYC8341\", \"WiFi_Guest\", \"G-Guest\", \"Internet@Sea\", \"UPC914885\", \"Dublin Airport Free WiFi\", \"BTHub5-K89K\", \"UPC6145877\", \"SpitfireOne\", \"kenny wifi\", \"YXHCS\", \"Guest-KarenMillen\"}}\n",
    "#devices['aa:d0:0e:6e:ca'] = {\"freq\":1, \"last_seen\":1456826413.63281, \"manu\":\"Samsung\", \"ssids\":{\"RIA_public\", \"eircom97735765\"}}\n",
    "#devices['aa:d0:0e:6e:ca'] = {\"freq\":1, \"last_seen\":1456826413.63281, \"manu\":\"Samsung\", \"ssids\":{\"UPC3387839\", \"platform3\", \"Meyrick Free WiFi\", \"ZyXEL01\", \"REDCATS\"}}\n",
    "devices['aa:22:be:aa:ef'] = {\"freq\":1, \"last_seen\":1456826413.63281, \"manu\":\"Samsung\", \"ssids\":{\"UPC1389307\", \"UPC542688\", \"Specsavers-Nutgrove\"}}\n",
    "#devices['aa:e0:d4:40:2e'] = {\"freq\":1, \"last_seen\":1456826413.63281, \"manu\":\"HTC\", \"ssids\":{\"Internet@Sea\", \"shaunbobby\", \"TonyRomas_Public\"}}\n",
    "#devices['aa:e4:53:c1:cf'] = {\"freq\":1, \"last_seen\":1456826413.63281, \"manu\":\"Samsung\", \"ssids\":{\"DignityBarWest\",\"3Webcube-EFC5\",\"TNCAPCDAF23\",\"UPC3387839\",\"Dormer\",\"al-sharekh\",\"UPC992930\",\"HUAWEI-E5220-bbbc\",\"Viki\"}}\n",
    "devices['aa:1a:c0:4d:80'] = {\"freq\":1, \"last_seen\":1456826413.63281, \"manu\":\"Samsung\", \"ssids\":{\"RIA_public\", \"UPC1378801\", \"Holahan Home Router\", \"UPC372804\", \"eircom73623170\"}}\n",
    "devices['90:b6:86:ce:9f'] = {\"freq\":1, \"last_seen\":1456826413.63281, \"manu\":\"Apple\", \"ssids\":{\"ZE cojean WIFI\", \"CCDGuest\", \"RBB_CourtmacHotel\", \"Burj Khalifa - At The Top WiFi\", \"The Shelbourne\"}} \n",
    "#devices['e4:3a:87:8a:05'] = {\"freq\":1, \"last_seen\":1456826413.63281, \"manu\":\"Samsung\", \"ssids\":{\"RIA_public\", \"It Hurts when IP\", \"TPS-BrayMainSt\", \"UPC242778869\"}}\n",
    "#devices['90:fd:61:45:95'] = {\"freq\":1, \"last_seen\":1456826413.63281, \"manu\":\"Samsung\", \"ssids\":{\"RIA_public\", \"Peppertree\", \"The Hamlet Court Reception\", \"UPCSILVA\", \"Pretty Fly for a Wi-fi\", \"Pablo Honey\", \"MountMerrionAveExt\", \"Your M S Free WiFi\", \"UPC245183831\"}}\n",
    "#devices['90:fd:61:45:95'] = {\"freq\":1, \"last_seen\":1456826413.63281, \"manu\":\"Apple\", \"ssids\":{\"HP-Print-27-Photosmart 5520\", \"Roisin Dubh\", \"eircom-63700543 2.4G\", \"mulgannon\", \"LED Cross Network\", \"UPC748264\", \"UPC952641\",\"Eircom Work\",\"IMAGINEBB G248\",\"Global\",\"LHN_palmerstown\"}}\n",
    "\n",
    "#devices['ac:bc:32:82:b4:27'] = {\"freq\":100, \"last_seen\":1456826413.63281, \"manu\":\"Samsung\", \"ssids\":{\"eircom78841981\", \"Isabelle\", \"BrightBox-yaqr4a\"}}\n",
    "#devices['a5:d0:0e:6e:ca'] = {\"freq\":1, \"last_seen\":1456826413.63281, \"manu\":\"Samsung\", \"ssids\":{\"idox\", \"WesternTrust_other\", \"BTHub3-S256\"}}\n",
    "#devices['d0:22:be:aa:ef'] = {\"freq\":1, \"last_seen\":1456826413.63281, \"manu\":\"Samsung\", \"ssids\":{\"irishrover\", \"virginmedia9569557\", \"MANORFARM\"}}\n",
    "#devices['d4:e0:d4:40:2e'] = {\"freq\":1, \"last_seen\":1456826413.63281, \"manu\":\"HTC\", \"ssids\":{\"Clooney_Hall\", \"WestcareVOIP\", \"Collins Solicitors\", \"RugbyOffice\"}}\n",
    "#devices['a0:e4:53:c1:cf'] = {\"freq\":1, \"last_seen\":1456826413.63281, \"manu\":\"Samsung\", \"ssids\":{\"TALKTALK9CC3B5\", \"flower shop\", \"Fearon\"}}\n",
    "#devices['1c:1a:c0:4d:80'] = {\"freq\":1, \"last_seen\":1456826413.63281, \"manu\":\"Samsung\", \"ssids\":{\"WatersideCAB\", \"BT Fusion-4014\", \"Welcome to Dukes\"}}\n",
    "devices['90:b6:86:ce:9f'] = {\"freq\":1, \"last_seen\":1456826413.63281, \"manu\":\"Samsung\", \"ssids\":{\"Lisnagelvin Wifi\", \"VoceraBadges\", \"TALKTALK340B64\"}}\n",
    "#devices['e4:3a:87:8a:05'] = {\"freq\":1, \"last_seen\":1456826413.63281, \"manu\":\"Apple\", \"ssids\":{\"Alan's Wi-Fi Network\", \"DIRECT-UE-BRAVIA\", \"Bonnys Caravan Park 2\", \"Brady Wireless\", \"BTHomeHub-5276\"}}                    \n",
    "#devices['00:25:bc:83:4f:7e'] = {\"freq\":50, \"last_seen\":1456826413.63281, \"manu\":\"Apple\", \"ssids\":{\"Stephen's Green Free WIFI\", \"WiFi-0d2b\", \"Guest@CDM\", \"Bluebox Metroaccess\", \"Halkett\", \"SOG-GUEST1\", \"Ramada Encore Belfast\", \"mycloud\", \"mourne\", \"WirelessCity\", \"Croke Park WiFi\", \"Guest Wi-Fi\", \"MPC - Lafayette Bar\", \"BMW PGA 2012\", \"UPC353612\", \"CURLEW HOME\"}}\n",
    "\n",
    "\n",
    "counter = 0\n",
    "\n",
    "# Loop through the packets in the file and take a look at them\n",
    "for pkt in pkts:\n",
    "\n",
    "    if pkt.haslayer(Dot11) :\n",
    "        # Type = 0 is a management frame\n",
    "        # Subtype 8 is a beacon frame\n",
    "        # Subtype 4 is a probe request frame\n",
    "        # Subtype 5 is a probe response frame\n",
    "        if pkt.type == 0 and pkt.subtype == 4 :\n",
    "\n",
    "            counter += 1\n",
    "           \n",
    "            if not pkt.addr2 in devices:\n",
    "                \n",
    "                # Isolate the manufacturers code\n",
    "                manuCode = pkt.addr2[0:8]\n",
    "                if manuCode in MAC_manufacturers:\n",
    "                    manu = MAC_manufacturers[manuCode]\n",
    "                else:\n",
    "                    manu = \"\"\n",
    "                    \n",
    "                devices[pkt.addr2] = {\"freq\":1, \"last_seen\":pkt.time, \"manu\":manu, \"ssids\":set()}\n",
    "\n",
    "                # If there is an SSID listed (in info attribute) record it\n",
    "                if hasattr(pkt, 'info'):\n",
    "                    ssid = pkt.info\n",
    "                    ssid = ssid.decode(\"utf-8\", 'backslashreplace') \n",
    "                    ssid = ssid.strip()\n",
    "                    ssid = ssid.replace(\"&amp;\", \"\")\n",
    "                    ssid = ssid.replace(\"&\", \"\")\n",
    "                    ssid = ssid.replace(\"<\", \"\")\n",
    "                    ssid = ssid.replace(\">\", \"\")\n",
    "                    #ssid = ''.join(filter(lambda x:x in string.printable, ssid))\n",
    "                    \n",
    "                    # Not very good, but simple error handling - ssids of more than 32 charcters probably indicate malformed packets.\n",
    "                    #if(len(ssid) <= 32 and ssid.find(\"\\x00\") == -1):\n",
    "                    if(all(c in string.printable for c in ssid) and (len(ssid) > 5)):\n",
    "                        devices[pkt.addr2][\"ssids\"].add(ssid)\n",
    "                        print(ssid)\n",
    "\n",
    "            else:\n",
    "                # Increment appearance frequency\n",
    "                devices[pkt.addr2][\"freq\"] += 1\n",
    "\n",
    "                # If this occurrence is more recent that thae recorded one update last_seen\n",
    "                if devices[pkt.addr2][\"last_seen\"] < pkt.time:\n",
    "                    devices[pkt.addr2][\"last_seen\"] = pkt.time\n",
    "\n",
    "                # If there is an SSID listed (in info attribute) record it\n",
    "                if hasattr(pkt, 'info'):\n",
    "                    ssid = pkt.info\n",
    "                    ssid = ssid.decode(\"utf-8\", 'backslashreplace') \n",
    "                    ssid = ssid.strip()\n",
    "                    #ssid = ''.join(filter(lambda x:x in string.printable, ssid))\n",
    "                    # Not very good, but simple error handling - ssids of more than 32 charcters probably indicate malformed packets.\n",
    "                    #if(len(ssid) <= 32 and ssid.find(\"\\x00\") == -1):\n",
    "                    if(all(c in string.printable for c in ssid) and (len(ssid) > 5)):\n",
    "                        devices[pkt.addr2][\"ssids\"].add(ssid)\n",
    "                        print(ssid)\n",
    "                        \n",
    "\n",
    "print(str(len(devices)) + \" found\")\n"
   ]
  },
  {
   "cell_type": "markdown",
   "metadata": {},
   "source": [
    "Write out the devices read in into a nice csv format"
   ]
  },
  {
   "cell_type": "code",
   "execution_count": 6,
   "metadata": {},
   "outputs": [],
   "source": [
    "import csv\n",
    "import time\n",
    "with open('devices' +  str(time.time()) + '.csv', 'w') as csvfile:\n",
    "    writer = csv.writer(csvfile, delimiter=',',\n",
    "                            quotechar='|', quoting=csv.QUOTE_MINIMAL)\n",
    "    writer.writerow(['ID', 'freq', 'manu', 'ssids', 'last_seen'])\n",
    "    \n",
    "    for d in devices:\n",
    "        ssidString = \" | \".join(str(e) for e in devices[d]['ssids'])\n",
    "        writer.writerow([d, devices[d]['freq'] , devices[d]['manu'], ssidString, devices[d]['last_seen']])                      "
   ]
  },
  {
   "cell_type": "markdown",
   "metadata": {},
   "source": [
    "Generate a list of ssids found"
   ]
  },
  {
   "cell_type": "code",
   "execution_count": 7,
   "metadata": {},
   "outputs": [
    {
     "name": "stdout",
     "output_type": "stream",
     "text": [
      "24\n",
      "['the gibson hotel', 'TALKTALK340B64', 'RIA_public', 'Lisnagelvin Wifi', 'UPC1389307', 'mmcdonagh', 'UPC372804', 'Kildare Village VIP Lounge', 'VoceraBadges', 'Eurocycles', 'Specsavers-Nutgrove', 'Radisson_Guest', 'platform3', 'Internet@Sea', 'UPC1378801', 'UPC542688', 'Holahan Home Router', 'PorterHouseWiFi', 'UCD Wireless', 'Dublin Airport Free WiFi', '_The Vox Free Wi-Fi', 'Meyrick Free WiFi', 'UCC Guest', 'eircom73623170']\n"
     ]
    }
   ],
   "source": [
    "ssidsFound = []\n",
    "\n",
    "# Iterate through the devices list\n",
    "for d in devices:\n",
    "    \n",
    "    # get the list of ssids saved from a device\n",
    "    ssids = devices[d][\"ssids\"]\n",
    "    \n",
    "    # loop through the SSIDs\n",
    "    for ssid in ssids:\n",
    "\n",
    "        ssidsFound.append(ssid)\n",
    "\n",
    "ssidsFound = list(set(ssidsFound))\n",
    "print(len(ssidsFound))\n",
    "print(ssidsFound)"
   ]
  },
  {
   "cell_type": "markdown",
   "metadata": {},
   "source": [
    "## Generate HTML Page"
   ]
  },
  {
   "cell_type": "markdown",
   "metadata": {},
   "source": [
    "</body>\n",
    "</html>"
   ]
  },
  {
   "cell_type": "code",
   "execution_count": 8,
   "metadata": {},
   "outputs": [],
   "source": [
    "from datetime import datetime \n",
    "    \n",
    "devicesPerRow = 3\n",
    "numDevicesFound = len(devices)\n",
    "\n",
    "deviceCount = 0\n",
    "\n",
    "with open('devicesFound.html', 'w') as htmlfile:\n",
    "    \n",
    "    # Write the HTML header\n",
    "    htmlfile.write(\"<!DOCTYPE html>\\n\")\n",
    "    htmlfile.write(\"<html lang=\\\"en\\\">\\n\")\n",
    "    htmlfile.write(\"<head>\\n\")\n",
    "    htmlfile.write(\"<title>Devices Found</title>\\n\")\n",
    "    htmlfile.write(\"<meta charset=\\\"utf-8\\\">\\n\")\n",
    "    htmlfile.write(\"<meta name=\\\"viewport\\\" content=\\\"width=device-width, initial-scale=1\\\">\\n\")\n",
    "    htmlfile.write(\"<link rel=\\\"stylesheet\\\" href=\\\"http://maxcdn.bootstrapcdn.com/bootstrap/3.3.6/css/bootstrap.min.css\\\">\\n\")\n",
    "    htmlfile.write(\"<script src=\\\"https://ajax.googleapis.com/ajax/libs/jquery/1.12.0/jquery.min.js\\\"></script>\\n\")\n",
    "    htmlfile.write(\"<script src=\\\"http://maxcdn.bootstrapcdn.com/bootstrap/3.3.6/js/bootstrap.min.js\\\"></script>\\n\")\n",
    "    htmlfile.write(\"<style type=\\\"text/css\\\"> h1.panel-title {color:#ffffff; font-size:32px}  </style>\")\n",
    "    htmlfile.write(\"<style type=\\\"text/css\\\"> p {font-size:24px}  </style>\")\n",
    "        \n",
    "    htmlfile.write(\"</head>\\n\")\n",
    "    htmlfile.write(\"<body>\\n\")\n",
    "    \n",
    "    htmlfile.write(\"<p>&nbsp;</p>\\n\")\n",
    "    \n",
    "    htmlfile.write(\"<h2>&nbsp;&nbsp; Found \" + str(len(devices)) + \" devices nearby.</h2>\\n\")\n",
    "    \n",
    "    htmlfile.write(\"<p>&nbsp;</p>\\n\")\n",
    "    \n",
    "    # Start the devices block\n",
    "    htmlfile.write(\"<div class=\\\"container-fluid\\\">\\n\")\n",
    "    \n",
    "    # Loop through each device\n",
    "    for d in devices:\n",
    "    #for d in sorted(devices, key=devices.get, reverse=True):\n",
    "        \n",
    "        # If we need to start a new row start one\n",
    "        if (deviceCount % devicesPerRow == 0):\n",
    "            htmlfile.write(\"\\t<div class=\\\"row\\\">\\n\")\n",
    "        \n",
    "        # Write our the details of a device\n",
    "        #htmlfile.write(\"\\t\\t<div class=\\\"col-sm-3\\\" style=\\\"border:solid 2px black;background-color:grey;\\\" >\\n\")\n",
    "        htmlfile.write(\"\\t\\t<div class=\\\"col-sm-4\\\">\\n\")\n",
    "        htmlfile.write(\"<div class = \\\"panel panel-default\\\">\\n\")\n",
    "        if d == briansMACAddress:\n",
    "            htmlfile.write(\"<div class = \\\"panel-heading\\\" style =\\\"background-color:red;\\\">\\n\")\n",
    "        elif d.startswith(\"bbb\"):\n",
    "            htmlfile.write(\"<div class = \\\"panel-heading\\\" style =\\\"background-color:green;\\\">\\n\")\n",
    "        else:\n",
    "            htmlfile.write(\"<div class = \\\"panel-heading\\\" style = \\\"background-color:#0033cc;\\\">\\n\")\n",
    "\n",
    "        htmlfile.write(\"<h1 class = \\\"panel-title\\\">\" + d + \"</h1>\\n\")\n",
    "        htmlfile.write(\"</div>\\n\")\n",
    "   \n",
    "        htmlfile.write(\"<div class = \\\"panel-body\\\">\\n\")\n",
    "\n",
    "        if(devices[d]['freq'] <= 5):\n",
    "            htmlfile.write(\"\\t\\t\\t<img src = \\\"./WiFi-Signal-Strength-Low.jpg\\\" width = \\\"60\\\"/>\\n\")\n",
    "        elif(devices[d]['freq'] <= 10):\n",
    "            htmlfile.write(\"\\t\\t\\t<img src = \\\"./WiFi-Signal-Strength-Lowish.jpg\\\" width = \\\"60\\\" />\\n\")\n",
    "        elif(devices[d]['freq'] <= 50):\n",
    "            htmlfile.write(\"\\t\\t\\t<img src = \\\"./WiFi-Signal-Strength-Med.jpg\\\" width = \\\"60\\\" />\\n\")\n",
    "        else:\n",
    "            htmlfile.write(\"\\t\\t\\t<img src = \\\"./WiFi-Signal-Strength-High.jpg\\\" width = \\\"60\\\" />\\n\")\n",
    "            \n",
    "        if devices[d]['manu'].find(\"Apple\") >= 0:\n",
    "            htmlfile.write(\"\\t\\t\\t<img src = \\\"./Apple.png\\\" width = \\\"40\\\"/>\\n\")\n",
    "        elif devices[d]['manu'].startswith(\"Htc\"):\n",
    "            htmlfile.write(\"\\t\\t\\t<img src = \\\"./HTC.jpg\\\" height = \\\"30\\\" />\\n\")\n",
    "        elif devices[d]['manu'].find(\"Samsung\") >= 0:\n",
    "            htmlfile.write(\"\\t\\t\\t<img src = \\\"./samsung.png\\\" height = \\\"50\\\"/>\\n\")\n",
    "        elif devices[d]['manu'].find(\"Sony\") >= 0:\n",
    "            htmlfile.write(\"\\t\\t\\t<img src = \\\"./sony.jpg\\\" height = \\\"40\\\"/>\\n\")\n",
    "\n",
    "        htmlfile.write(\"\\t\\t\\t<span style=\\\"font-size:20px;\\\" >\" + datetime.fromtimestamp(devices[d]['last_seen']).strftime('%Y-%m-$d %H:%M:%S').split(' ')[1] + \"</span>\\n\")\n",
    "  \n",
    "        #htmlfile.write(\"\\t\\t\\t<h3>Strength: \" + str(devices[d]['freq']) + \"</h3>\\n\")\n",
    "\n",
    "        #htmlfile.write(\"\\t\\t\\t<h3>\" + datetime.fromtimestamp(devices[d]['last_seen']).strftime('%Y-%m-$d %H:%M:%S').split(' ')[1] + \"</h3>\\n\")\n",
    "        htmlfile.write(\"\\t\\t\\t<br />\\n\")\n",
    "        htmlfile.write(\"\\t\\t\\t<br />\\n\")\n",
    "        \n",
    "        ssidString = \", \".join(str(e) for e in devices[d]['ssids'])\n",
    "        htmlfile.write(\"\\t\\t\\t<p>\" + ssidString + \"</p>\\n\")\n",
    "        htmlfile.write(\"</div>\\n\")\n",
    "        htmlfile.write(\"</div>\\n\")\n",
    "\n",
    "        #htmlfile.write(\"\\t\\t\\t<h1>\" + d + \"</h1>\\n\")\n",
    "        #htmlfile.write(\"\\t\\t\\t<h2>Handset: \" + devices[d]['manu'] + \" </h2>\\n\")\n",
    "        #htmlfile.write(\"\\t\\t\\t<h2>Strength: \" + str(devices[d]['freq']) + \"</h2>\\n\")\n",
    "        #htmlfile.write(\"\\t\\t\\t<h2>\" + str(devices[d]['last_seen']) + \"</h2>\\n\")\n",
    "        #ssidString = \", \".join(str(e) for e in devices[d]['ssids'])\n",
    "        #htmlfile.write(\"\\t\\t\\t<p>\" + ssidString + \"</p>\\n\")\n",
    "        htmlfile.write(\"\\t\\t</div>\\n\")\n",
    "        \n",
    "\n",
    "        deviceCount += 1\n",
    "        \n",
    "        # If we need to end a row end one\n",
    "        if (deviceCount % devicesPerRow == 0):\n",
    "            htmlfile.write(\"\\t</div>\\n\")\n",
    "    \n",
    "    # If we didn't just end a row, end one\n",
    "    if (deviceCount % devicesPerRow != 0):\n",
    "        htmlfile.write(\"\\t</div>\\n\")\n",
    "    \n",
    "    # End the block with a </div>\n",
    "    htmlfile.write(\"</div>\\n\")\n",
    "    \n",
    "\n",
    "    htmlfile.write(\"</body>\\n\")\n",
    "    htmlfile.write(\"</html>\\n\")"
   ]
  },
  {
   "cell_type": "code",
   "execution_count": 9,
   "metadata": {},
   "outputs": [
    {
     "data": {
      "text/plain": [
       "{'88:e9:fe:ed:db:c8': {'freq': 100,\n",
       "  'last_seen': 1456826413.63281,\n",
       "  'manu': 'Apple',\n",
       "  'ssids': {'Dublin Airport Free WiFi',\n",
       "   'Eurocycles',\n",
       "   'Internet@Sea',\n",
       "   'Kildare Village VIP Lounge',\n",
       "   'Meyrick Free WiFi',\n",
       "   'PorterHouseWiFi',\n",
       "   'RIA_public',\n",
       "   'Radisson_Guest',\n",
       "   'TALKTALK340B64',\n",
       "   'UCC Guest',\n",
       "   'UCD Wireless',\n",
       "   'UPC1389307',\n",
       "   '_The Vox Free Wi-Fi',\n",
       "   'mmcdonagh',\n",
       "   'platform3',\n",
       "   'the gibson hotel'}},\n",
       " 'aa:22:be:aa:ef': {'freq': 1,\n",
       "  'last_seen': 1456826413.63281,\n",
       "  'manu': 'Samsung',\n",
       "  'ssids': {'Specsavers-Nutgrove', 'UPC1389307', 'UPC542688'}},\n",
       " 'aa:1a:c0:4d:80': {'freq': 1,\n",
       "  'last_seen': 1456826413.63281,\n",
       "  'manu': 'Samsung',\n",
       "  'ssids': {'Holahan Home Router',\n",
       "   'RIA_public',\n",
       "   'UPC1378801',\n",
       "   'UPC372804',\n",
       "   'eircom73623170'}},\n",
       " '90:b6:86:ce:9f': {'freq': 1,\n",
       "  'last_seen': 1456826413.63281,\n",
       "  'manu': 'Samsung',\n",
       "  'ssids': {'Lisnagelvin Wifi', 'TALKTALK340B64', 'VoceraBadges'}}}"
      ]
     },
     "execution_count": 9,
     "metadata": {},
     "output_type": "execute_result"
    }
   ],
   "source": [
    "devices"
   ]
  },
  {
   "cell_type": "markdown",
   "metadata": {},
   "source": [
    "## Generate Wigle Map"
   ]
  },
  {
   "cell_type": "markdown",
   "metadata": {},
   "source": [
    "Read lats/longs from the wigle dump and average out lats/longs where ssid show up multiple times."
   ]
  },
  {
   "cell_type": "code",
   "execution_count": 10,
   "metadata": {},
   "outputs": [
    {
     "name": "stdout",
     "output_type": "stream",
     "text": [
      "29810\n"
     ]
    }
   ],
   "source": [
    "import json\n",
    "import string\n",
    "\n",
    "# Import the Wigle dump\n",
    "ssidList = json.loads(open('/Users/bmacnamee/Dropbox/Research/Code/WifiSniffing/wigle_merged_dumps_smaller.json').read())\n",
    "\n",
    "# Start an empty dictionary\n",
    "ssidLatLong = dict()\n",
    "\n",
    "# Loop through each ssid json object and add it to the dictionary\n",
    "for ssidObj in ssidList:\n",
    "\n",
    "    # Extract the important details from the ssid json object\n",
    "    ssidName = ssidObj[\"ssid\"] \n",
    "    \n",
    "    if(not ssidName == None and all(c in string.printable for c in ssidName) and (len(ssidName) > 3)): \n",
    "    \n",
    "        ssidName = ssidName.replace(\"&amp;\", \"\")\n",
    "        ssidName = ssidName.replace(\"&\", \"\")\n",
    "        ssidName = ssidName.replace(\"<\", \"\")\n",
    "        ssidName = ssidName.replace(\">\", \"\")\n",
    "        \n",
    "        ssidLat = ssidObj[\"trilat\"]\n",
    "        ssidLong = ssidObj[\"trilong\"]\n",
    "\n",
    "        # if the ssid is not in the dictionary yet add it\n",
    "        if not ssidName in ssidLatLong:\n",
    "\n",
    "            ssidLatLong[ssidName] = {\"lat\":ssidLat, \"long\":ssidLong, \"count\":1}\n",
    "\n",
    "        # if the ssid is already in the ditionary then average out this new entry\n",
    "        else:\n",
    "\n",
    "            ssidLatLong[ssidName][\"lat\"] = (ssidLatLong[ssidName][\"lat\"]*ssidLatLong[ssidName][\"count\"] + ssidLat)/(ssidLatLong[ssidName][\"count\"] + 1)\n",
    "            ssidLatLong[ssidName][\"long\"] = (ssidLatLong[ssidName][\"long\"]*ssidLatLong[ssidName][\"count\"] + ssidLong)/(ssidLatLong[ssidName][\"count\"] + 1)\n",
    "            ssidLatLong[ssidName][\"count\"] += 1\n",
    "\n",
    "# Manually fix UCD Wireless\n",
    "ssidLatLong[\"UCD Wireless\"] = {\"lat\":53.306688, \"long\":-6.220993, \"count\":100}\n",
    "\n",
    "print(len(ssidLatLong))\n",
    "\n"
   ]
  },
  {
   "cell_type": "markdown",
   "metadata": {},
   "source": [
    "Write out an XML file containing lat/longs of ssids spotted"
   ]
  },
  {
   "cell_type": "code",
   "execution_count": 11,
   "metadata": {},
   "outputs": [
    {
     "name": "stdout",
     "output_type": "stream",
     "text": [
      "TALKTALK340B64\n",
      "Lisnagelvin Wifi\n",
      "VoceraBadges\n",
      "PorterHouseWiFi\n",
      "Dublin Airport Free WiFi\n",
      "UCC Guest\n"
     ]
    }
   ],
   "source": [
    "# Horrible manual writing of an XML file!!!!\n",
    "with open('/Users/bmacnamee/Dropbox/Research/Code/WifiSniffing/ssidsFound.xml', 'w') as xmlfile:\n",
    "        \n",
    "    xmlfile.write(\"<?xml version=\\\"1.0\\\"?>\\n\")\n",
    "    xmlfile.write(\"<markers>\\n\")\n",
    "    \n",
    "    for ssid in ssidsFound:    \n",
    "        if ssid in ssidLatLong and ssid != None:\n",
    "            xmlfile.write(\"\\t<marker>\\n\")\n",
    "            xmlfile.write(\"\\t\\t<name>\" + ssid + \"</name>\\n\")\n",
    "            xmlfile.write(\"\\t\\t<lat>\" + str(ssidLatLong[ssid][\"lat\"]) + \"</lat>\\n\")\n",
    "            xmlfile.write(\"\\t\\t<lng>\" + str(ssidLatLong[ssid][\"long\"]) + \"</lng>\\n\")\n",
    "            if ssid.startswith(\"UPC\") or ssid.startswith(\"eircom\") or ssid.startswith(\"vodafone\") or ssid.startswith(\"BT\") or ssid.startswith(\"Vodafone\"):\n",
    "                xmlfile.write(\"\\t\\t<colour>green</colour>\\n\")\n",
    "            else:\n",
    "                xmlfile.write(\"\\t\\t<colour>red</colour>\\n\")\n",
    "            xmlfile.write(\"\\t</marker>\\n\")\n",
    "        else:\n",
    "            print(ssid)\n",
    "    xmlfile.write(\"</markers>\\n\")\n"
   ]
  },
  {
   "cell_type": "markdown",
   "metadata": {},
   "source": [
    "Write all ssids"
   ]
  },
  {
   "cell_type": "code",
   "execution_count": 12,
   "metadata": {},
   "outputs": [],
   "source": [
    "# Horrible manual writing of an XML file!!!!\n",
    "with open('/Users/bmacnamee/Dropbox/Research/Code/WifiSniffing/ssidsAll.xml', 'w') as xmlfile:\n",
    "        \n",
    "    xmlfile.write(\"<?xml version=\\\"1.0\\\"?>\\n\")\n",
    "    xmlfile.write(\"<markers>\\n\")\n",
    "    \n",
    "    for ssid in ssidLatLong:   \n",
    "        if(ssid != None) and all(c in string.printable for c in ssid):\n",
    "            xmlfile.write(\"\\t<marker>\\n\")\n",
    "            xmlfile.write(\"\\t\\t<name>\" + ssid + \"</name>\\n\")\n",
    "            xmlfile.write(\"\\t\\t<lat>\" + str(ssidLatLong[ssid][\"lat\"]) + \"</lat>\\n\")\n",
    "            xmlfile.write(\"\\t\\t<lng>\" + str(ssidLatLong[ssid][\"long\"]) + \"</lng>\\n\")\n",
    "            if ssid.startswith(\"UPC\") or ssid.startswith(\"eircom\") or ssid.startswith(\"vodafone\") or ssid.startswith(\"BT\") or ssid.startswith(\"Vodafone\"):\n",
    "                xmlfile.write(\"\\t\\t<colour>green</colour>\\n\")\n",
    "            else:\n",
    "                xmlfile.write(\"\\t\\t<colour>red</colour>\\n\")\n",
    "            xmlfile.write(\"\\t</marker>\\n\")\n",
    "\n",
    "    xmlfile.write(\"</markers>\\n\")\n",
    "        "
   ]
  },
  {
   "cell_type": "markdown",
   "metadata": {},
   "source": [
    "Write out a version with just my details"
   ]
  },
  {
   "cell_type": "code",
   "execution_count": 13,
   "metadata": {},
   "outputs": [],
   "source": [
    "# Horrible manual writing of an XML file!!!!\n",
    "with open('/Users/bmacnamee/Dropbox/Research/Code/WifiSniffing/ssidsFoundBMN.xml', 'w') as xmlfile:\n",
    "        \n",
    "    xmlfile.write(\"<?xml version=\\\"1.0\\\"?>\\n\")\n",
    "    xmlfile.write(\"<markers>\\n\")\n",
    "    \n",
    "    for ssid in devices[briansMACAddress][\"ssids\"]:    \n",
    "        if ssid in ssidLatLong and ssid != None:\n",
    "            xmlfile.write(\"\\t<marker>\\n\")\n",
    "            xmlfile.write(\"\\t\\t<name>\" + ssid + \"</name>\\n\")\n",
    "            xmlfile.write(\"\\t\\t<lat>\" + str(ssidLatLong[ssid][\"lat\"]) + \"</lat>\\n\")\n",
    "            xmlfile.write(\"\\t\\t<lng>\" + str(ssidLatLong[ssid][\"long\"]) + \"</lng>\\n\")\n",
    "            if ssid.startswith(\"UPC\") or ssid.startswith(\"eircom\") or ssid.startswith(\"vodafone\") or ssid.startswith(\"BT\") or ssid.startswith(\"Vodafone\"):\n",
    "                xmlfile.write(\"\\t\\t<colour>green</colour>\\n\")\n",
    "            else:\n",
    "                xmlfile.write(\"\\t\\t<colour>red</colour>\\n\")\n",
    "            xmlfile.write(\"\\t</marker>\\n\")\n",
    "\n",
    "    xmlfile.write(\"</markers>\\n\")\n",
    "        "
   ]
  },
  {
   "cell_type": "markdown",
   "metadata": {},
   "source": [
    "Analyse sniffed packets"
   ]
  },
  {
   "cell_type": "code",
   "execution_count": 14,
   "metadata": {},
   "outputs": [
    {
     "name": "stdout",
     "output_type": "stream",
     "text": [
      "88:e9:fe:ed:db:c8 100 Apple Dublin Airport Free WiFi | the gibson hotel | RIA_public | TALKTALK340B64 | platform3 | UPC1389307 | Internet@Sea | PorterHouseWiFi | mmcdonagh | _The Vox Free Wi-Fi | Kildare Village VIP Lounge | Meyrick Free WiFi | UCC Guest | UCD Wireless | Eurocycles | Radisson_Guest 1456826413.63281\n",
      "aa:22:be:aa:ef 1 Samsung UPC1389307 | UPC542688 | Specsavers-Nutgrove 1456826413.63281\n",
      "aa:1a:c0:4d:80 1 Samsung RIA_public | Holahan Home Router | UPC372804 | UPC1378801 | eircom73623170 1456826413.63281\n",
      "90:b6:86:ce:9f 1 Samsung Lisnagelvin Wifi | VoceraBadges | TALKTALK340B64 1456826413.63281\n"
     ]
    }
   ],
   "source": [
    "for d in devices:\n",
    "    ssidString = \" | \".join(str(e) for e in devices[d]['ssids'])\n",
    "    print(d + \" \" + str(devices[d]['freq']) + \" \" + devices[d]['manu'] + \" \" + ssidString + \" \" + str(devices[d]['last_seen']))"
   ]
  },
  {
   "cell_type": "markdown",
   "metadata": {},
   "source": [
    "## Open Display Pages"
   ]
  },
  {
   "cell_type": "code",
   "execution_count": 15,
   "metadata": {},
   "outputs": [
    {
     "data": {
      "text/plain": [
       "True"
      ]
     },
     "execution_count": 15,
     "metadata": {},
     "output_type": "execute_result"
    }
   ],
   "source": [
    "import webbrowser\n",
    "\n",
    "url3 = 'file:///Users/bmacnamee/Dropbox/Research/Code/WifiSniffing/markersBMN.html'\n",
    "webbrowser.open(url3)\n",
    "\n",
    "url2 = 'file:///Users/bmacnamee/Dropbox/Research/Code/WifiSniffing/markers.html'\n",
    "webbrowser.open(url2)\n",
    "\n",
    "url1 = 'file:///Users/bmacnamee/Dropbox/Research/Code/WifiSniffing/devicesFound.html'\n",
    "webbrowser.open(url1)"
   ]
  },
  {
   "cell_type": "code",
   "execution_count": null,
   "metadata": {},
   "outputs": [],
   "source": []
  }
 ],
 "metadata": {
  "anaconda-cloud": {},
  "kernelspec": {
   "display_name": "Python 3",
   "language": "python",
   "name": "python3"
  },
  "language_info": {
   "codemirror_mode": {
    "name": "ipython",
    "version": 3
   },
   "file_extension": ".py",
   "mimetype": "text/x-python",
   "name": "python",
   "nbconvert_exporter": "python",
   "pygments_lexer": "ipython3",
   "version": "3.6.7"
  }
 },
 "nbformat": 4,
 "nbformat_minor": 1
}
