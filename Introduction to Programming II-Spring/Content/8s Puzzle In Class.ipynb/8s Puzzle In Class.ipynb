{
 "cells": [
  {
   "cell_type": "markdown",
   "metadata": {},
   "source": [
    "# Implementing The 8s Puzzle\n",
    "March 2020"
   ]
  },
  {
   "cell_type": "code",
   "execution_count": 4,
   "metadata": {},
   "outputs": [],
   "source": [
    "class Tile:\n",
    "    \n",
    "    def __init__(self, label):\n",
    "        self.label = label\n",
    "        \n",
    "    def show(self):\n",
    "        print('|', self.label, '|')"
   ]
  },
  {
   "cell_type": "code",
   "execution_count": 5,
   "metadata": {},
   "outputs": [],
   "source": [
    "class Puzzle:\n",
    "    \n",
    "    def __init__(self, size):\n",
    "        \n",
    "        self.size = size\n",
    "        self.tiles = dict()\n",
    "        for row in range(size):\n",
    "            for col in range(size):\n",
    "                if (row == size -1 and col == size - 1):\n",
    "                    t = Tile(\" \")\n",
    "                else:\n",
    "                    t = Tile(str(row*size + col))\n",
    "                self.tiles[(row,col)] = t\n",
    "        \n",
    "    def addTile(self, newTile):\n",
    "        self.tiles.append(newTile)\n",
    "        \n",
    "    def show(self):\n",
    "        for row in range(self.size):\n",
    "            row_string = \"|\"\n",
    "            for col in range(self.size):\n",
    "                row_string = row_string + self.tiles[(row, col)].label + \"|\"\n",
    "            print(row_string)\n",
    "                \n"
   ]
  },
  {
   "cell_type": "code",
   "execution_count": 8,
   "metadata": {},
   "outputs": [],
   "source": [
    "p = Puzzle(4)"
   ]
  },
  {
   "cell_type": "code",
   "execution_count": 9,
   "metadata": {},
   "outputs": [
    {
     "name": "stdout",
     "output_type": "stream",
     "text": [
      "|0|1|2|3|\n",
      "|4|5|6|7|\n",
      "|8|9|10|11|\n",
      "|12|13|14| |\n"
     ]
    }
   ],
   "source": [
    "p.show()"
   ]
  },
  {
   "cell_type": "code",
   "execution_count": null,
   "metadata": {},
   "outputs": [],
   "source": []
  }
 ],
 "metadata": {
  "kernelspec": {
   "display_name": "Python 3",
   "language": "python",
   "name": "python3"
  },
  "language_info": {
   "codemirror_mode": {
    "name": "ipython",
    "version": 3
   },
   "file_extension": ".py",
   "mimetype": "text/x-python",
   "name": "python",
   "nbconvert_exporter": "python",
   "pygments_lexer": "ipython3",
   "version": "3.6.7"
  }
 },
 "nbformat": 4,
 "nbformat_minor": 2
}
