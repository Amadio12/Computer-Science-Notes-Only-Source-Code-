{
 "cells": [
  {
   "cell_type": "markdown",
   "metadata": {},
   "source": [
    "# Simulating The Monty Hall Problem"
   ]
  },
  {
   "cell_type": "markdown",
   "metadata": {},
   "source": [
    "A function to play an instance of the Monty Hall problem"
   ]
  },
  {
   "cell_type": "code",
   "execution_count": null,
   "metadata": {},
   "outputs": [],
   "source": [
    "import random \n",
    "\n",
    "\n",
    "def play_monty_hall(strategy = \"stick\"):\n",
    "\n",
    "    # Set up choice of three doors\n",
    "    doors = [1,2,3]\n",
    "        \n",
    "    # Randomly select the wining door for this round\n",
    "    winning_door = random.choice(doors)\n",
    "    \n",
    "    # Randomly pick the player's door for this round\n",
    "    player_door = random.choice(doors)\n",
    "\n",
    "    # Randomly select one of the losing doors to reveal to the player\n",
    "    temp_doors = list(doors)\n",
    "    temp_doors.remove(player_door)\n",
    "    if(winning_door != player_door):\n",
    "        temp_doors.remove(winning_door)\n",
    "    reveal_door = random.choice(temp_doors)\n",
    "        \n",
    "    # If the straetgy is to switch after the reveal then do it!\n",
    "    if(strategy == \"switch\"):\n",
    "        temp_doors = list(doors)\n",
    "        temp_doors.remove(player_door)\n",
    "        temp_doors.remove(reveal_door)\n",
    "        player_door = temp_doors[0]\n",
    "        \n",
    "    if(winning_door == player_door):\n",
    "        result = \"win\"\n",
    "    else:\n",
    "        result = \"lose\"\n",
    "    \n",
    "    return result\n"
   ]
  },
  {
   "cell_type": "markdown",
   "metadata": {},
   "source": [
    "A function to play multiple instances of the monty Hall probm using a particular strategy (stick or switch)"
   ]
  },
  {
   "cell_type": "code",
   "execution_count": null,
   "metadata": {},
   "outputs": [],
   "source": [
    "import matplotlib.pyplot as plt\n",
    "    \n",
    "def play_many_monty_halls(num_runs = 1000, strategy = \"stick\"):\n",
    "    \n",
    "    wins = 0 \n",
    "    losses = 0\n",
    "\n",
    "    for i in range(num_runs):\n",
    "        result = play_monty_hall(strategy)\n",
    "        if result == \"win\":\n",
    "            wins = wins + 1\n",
    "        else:\n",
    "            losses = losses + 1\n",
    "\n",
    "    win_rate = wins/num_runs\n",
    "\n",
    "    print(\"Games: \" + str(num_runs))\n",
    "    print(\"Wins: \" + str(wins))\n",
    "    print(\"Losses: \" + str(losses))\n",
    "    print(\"Win rate: \" + str(win_rate))\n",
    "    \n",
    "    # Draw a pie chart of win/loss rate\n",
    "    plt.rcParams.update({'font.size': 22})\n",
    "    plt.figure(figsize = (6, 6))\n",
    "    plt.pie([wins, losses], labels=[\"Wins\", \"Losses\"], colors=[\"green\", \"red\"], startangle=90)\n",
    "    plt.show()"
   ]
  },
  {
   "cell_type": "markdown",
   "metadata": {},
   "source": [
    "Run 10000 games of Monty Hall using the stick strategy"
   ]
  },
  {
   "cell_type": "code",
   "execution_count": null,
   "metadata": {},
   "outputs": [],
   "source": [
    "play_many_monty_halls(100000, \"stick\")"
   ]
  },
  {
   "cell_type": "markdown",
   "metadata": {},
   "source": [
    "Run 10000 games of Monty Hall using the switch strategy"
   ]
  },
  {
   "cell_type": "code",
   "execution_count": null,
   "metadata": {},
   "outputs": [],
   "source": [
    "play_many_monty_halls(100000, \"switch\")"
   ]
  },
  {
   "cell_type": "code",
   "execution_count": null,
   "metadata": {},
   "outputs": [],
   "source": []
  },
  {
   "cell_type": "code",
   "execution_count": null,
   "metadata": {},
   "outputs": [],
   "source": []
  }
 ],
 "metadata": {
  "anaconda-cloud": {},
  "kernelspec": {
   "display_name": "Python 3",
   "language": "python",
   "name": "python3"
  },
  "language_info": {
   "codemirror_mode": {
    "name": "ipython",
    "version": 3
   },
   "file_extension": ".py",
   "mimetype": "text/x-python",
   "name": "python",
   "nbconvert_exporter": "python",
   "pygments_lexer": "ipython3",
   "version": "3.6.4"
  }
 },
 "nbformat": 4,
 "nbformat_minor": 1
}
