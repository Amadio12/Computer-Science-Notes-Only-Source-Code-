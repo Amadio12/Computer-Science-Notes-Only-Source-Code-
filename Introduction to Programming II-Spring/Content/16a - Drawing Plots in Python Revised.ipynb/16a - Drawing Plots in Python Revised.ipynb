{
 "cells": [
  {
   "cell_type": "markdown",
   "metadata": {},
   "source": [
    "# Drawing Plots in Python"
   ]
  },
  {
   "cell_type": "markdown",
   "metadata": {},
   "source": [
    "**Matplotlib** is a great data visualisation package that we can use in Python to draw data visualisations. In this notebook we will look at making basic data visualisation building blocks. "
   ]
  },
  {
   "cell_type": "markdown",
   "metadata": {},
   "source": [
    "Import Matplotlib, and note the use of the inline command to make vicualsiations work with iPython notebook."
   ]
  },
  {
   "cell_type": "code",
   "execution_count": null,
   "metadata": {},
   "outputs": [],
   "source": [
    "import matplotlib\n",
    "import matplotlib.pyplot as plt\n",
    "import numpy as np\n",
    "import pandas as pd"
   ]
  },
  {
   "cell_type": "markdown",
   "metadata": {},
   "source": [
    "To get plots to appear in our Jupyter notebook we need to use the following Jupyter \"magic command\""
   ]
  },
  {
   "cell_type": "code",
   "execution_count": null,
   "metadata": {},
   "outputs": [],
   "source": [
    "%matplotlib inline"
   ]
  },
  {
   "cell_type": "markdown",
   "metadata": {},
   "source": [
    "We can also explictily pass a list of index values to the Series method so as to use a more intersting index. For example:"
   ]
  },
  {
   "cell_type": "code",
   "execution_count": null,
   "metadata": {},
   "outputs": [],
   "source": [
    "populations = pd.Series([1357000000, 1200000000, 321068000, 249900000, 249900000, 200400000, 191854000], \n",
    "                        [\"China\", \"India\", \"United States\", \"Indonesia\", \"Qumar\", \"Brazil\", \"Pakistan\"])\n",
    "print(populations)"
   ]
  },
  {
   "cell_type": "markdown",
   "metadata": {},
   "source": [
    "### Basic Statistical Visualisations"
   ]
  },
  {
   "cell_type": "markdown",
   "metadata": {},
   "source": [
    "#### Bar chart"
   ]
  },
  {
   "cell_type": "code",
   "execution_count": null,
   "metadata": {},
   "outputs": [],
   "source": [
    "populations.plot(kind = \"bar\", \\\n",
    "                 title=\"National Populations\")"
   ]
  },
  {
   "cell_type": "markdown",
   "metadata": {},
   "source": [
    "#### Horizontal bar chart"
   ]
  },
  {
   "cell_type": "code",
   "execution_count": null,
   "metadata": {},
   "outputs": [],
   "source": [
    "populations.plot(kind = \"barh\", \\\n",
    "                 title=\"National Populations\")"
   ]
  },
  {
   "cell_type": "code",
   "execution_count": null,
   "metadata": {},
   "outputs": [],
   "source": [
    "populations.plot(kind = \"barh\", \\\n",
    "                 title=\"National Populations\", \\\n",
    "                 xlim = (0, 1500000000))"
   ]
  },
  {
   "cell_type": "code",
   "execution_count": null,
   "metadata": {},
   "outputs": [],
   "source": [
    "populations.plot(kind = \"barh\", \\\n",
    "                 title=\"National Populations\", \\\n",
    "                 xlim = (0, 1500000000), \\\n",
    "                 grid=True)"
   ]
  },
  {
   "cell_type": "code",
   "execution_count": null,
   "metadata": {
    "scrolled": true
   },
   "outputs": [],
   "source": [
    "populations.plot(kind = \"barh\", title=\"National Populations\", \\\n",
    "                 xlim = (0, 1500000000), \\\n",
    "                 grid=True, \n",
    "                 xticks=(0, 500000000, 1000000000, 1500000000))"
   ]
  },
  {
   "cell_type": "markdown",
   "metadata": {},
   "source": [
    "We can easily change the colours of the bars in a bar plot using the *color* attribute."
   ]
  },
  {
   "cell_type": "code",
   "execution_count": null,
   "metadata": {
    "scrolled": true
   },
   "outputs": [],
   "source": [
    "populations.plot(kind = \"barh\", \\\n",
    "                 title=\"National Populations\", \\\n",
    "                 xlim = (0, 1500000000), \\\n",
    "                 grid=True, \\\n",
    "                 xticks=(0, 500000000, 1000000000, 1500000000), \\\n",
    "                 color = ['lemonchiffon', '#00ff00', 'blue'])"
   ]
  },
  {
   "cell_type": "markdown",
   "metadata": {},
   "source": [
    "Full list of named matplotlib colours is availabe [here](http://matplotlib.org/examples/color/named_colors.html)"
   ]
  },
  {
   "cell_type": "code",
   "execution_count": null,
   "metadata": {
    "scrolled": true
   },
   "outputs": [],
   "source": [
    "populations.plot(kind = \"barh\", \\\n",
    "                 title=\"National Populations\", \\\n",
    "                 xlim = (0, 1500000000), \\\n",
    "                 grid=True, xticks=(0, 500000000, 1000000000, 1500000000), \\\n",
    "                 color = 'slateblue')"
   ]
  },
  {
   "cell_type": "code",
   "execution_count": null,
   "metadata": {},
   "outputs": [],
   "source": [
    "populations.plot(kind = \"barh\", \\\n",
    "                 title=\"National Populations\", \\\n",
    "                 xlim = (0, 1500000000), \\\n",
    "                 color = 'blue')"
   ]
  },
  {
   "cell_type": "markdown",
   "metadata": {},
   "source": [
    "Or we can give colours as RGB values in hex code"
   ]
  },
  {
   "cell_type": "code",
   "execution_count": null,
   "metadata": {},
   "outputs": [],
   "source": [
    "populations.plot(kind = \"barh\", title=\"National Populations\", xlim = (0, 1500000000), grid=True, xticks=(0, 500000000, 1000000000, 1500000000), color = '#007700')"
   ]
  },
  {
   "cell_type": "markdown",
   "metadata": {},
   "source": [
    "#### Bar Charts For Categorical Distributions"
   ]
  },
  {
   "cell_type": "markdown",
   "metadata": {},
   "source": [
    "If we have a categorical series we first need to generate a frequency table before plotting abar chart"
   ]
  },
  {
   "cell_type": "code",
   "execution_count": null,
   "metadata": {},
   "outputs": [],
   "source": [
    "parties = ['FG', 'FF', 'IO', 'SF', 'Lab', 'AAA-PBP', 'SD', 'GP', 'RI']\n",
    "votes = pd.Series(np.random.choice(parties, 100000, p=[0.25, 0.24, 0.18, 0.14, 0.066, 0.040, 0.035, 0.027, 0.022]))\n",
    "print(votes)"
   ]
  },
  {
   "cell_type": "code",
   "execution_count": null,
   "metadata": {},
   "outputs": [],
   "source": [
    "votes.plot(kind=\"bar\")"
   ]
  },
  {
   "cell_type": "code",
   "execution_count": null,
   "metadata": {},
   "outputs": [],
   "source": [
    "vc = votes.value_counts()\n",
    "vc"
   ]
  },
  {
   "cell_type": "code",
   "execution_count": null,
   "metadata": {},
   "outputs": [],
   "source": [
    "vc.plot(kind = 'bar', color = 'green')"
   ]
  },
  {
   "cell_type": "markdown",
   "metadata": {},
   "source": [
    "#### Pie Chart"
   ]
  },
  {
   "cell_type": "code",
   "execution_count": null,
   "metadata": {},
   "outputs": [],
   "source": [
    "vc.plot(kind = \"pie\", \\\n",
    "        title=\"Vote result\")"
   ]
  },
  {
   "cell_type": "code",
   "execution_count": null,
   "metadata": {},
   "outputs": [],
   "source": [
    "vc.plot(kind = \"pie\", \\\n",
    "                 title=\"Votes\", \\\n",
    "                figsize=(6,6))"
   ]
  },
  {
   "cell_type": "code",
   "execution_count": null,
   "metadata": {
    "scrolled": false
   },
   "outputs": [],
   "source": [
    "vc.plot(kind = \"pie\", \\\n",
    "                 title=\"Votes\", \\\n",
    "                 figsize=(6,6), \\\n",
    "                 colormap = \"Accent\")"
   ]
  },
  {
   "cell_type": "markdown",
   "metadata": {},
   "source": [
    "#### Histograms"
   ]
  },
  {
   "cell_type": "markdown",
   "metadata": {},
   "source": [
    "Generate some data for histograms"
   ]
  },
  {
   "cell_type": "code",
   "execution_count": null,
   "metadata": {},
   "outputs": [],
   "source": [
    "mu = 165\n",
    "sigma = 20\n",
    "heights = pd.Series(np.random.normal(mu, sigma, 1000))\n",
    "heights"
   ]
  },
  {
   "cell_type": "code",
   "execution_count": null,
   "metadata": {
    "scrolled": true
   },
   "outputs": [],
   "source": [
    "heights.plot(kind=\"hist\", \\\n",
    "             title = \"Student Heights\", \\\n",
    "             xlim = (0, 250), bins = 25)"
   ]
  },
  {
   "cell_type": "code",
   "execution_count": null,
   "metadata": {},
   "outputs": [],
   "source": [
    "heights.hist(bins = 20)"
   ]
  },
  {
   "cell_type": "markdown",
   "metadata": {},
   "source": [
    "#### Box plots"
   ]
  },
  {
   "cell_type": "code",
   "execution_count": null,
   "metadata": {
    "scrolled": true
   },
   "outputs": [],
   "source": [
    "heights.plot(kind=\"box\", title = \"Student Heights\")"
   ]
  },
  {
   "cell_type": "markdown",
   "metadata": {},
   "source": [
    "#### Multiple Box Plots"
   ]
  },
  {
   "cell_type": "code",
   "execution_count": null,
   "metadata": {},
   "outputs": [],
   "source": [
    "mu = 165\n",
    "sigma = 20\n",
    "student_heights = pd.Series(np.random.normal(mu, sigma, 1000))\n",
    "student_heights\n",
    "\n",
    "mu = 220\n",
    "sigma = 20\n",
    "bball_heights = pd.Series(np.random.normal(mu, sigma, 1000))\n",
    "bball_heights\n",
    "\n",
    "height = pd.Series(student_heights)\n",
    "height = height.append(bball_heights, ignore_index = True)\n",
    "\n",
    "category = [\"student\"]*1000 +[\"bball_player\"]*1000\n",
    "category = pd.Series(category)\n",
    "\n",
    "heights = pd.DataFrame({\"height\":height, \"category\":category})\n",
    "heights.tail()"
   ]
  },
  {
   "cell_type": "code",
   "execution_count": null,
   "metadata": {},
   "outputs": [],
   "source": [
    "heights.boxplot(column = \"height\", by = \"category\", figsize = (8,6), grid = False)"
   ]
  },
  {
   "cell_type": "markdown",
   "metadata": {},
   "source": [
    "#### Density plots"
   ]
  },
  {
   "cell_type": "code",
   "execution_count": null,
   "metadata": {
    "scrolled": true
   },
   "outputs": [],
   "source": [
    "heights.plot(kind=\"kde\", title = \"Student Heights\", ylim = (0, 0.03))"
   ]
  },
  {
   "cell_type": "markdown",
   "metadata": {},
   "source": [
    "#### Line plots"
   ]
  },
  {
   "cell_type": "markdown",
   "metadata": {},
   "source": [
    "Generate some time series data for line and area plots."
   ]
  },
  {
   "cell_type": "code",
   "execution_count": null,
   "metadata": {},
   "outputs": [],
   "source": [
    "ts = pd.Series(np.random.randn(1000), index=pd.date_range('1/1/2015', periods=1000))\n",
    "ts = ts.cumsum()\n",
    "ts"
   ]
  },
  {
   "cell_type": "code",
   "execution_count": null,
   "metadata": {
    "scrolled": true
   },
   "outputs": [],
   "source": [
    "ts.plot(kind = \"line\", title = \"Price\")"
   ]
  },
  {
   "cell_type": "markdown",
   "metadata": {},
   "source": [
    "#### Area Plot"
   ]
  },
  {
   "cell_type": "code",
   "execution_count": null,
   "metadata": {
    "scrolled": true
   },
   "outputs": [],
   "source": [
    "ts.plot(kind = \"area\", title = \"Price\", stacked= False)"
   ]
  },
  {
   "cell_type": "markdown",
   "metadata": {},
   "source": [
    "### Scatter Plots"
   ]
  },
  {
   "cell_type": "markdown",
   "metadata": {},
   "source": [
    "Scatter plots are great for displaying relationships between variables."
   ]
  },
  {
   "cell_type": "markdown",
   "metadata": {},
   "source": [
    "Load a dataset so we can look at some scatter plots."
   ]
  },
  {
   "cell_type": "code",
   "execution_count": null,
   "metadata": {
    "scrolled": true
   },
   "outputs": [],
   "source": [
    "PAYE_Fraud = pd.read_csv(\"PAYE_Fraud.csv\")\n",
    "display(PAYE_Fraud.head())\n",
    "PAYE_Fraud.shape"
   ]
  },
  {
   "cell_type": "code",
   "execution_count": null,
   "metadata": {},
   "outputs": [],
   "source": [
    "plt.figure(figsize=(10, 10))\n",
    "plt.scatter(PAYE_Fraud[\"TaxPaid\"], \\\n",
    "            PAYE_Fraud[\"TotalIncome\"], alpha= 0.4)"
   ]
  },
  {
   "cell_type": "code",
   "execution_count": null,
   "metadata": {},
   "outputs": [],
   "source": [
    "plt.figure(figsize=(10, 10))\n",
    "plt.scatter(PAYE_Fraud[\"TaxPaid\"], \\\n",
    "            PAYE_Fraud[\"YearsInCurrentEmployment\"], \\\n",
    "            s = PAYE_Fraud[\"TotalIncome\"]/1000)"
   ]
  },
  {
   "cell_type": "code",
   "execution_count": null,
   "metadata": {},
   "outputs": [],
   "source": [
    "plt.figure(figsize=(10, 10))\n",
    "colMap = {\"Employed\":\"Red\", 'Self-Employed':\"Green\", \"Casual\":\"Blue\"}\n",
    "plt.scatter(PAYE_Fraud[\"TaxPaid\"], \\\n",
    "            PAYE_Fraud[\"YearsInCurrentEmployment\"], \\\n",
    "            c = PAYE_Fraud[\"OccupationType\"].map(colMap), \\\n",
    "            alpha=0.2)"
   ]
  },
  {
   "cell_type": "markdown",
   "metadata": {},
   "source": [
    "A **scatter plot matrix** or **SPLOM** is a nice way to create a set of scatter plots for a collection of variables. **pandas** has a fucntion, **scatter_matrix** to draw scatter plot matrices."
   ]
  },
  {
   "cell_type": "code",
   "execution_count": null,
   "metadata": {},
   "outputs": [],
   "source": [
    "from pandas.plotting import scatter_matrix\n",
    "_ = scatter_matrix(PAYE_Fraud[[\"YearsInCurrentEmployment\", \"NumPreviousEmployments\", \"TotalIncome\", \"TaxableIncome\"]], \\\n",
    "                   alpha=0.2, figsize=(10, 10), diagonal='hist')"
   ]
  },
  {
   "cell_type": "markdown",
   "metadata": {},
   "source": [
    "A **hexbin** plot is an alternative to a simple scatter plot that solves a problem that arises when datasets are very large. We use the **seaborn** package to draw hexbin plots."
   ]
  },
  {
   "cell_type": "code",
   "execution_count": null,
   "metadata": {},
   "outputs": [],
   "source": [
    "import seaborn as sns\n",
    "from scipy.stats import kendalltau # Used for performing a correlation test between varaibles in hexbin\n",
    "sns.set(style=\"ticks\") # Makes for nicer looking histograms"
   ]
  },
  {
   "cell_type": "code",
   "execution_count": null,
   "metadata": {},
   "outputs": [],
   "source": [
    "sns.jointplot(PAYE_Fraud[\"TaxPaid\"], PAYE_Fraud[\"YearsInCurrentEmployment\"], kind=\"hex\", stat_func=kendalltau, color=\"#4CB391\")"
   ]
  },
  {
   "cell_type": "code",
   "execution_count": null,
   "metadata": {},
   "outputs": [],
   "source": [
    "sns.jointplot(PAYE_Fraud[\"EffectiveTaxRate\"], PAYE_Fraud[\"TaxableIncome\"], kind=\"hex\", stat_func=kendalltau, color=\"red\")"
   ]
  },
  {
   "cell_type": "markdown",
   "metadata": {
    "collapsed": true
   },
   "source": [
    "### matplotlib Styles"
   ]
  },
  {
   "cell_type": "markdown",
   "metadata": {},
   "source": [
    "We can change styles in matplotlib easily"
   ]
  },
  {
   "cell_type": "code",
   "execution_count": null,
   "metadata": {},
   "outputs": [],
   "source": [
    "populations.plot(kind = \"barh\", title=\"National Populations\")"
   ]
  },
  {
   "cell_type": "code",
   "execution_count": null,
   "metadata": {},
   "outputs": [],
   "source": [
    "matplotlib.style.use('ggplot')\n",
    "populations.plot(kind = \"barh\", title=\"National Populations\")"
   ]
  },
  {
   "cell_type": "code",
   "execution_count": null,
   "metadata": {},
   "outputs": [],
   "source": [
    "matplotlib.style.use('fivethirtyeight')\n",
    "populations.plot(kind = \"barh\", title=\"National Populations\")"
   ]
  },
  {
   "cell_type": "code",
   "execution_count": null,
   "metadata": {},
   "outputs": [],
   "source": [
    "matplotlib.style.use('seaborn-colorblind')\n",
    "populations.plot(kind = \"barh\", title=\"National Populations\")"
   ]
  },
  {
   "cell_type": "code",
   "execution_count": null,
   "metadata": {
    "scrolled": true
   },
   "outputs": [],
   "source": [
    "plt.xkcd()\n",
    "populations.plot(kind = \"barh\", title=\"National Populations\")"
   ]
  },
  {
   "cell_type": "markdown",
   "metadata": {},
   "source": [
    "### Saving Plots"
   ]
  },
  {
   "cell_type": "markdown",
   "metadata": {},
   "source": [
    "We can easily save plots we generate in our notebooks."
   ]
  },
  {
   "cell_type": "code",
   "execution_count": null,
   "metadata": {},
   "outputs": [],
   "source": [
    "populations.plot(kind = \"barh\", title=\"National Populations\")\n",
    "plt.savefig('barplot.pdf')"
   ]
  },
  {
   "cell_type": "code",
   "execution_count": null,
   "metadata": {},
   "outputs": [],
   "source": []
  }
 ],
 "metadata": {
  "kernelspec": {
   "display_name": "Python 3",
   "language": "python",
   "name": "python3"
  },
  "language_info": {
   "codemirror_mode": {
    "name": "ipython",
    "version": 3
   },
   "file_extension": ".py",
   "mimetype": "text/x-python",
   "name": "python",
   "nbconvert_exporter": "python",
   "pygments_lexer": "ipython3",
   "version": "3.6.7"
  }
 },
 "nbformat": 4,
 "nbformat_minor": 1
}
